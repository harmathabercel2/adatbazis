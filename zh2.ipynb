{
    "metadata": {
        "kernelspec": {
            "name": "SQL",
            "display_name": "SQL",
            "language": "sql"
        },
        "language_info": {
            "name": "sql",
            "version": ""
        }
    },
    "nbformat_minor": 2,
    "nbformat": 4,
    "cells": [
        {
            "cell_type": "code",
            "source": [
                "SELECT IIF(GROUPING_ID(szo.SZOBA_ID) = 1, 'Végösszeg', CAST(szo.SZOBA_ID as nvarchar(4))) AS 'Szoba ID',\r\n",
                "       CASE \r\n",
                "         WHEN GROUPING_ID(szo.SZOBA_ID, Year(f.METTOL)) = 1 THEN 'Részösszeg'\r\n",
                "         WHEN GROUPING_ID(szo.SZOBA_ID, Year(f.METTOL)) = 3 THEN 'Végösszeg'\r\n",
                "         ELSE CAST(Year(f.METTOL) as nvarchar)\r\n",
                "        END AS 'Év' \r\n",
                "FROM SZOBA szo\r\n",
                "    INNER JOIN Szallashely sza ON sza.SZALLAS_ID = szo.SZALLAS_FK\r\n",
                "    INNER JOIN Foglalas f ON f.SZOBA_FK =szo.SZOBA_ID\r\n",
                "GROUP BY ROLLUP(szo.SZOBA_ID, Year(f.METTOL))"
            ],
            "metadata": {
                "azdata_cell_guid": "5cc21f46-7343-412e-b08a-13eff7a519e3",
                "language": "sql"
            },
            "outputs": [
                {
                    "output_type": "display_data",
                    "data": {
                        "text/html": "(513 rows affected)"
                    },
                    "metadata": {}
                },
                {
                    "output_type": "display_data",
                    "data": {
                        "text/html": "Total execution time: 00:00:00.050"
                    },
                    "metadata": {}
                },
                {
                    "output_type": "execute_result",
                    "metadata": {},
                    "execution_count": 7,
                    "data": {
                        "application/vnd.dataresource+json": {
                            "schema": {
                                "fields": [
                                    {
                                        "name": "Szoba ID"
                                    },
                                    {
                                        "name": "Év"
                                    }
                                ]
                            },
                            "data": [
                                {
                                    "Szoba ID": "1",
                                    "Év": "2016"
                                },
                                {
                                    "Szoba ID": "1",
                                    "Év": "Részösszeg"
                                },
                                {
                                    "Szoba ID": "2",
                                    "Év": "2016"
                                },
                                {
                                    "Szoba ID": "2",
                                    "Év": "Részösszeg"
                                },
                                {
                                    "Szoba ID": "3",
                                    "Év": "2016"
                                },
                                {
                                    "Szoba ID": "3",
                                    "Év": "2017"
                                },
                                {
                                    "Szoba ID": "3",
                                    "Év": "Részösszeg"
                                },
                                {
                                    "Szoba ID": "4",
                                    "Év": "2016"
                                },
                                {
                                    "Szoba ID": "4",
                                    "Év": "2017"
                                },
                                {
                                    "Szoba ID": "4",
                                    "Év": "Részösszeg"
                                },
                                {
                                    "Szoba ID": "5",
                                    "Év": "2016"
                                },
                                {
                                    "Szoba ID": "5",
                                    "Év": "Részösszeg"
                                },
                                {
                                    "Szoba ID": "6",
                                    "Év": "2016"
                                },
                                {
                                    "Szoba ID": "6",
                                    "Év": "Részösszeg"
                                },
                                {
                                    "Szoba ID": "7",
                                    "Év": "2016"
                                },
                                {
                                    "Szoba ID": "7",
                                    "Év": "Részösszeg"
                                },
                                {
                                    "Szoba ID": "8",
                                    "Év": "2016"
                                },
                                {
                                    "Szoba ID": "8",
                                    "Év": "Részösszeg"
                                },
                                {
                                    "Szoba ID": "9",
                                    "Év": "2016"
                                },
                                {
                                    "Szoba ID": "9",
                                    "Év": "2017"
                                },
                                {
                                    "Szoba ID": "9",
                                    "Év": "Részösszeg"
                                },
                                {
                                    "Szoba ID": "10",
                                    "Év": "2016"
                                },
                                {
                                    "Szoba ID": "10",
                                    "Év": "Részösszeg"
                                },
                                {
                                    "Szoba ID": "11",
                                    "Év": "2016"
                                },
                                {
                                    "Szoba ID": "11",
                                    "Év": "2017"
                                },
                                {
                                    "Szoba ID": "11",
                                    "Év": "Részösszeg"
                                },
                                {
                                    "Szoba ID": "12",
                                    "Év": "2016"
                                },
                                {
                                    "Szoba ID": "12",
                                    "Év": "2017"
                                },
                                {
                                    "Szoba ID": "12",
                                    "Év": "Részösszeg"
                                },
                                {
                                    "Szoba ID": "13",
                                    "Év": "2016"
                                },
                                {
                                    "Szoba ID": "13",
                                    "Év": "2017"
                                },
                                {
                                    "Szoba ID": "13",
                                    "Év": "Részösszeg"
                                },
                                {
                                    "Szoba ID": "14",
                                    "Év": "2016"
                                },
                                {
                                    "Szoba ID": "14",
                                    "Év": "2017"
                                },
                                {
                                    "Szoba ID": "14",
                                    "Év": "Részösszeg"
                                },
                                {
                                    "Szoba ID": "15",
                                    "Év": "2016"
                                },
                                {
                                    "Szoba ID": "15",
                                    "Év": "2017"
                                },
                                {
                                    "Szoba ID": "15",
                                    "Év": "Részösszeg"
                                },
                                {
                                    "Szoba ID": "16",
                                    "Év": "2016"
                                },
                                {
                                    "Szoba ID": "16",
                                    "Év": "2017"
                                },
                                {
                                    "Szoba ID": "16",
                                    "Év": "Részösszeg"
                                },
                                {
                                    "Szoba ID": "17",
                                    "Év": "2016"
                                },
                                {
                                    "Szoba ID": "17",
                                    "Év": "2017"
                                },
                                {
                                    "Szoba ID": "17",
                                    "Év": "Részösszeg"
                                },
                                {
                                    "Szoba ID": "18",
                                    "Év": "2016"
                                },
                                {
                                    "Szoba ID": "18",
                                    "Év": "2017"
                                },
                                {
                                    "Szoba ID": "18",
                                    "Év": "Részösszeg"
                                },
                                {
                                    "Szoba ID": "19",
                                    "Év": "2016"
                                },
                                {
                                    "Szoba ID": "19",
                                    "Év": "2017"
                                },
                                {
                                    "Szoba ID": "19",
                                    "Év": "Részösszeg"
                                },
                                {
                                    "Szoba ID": "20",
                                    "Év": "2016"
                                },
                                {
                                    "Szoba ID": "20",
                                    "Év": "Részösszeg"
                                },
                                {
                                    "Szoba ID": "21",
                                    "Év": "2016"
                                },
                                {
                                    "Szoba ID": "21",
                                    "Év": "Részösszeg"
                                },
                                {
                                    "Szoba ID": "22",
                                    "Év": "2016"
                                },
                                {
                                    "Szoba ID": "22",
                                    "Év": "Részösszeg"
                                },
                                {
                                    "Szoba ID": "23",
                                    "Év": "2016"
                                },
                                {
                                    "Szoba ID": "23",
                                    "Év": "Részösszeg"
                                },
                                {
                                    "Szoba ID": "24",
                                    "Év": "2016"
                                },
                                {
                                    "Szoba ID": "24",
                                    "Év": "2017"
                                },
                                {
                                    "Szoba ID": "24",
                                    "Év": "Részösszeg"
                                },
                                {
                                    "Szoba ID": "25",
                                    "Év": "2016"
                                },
                                {
                                    "Szoba ID": "25",
                                    "Év": "Részösszeg"
                                },
                                {
                                    "Szoba ID": "26",
                                    "Év": "2016"
                                },
                                {
                                    "Szoba ID": "26",
                                    "Év": "Részösszeg"
                                },
                                {
                                    "Szoba ID": "27",
                                    "Év": "2016"
                                },
                                {
                                    "Szoba ID": "27",
                                    "Év": "2017"
                                },
                                {
                                    "Szoba ID": "27",
                                    "Év": "Részösszeg"
                                },
                                {
                                    "Szoba ID": "28",
                                    "Év": "2016"
                                },
                                {
                                    "Szoba ID": "28",
                                    "Év": "2017"
                                },
                                {
                                    "Szoba ID": "28",
                                    "Év": "Részösszeg"
                                },
                                {
                                    "Szoba ID": "29",
                                    "Év": "2016"
                                },
                                {
                                    "Szoba ID": "29",
                                    "Év": "2017"
                                },
                                {
                                    "Szoba ID": "29",
                                    "Év": "Részösszeg"
                                },
                                {
                                    "Szoba ID": "30",
                                    "Év": "2016"
                                },
                                {
                                    "Szoba ID": "30",
                                    "Év": "Részösszeg"
                                },
                                {
                                    "Szoba ID": "31",
                                    "Év": "2016"
                                },
                                {
                                    "Szoba ID": "31",
                                    "Év": "Részösszeg"
                                },
                                {
                                    "Szoba ID": "32",
                                    "Év": "2016"
                                },
                                {
                                    "Szoba ID": "32",
                                    "Év": "Részösszeg"
                                },
                                {
                                    "Szoba ID": "33",
                                    "Év": "2016"
                                },
                                {
                                    "Szoba ID": "33",
                                    "Év": "Részösszeg"
                                },
                                {
                                    "Szoba ID": "34",
                                    "Év": "2016"
                                },
                                {
                                    "Szoba ID": "34",
                                    "Év": "Részösszeg"
                                },
                                {
                                    "Szoba ID": "35",
                                    "Év": "2016"
                                },
                                {
                                    "Szoba ID": "35",
                                    "Év": "2017"
                                },
                                {
                                    "Szoba ID": "35",
                                    "Év": "Részösszeg"
                                },
                                {
                                    "Szoba ID": "36",
                                    "Év": "2016"
                                },
                                {
                                    "Szoba ID": "36",
                                    "Év": "Részösszeg"
                                },
                                {
                                    "Szoba ID": "37",
                                    "Év": "2016"
                                },
                                {
                                    "Szoba ID": "37",
                                    "Év": "Részösszeg"
                                },
                                {
                                    "Szoba ID": "38",
                                    "Év": "2016"
                                },
                                {
                                    "Szoba ID": "38",
                                    "Év": "2017"
                                },
                                {
                                    "Szoba ID": "38",
                                    "Év": "Részösszeg"
                                },
                                {
                                    "Szoba ID": "39",
                                    "Év": "2016"
                                },
                                {
                                    "Szoba ID": "39",
                                    "Év": "2017"
                                },
                                {
                                    "Szoba ID": "39",
                                    "Év": "Részösszeg"
                                },
                                {
                                    "Szoba ID": "40",
                                    "Év": "2016"
                                },
                                {
                                    "Szoba ID": "40",
                                    "Év": "Részösszeg"
                                },
                                {
                                    "Szoba ID": "41",
                                    "Év": "2016"
                                },
                                {
                                    "Szoba ID": "41",
                                    "Év": "Részösszeg"
                                },
                                {
                                    "Szoba ID": "42",
                                    "Év": "2016"
                                },
                                {
                                    "Szoba ID": "42",
                                    "Év": "2017"
                                },
                                {
                                    "Szoba ID": "42",
                                    "Év": "Részösszeg"
                                },
                                {
                                    "Szoba ID": "43",
                                    "Év": "2016"
                                },
                                {
                                    "Szoba ID": "43",
                                    "Év": "2017"
                                },
                                {
                                    "Szoba ID": "43",
                                    "Év": "Részösszeg"
                                },
                                {
                                    "Szoba ID": "44",
                                    "Év": "2016"
                                },
                                {
                                    "Szoba ID": "44",
                                    "Év": "2017"
                                },
                                {
                                    "Szoba ID": "44",
                                    "Év": "Részösszeg"
                                },
                                {
                                    "Szoba ID": "45",
                                    "Év": "2016"
                                },
                                {
                                    "Szoba ID": "45",
                                    "Év": "Részösszeg"
                                },
                                {
                                    "Szoba ID": "46",
                                    "Év": "2016"
                                },
                                {
                                    "Szoba ID": "46",
                                    "Év": "2017"
                                },
                                {
                                    "Szoba ID": "46",
                                    "Év": "Részösszeg"
                                },
                                {
                                    "Szoba ID": "47",
                                    "Év": "2016"
                                },
                                {
                                    "Szoba ID": "47",
                                    "Év": "Részösszeg"
                                },
                                {
                                    "Szoba ID": "48",
                                    "Év": "2016"
                                },
                                {
                                    "Szoba ID": "48",
                                    "Év": "2017"
                                },
                                {
                                    "Szoba ID": "48",
                                    "Év": "Részösszeg"
                                },
                                {
                                    "Szoba ID": "49",
                                    "Év": "2016"
                                },
                                {
                                    "Szoba ID": "49",
                                    "Év": "2017"
                                },
                                {
                                    "Szoba ID": "49",
                                    "Év": "Részösszeg"
                                },
                                {
                                    "Szoba ID": "50",
                                    "Év": "2016"
                                },
                                {
                                    "Szoba ID": "50",
                                    "Év": "Részösszeg"
                                },
                                {
                                    "Szoba ID": "51",
                                    "Év": "2016"
                                },
                                {
                                    "Szoba ID": "51",
                                    "Év": "2017"
                                },
                                {
                                    "Szoba ID": "51",
                                    "Év": "Részösszeg"
                                },
                                {
                                    "Szoba ID": "52",
                                    "Év": "2016"
                                },
                                {
                                    "Szoba ID": "52",
                                    "Év": "2017"
                                },
                                {
                                    "Szoba ID": "52",
                                    "Év": "Részösszeg"
                                },
                                {
                                    "Szoba ID": "53",
                                    "Év": "2016"
                                },
                                {
                                    "Szoba ID": "53",
                                    "Év": "Részösszeg"
                                },
                                {
                                    "Szoba ID": "54",
                                    "Év": "2016"
                                },
                                {
                                    "Szoba ID": "54",
                                    "Év": "Részösszeg"
                                },
                                {
                                    "Szoba ID": "55",
                                    "Év": "2016"
                                },
                                {
                                    "Szoba ID": "55",
                                    "Év": "2017"
                                },
                                {
                                    "Szoba ID": "55",
                                    "Év": "Részösszeg"
                                },
                                {
                                    "Szoba ID": "56",
                                    "Év": "2016"
                                },
                                {
                                    "Szoba ID": "56",
                                    "Év": "Részösszeg"
                                },
                                {
                                    "Szoba ID": "57",
                                    "Év": "2016"
                                },
                                {
                                    "Szoba ID": "57",
                                    "Év": "2017"
                                },
                                {
                                    "Szoba ID": "57",
                                    "Év": "Részösszeg"
                                },
                                {
                                    "Szoba ID": "58",
                                    "Év": "2016"
                                },
                                {
                                    "Szoba ID": "58",
                                    "Év": "2017"
                                },
                                {
                                    "Szoba ID": "58",
                                    "Év": "Részösszeg"
                                },
                                {
                                    "Szoba ID": "59",
                                    "Év": "2016"
                                },
                                {
                                    "Szoba ID": "59",
                                    "Év": "2017"
                                },
                                {
                                    "Szoba ID": "59",
                                    "Év": "Részösszeg"
                                },
                                {
                                    "Szoba ID": "60",
                                    "Év": "2016"
                                },
                                {
                                    "Szoba ID": "60",
                                    "Év": "Részösszeg"
                                },
                                {
                                    "Szoba ID": "61",
                                    "Év": "2016"
                                },
                                {
                                    "Szoba ID": "61",
                                    "Év": "2017"
                                },
                                {
                                    "Szoba ID": "61",
                                    "Év": "Részösszeg"
                                },
                                {
                                    "Szoba ID": "62",
                                    "Év": "2016"
                                },
                                {
                                    "Szoba ID": "62",
                                    "Év": "2017"
                                },
                                {
                                    "Szoba ID": "62",
                                    "Év": "Részösszeg"
                                },
                                {
                                    "Szoba ID": "63",
                                    "Év": "2016"
                                },
                                {
                                    "Szoba ID": "63",
                                    "Év": "Részösszeg"
                                },
                                {
                                    "Szoba ID": "64",
                                    "Év": "2016"
                                },
                                {
                                    "Szoba ID": "64",
                                    "Év": "2017"
                                },
                                {
                                    "Szoba ID": "64",
                                    "Év": "Részösszeg"
                                },
                                {
                                    "Szoba ID": "65",
                                    "Év": "2016"
                                },
                                {
                                    "Szoba ID": "65",
                                    "Év": "Részösszeg"
                                },
                                {
                                    "Szoba ID": "66",
                                    "Év": "2016"
                                },
                                {
                                    "Szoba ID": "66",
                                    "Év": "Részösszeg"
                                },
                                {
                                    "Szoba ID": "67",
                                    "Év": "2016"
                                },
                                {
                                    "Szoba ID": "67",
                                    "Év": "2017"
                                },
                                {
                                    "Szoba ID": "67",
                                    "Év": "Részösszeg"
                                },
                                {
                                    "Szoba ID": "68",
                                    "Év": "2016"
                                },
                                {
                                    "Szoba ID": "68",
                                    "Év": "Részösszeg"
                                },
                                {
                                    "Szoba ID": "69",
                                    "Év": "2016"
                                },
                                {
                                    "Szoba ID": "69",
                                    "Év": "Részösszeg"
                                },
                                {
                                    "Szoba ID": "70",
                                    "Év": "2016"
                                },
                                {
                                    "Szoba ID": "70",
                                    "Év": "2017"
                                },
                                {
                                    "Szoba ID": "70",
                                    "Év": "Részösszeg"
                                },
                                {
                                    "Szoba ID": "71",
                                    "Év": "2016"
                                },
                                {
                                    "Szoba ID": "71",
                                    "Év": "Részösszeg"
                                },
                                {
                                    "Szoba ID": "72",
                                    "Év": "2016"
                                },
                                {
                                    "Szoba ID": "72",
                                    "Év": "Részösszeg"
                                },
                                {
                                    "Szoba ID": "73",
                                    "Év": "2016"
                                },
                                {
                                    "Szoba ID": "73",
                                    "Év": "Részösszeg"
                                },
                                {
                                    "Szoba ID": "74",
                                    "Év": "2016"
                                },
                                {
                                    "Szoba ID": "74",
                                    "Év": "Részösszeg"
                                },
                                {
                                    "Szoba ID": "75",
                                    "Év": "2016"
                                },
                                {
                                    "Szoba ID": "75",
                                    "Év": "2017"
                                },
                                {
                                    "Szoba ID": "75",
                                    "Év": "Részösszeg"
                                },
                                {
                                    "Szoba ID": "76",
                                    "Év": "2016"
                                },
                                {
                                    "Szoba ID": "76",
                                    "Év": "2017"
                                },
                                {
                                    "Szoba ID": "76",
                                    "Év": "Részösszeg"
                                },
                                {
                                    "Szoba ID": "77",
                                    "Év": "2016"
                                },
                                {
                                    "Szoba ID": "77",
                                    "Év": "2017"
                                },
                                {
                                    "Szoba ID": "77",
                                    "Év": "Részösszeg"
                                },
                                {
                                    "Szoba ID": "78",
                                    "Év": "2016"
                                },
                                {
                                    "Szoba ID": "78",
                                    "Év": "2017"
                                },
                                {
                                    "Szoba ID": "78",
                                    "Év": "Részösszeg"
                                },
                                {
                                    "Szoba ID": "79",
                                    "Év": "2016"
                                },
                                {
                                    "Szoba ID": "79",
                                    "Év": "2017"
                                },
                                {
                                    "Szoba ID": "79",
                                    "Év": "Részösszeg"
                                },
                                {
                                    "Szoba ID": "80",
                                    "Év": "2016"
                                },
                                {
                                    "Szoba ID": "80",
                                    "Év": "Részösszeg"
                                },
                                {
                                    "Szoba ID": "81",
                                    "Év": "2016"
                                },
                                {
                                    "Szoba ID": "81",
                                    "Év": "2017"
                                },
                                {
                                    "Szoba ID": "81",
                                    "Év": "Részösszeg"
                                },
                                {
                                    "Szoba ID": "82",
                                    "Év": "2016"
                                },
                                {
                                    "Szoba ID": "82",
                                    "Év": "Részösszeg"
                                },
                                {
                                    "Szoba ID": "83",
                                    "Év": "2016"
                                },
                                {
                                    "Szoba ID": "83",
                                    "Év": "Részösszeg"
                                },
                                {
                                    "Szoba ID": "84",
                                    "Év": "2016"
                                },
                                {
                                    "Szoba ID": "84",
                                    "Év": "Részösszeg"
                                },
                                {
                                    "Szoba ID": "85",
                                    "Év": "2016"
                                },
                                {
                                    "Szoba ID": "85",
                                    "Év": "2017"
                                },
                                {
                                    "Szoba ID": "85",
                                    "Év": "Részösszeg"
                                },
                                {
                                    "Szoba ID": "86",
                                    "Év": "2016"
                                },
                                {
                                    "Szoba ID": "86",
                                    "Év": "2017"
                                },
                                {
                                    "Szoba ID": "86",
                                    "Év": "Részösszeg"
                                },
                                {
                                    "Szoba ID": "87",
                                    "Év": "2016"
                                },
                                {
                                    "Szoba ID": "87",
                                    "Év": "2017"
                                },
                                {
                                    "Szoba ID": "87",
                                    "Év": "Részösszeg"
                                },
                                {
                                    "Szoba ID": "88",
                                    "Év": "2016"
                                },
                                {
                                    "Szoba ID": "88",
                                    "Év": "2017"
                                },
                                {
                                    "Szoba ID": "88",
                                    "Év": "Részösszeg"
                                },
                                {
                                    "Szoba ID": "89",
                                    "Év": "2016"
                                },
                                {
                                    "Szoba ID": "89",
                                    "Év": "2017"
                                },
                                {
                                    "Szoba ID": "89",
                                    "Év": "Részösszeg"
                                },
                                {
                                    "Szoba ID": "90",
                                    "Év": "2016"
                                },
                                {
                                    "Szoba ID": "90",
                                    "Év": "Részösszeg"
                                },
                                {
                                    "Szoba ID": "91",
                                    "Év": "2016"
                                },
                                {
                                    "Szoba ID": "91",
                                    "Év": "Részösszeg"
                                },
                                {
                                    "Szoba ID": "92",
                                    "Év": "2016"
                                },
                                {
                                    "Szoba ID": "92",
                                    "Év": "2017"
                                },
                                {
                                    "Szoba ID": "92",
                                    "Év": "Részösszeg"
                                },
                                {
                                    "Szoba ID": "93",
                                    "Év": "2016"
                                },
                                {
                                    "Szoba ID": "93",
                                    "Év": "Részösszeg"
                                },
                                {
                                    "Szoba ID": "94",
                                    "Év": "2016"
                                },
                                {
                                    "Szoba ID": "94",
                                    "Év": "2017"
                                },
                                {
                                    "Szoba ID": "94",
                                    "Év": "Részösszeg"
                                },
                                {
                                    "Szoba ID": "95",
                                    "Év": "2016"
                                },
                                {
                                    "Szoba ID": "95",
                                    "Év": "2017"
                                },
                                {
                                    "Szoba ID": "95",
                                    "Év": "Részösszeg"
                                },
                                {
                                    "Szoba ID": "96",
                                    "Év": "2016"
                                },
                                {
                                    "Szoba ID": "96",
                                    "Év": "2017"
                                },
                                {
                                    "Szoba ID": "96",
                                    "Év": "Részösszeg"
                                },
                                {
                                    "Szoba ID": "97",
                                    "Év": "2016"
                                },
                                {
                                    "Szoba ID": "97",
                                    "Év": "2017"
                                },
                                {
                                    "Szoba ID": "97",
                                    "Év": "Részösszeg"
                                },
                                {
                                    "Szoba ID": "98",
                                    "Év": "2016"
                                },
                                {
                                    "Szoba ID": "98",
                                    "Év": "Részösszeg"
                                },
                                {
                                    "Szoba ID": "99",
                                    "Év": "2016"
                                },
                                {
                                    "Szoba ID": "99",
                                    "Év": "2017"
                                },
                                {
                                    "Szoba ID": "99",
                                    "Év": "Részösszeg"
                                },
                                {
                                    "Szoba ID": "100",
                                    "Év": "2016"
                                },
                                {
                                    "Szoba ID": "100",
                                    "Év": "2017"
                                },
                                {
                                    "Szoba ID": "100",
                                    "Év": "Részösszeg"
                                },
                                {
                                    "Szoba ID": "101",
                                    "Év": "2016"
                                },
                                {
                                    "Szoba ID": "101",
                                    "Év": "2017"
                                },
                                {
                                    "Szoba ID": "101",
                                    "Év": "Részösszeg"
                                },
                                {
                                    "Szoba ID": "102",
                                    "Év": "2016"
                                },
                                {
                                    "Szoba ID": "102",
                                    "Év": "Részösszeg"
                                },
                                {
                                    "Szoba ID": "103",
                                    "Év": "2016"
                                },
                                {
                                    "Szoba ID": "103",
                                    "Év": "2017"
                                },
                                {
                                    "Szoba ID": "103",
                                    "Év": "Részösszeg"
                                },
                                {
                                    "Szoba ID": "104",
                                    "Év": "2016"
                                },
                                {
                                    "Szoba ID": "104",
                                    "Év": "2017"
                                },
                                {
                                    "Szoba ID": "104",
                                    "Év": "Részösszeg"
                                },
                                {
                                    "Szoba ID": "105",
                                    "Év": "2016"
                                },
                                {
                                    "Szoba ID": "105",
                                    "Év": "2017"
                                },
                                {
                                    "Szoba ID": "105",
                                    "Év": "Részösszeg"
                                },
                                {
                                    "Szoba ID": "106",
                                    "Év": "2016"
                                },
                                {
                                    "Szoba ID": "106",
                                    "Év": "2017"
                                },
                                {
                                    "Szoba ID": "106",
                                    "Év": "Részösszeg"
                                },
                                {
                                    "Szoba ID": "107",
                                    "Év": "2016"
                                },
                                {
                                    "Szoba ID": "107",
                                    "Év": "2017"
                                },
                                {
                                    "Szoba ID": "107",
                                    "Év": "Részösszeg"
                                },
                                {
                                    "Szoba ID": "108",
                                    "Év": "2016"
                                },
                                {
                                    "Szoba ID": "108",
                                    "Év": "Részösszeg"
                                },
                                {
                                    "Szoba ID": "109",
                                    "Év": "2016"
                                },
                                {
                                    "Szoba ID": "109",
                                    "Év": "2017"
                                },
                                {
                                    "Szoba ID": "109",
                                    "Év": "Részösszeg"
                                },
                                {
                                    "Szoba ID": "110",
                                    "Év": "2016"
                                },
                                {
                                    "Szoba ID": "110",
                                    "Év": "2017"
                                },
                                {
                                    "Szoba ID": "110",
                                    "Év": "Részösszeg"
                                },
                                {
                                    "Szoba ID": "111",
                                    "Év": "2016"
                                },
                                {
                                    "Szoba ID": "111",
                                    "Év": "Részösszeg"
                                },
                                {
                                    "Szoba ID": "112",
                                    "Év": "2016"
                                },
                                {
                                    "Szoba ID": "112",
                                    "Év": "2017"
                                },
                                {
                                    "Szoba ID": "112",
                                    "Év": "Részösszeg"
                                },
                                {
                                    "Szoba ID": "113",
                                    "Év": "2016"
                                },
                                {
                                    "Szoba ID": "113",
                                    "Év": "2017"
                                },
                                {
                                    "Szoba ID": "113",
                                    "Év": "Részösszeg"
                                },
                                {
                                    "Szoba ID": "114",
                                    "Év": "2016"
                                },
                                {
                                    "Szoba ID": "114",
                                    "Év": "2017"
                                },
                                {
                                    "Szoba ID": "114",
                                    "Év": "Részösszeg"
                                },
                                {
                                    "Szoba ID": "115",
                                    "Év": "2016"
                                },
                                {
                                    "Szoba ID": "115",
                                    "Év": "2017"
                                },
                                {
                                    "Szoba ID": "115",
                                    "Év": "Részösszeg"
                                },
                                {
                                    "Szoba ID": "116",
                                    "Év": "2017"
                                },
                                {
                                    "Szoba ID": "116",
                                    "Év": "Részösszeg"
                                },
                                {
                                    "Szoba ID": "117",
                                    "Év": "2016"
                                },
                                {
                                    "Szoba ID": "117",
                                    "Év": "2017"
                                },
                                {
                                    "Szoba ID": "117",
                                    "Év": "Részösszeg"
                                },
                                {
                                    "Szoba ID": "118",
                                    "Év": "2016"
                                },
                                {
                                    "Szoba ID": "118",
                                    "Év": "2017"
                                },
                                {
                                    "Szoba ID": "118",
                                    "Év": "Részösszeg"
                                },
                                {
                                    "Szoba ID": "119",
                                    "Év": "2016"
                                },
                                {
                                    "Szoba ID": "119",
                                    "Év": "2017"
                                },
                                {
                                    "Szoba ID": "119",
                                    "Év": "Részösszeg"
                                },
                                {
                                    "Szoba ID": "120",
                                    "Év": "2016"
                                },
                                {
                                    "Szoba ID": "120",
                                    "Év": "2017"
                                },
                                {
                                    "Szoba ID": "120",
                                    "Év": "Részösszeg"
                                },
                                {
                                    "Szoba ID": "121",
                                    "Év": "2016"
                                },
                                {
                                    "Szoba ID": "121",
                                    "Év": "Részösszeg"
                                },
                                {
                                    "Szoba ID": "122",
                                    "Év": "2016"
                                },
                                {
                                    "Szoba ID": "122",
                                    "Év": "2017"
                                },
                                {
                                    "Szoba ID": "122",
                                    "Év": "Részösszeg"
                                },
                                {
                                    "Szoba ID": "123",
                                    "Év": "2016"
                                },
                                {
                                    "Szoba ID": "123",
                                    "Év": "Részösszeg"
                                },
                                {
                                    "Szoba ID": "124",
                                    "Év": "2016"
                                },
                                {
                                    "Szoba ID": "124",
                                    "Év": "2017"
                                },
                                {
                                    "Szoba ID": "124",
                                    "Év": "Részösszeg"
                                },
                                {
                                    "Szoba ID": "125",
                                    "Év": "2016"
                                },
                                {
                                    "Szoba ID": "125",
                                    "Év": "Részösszeg"
                                },
                                {
                                    "Szoba ID": "126",
                                    "Év": "2016"
                                },
                                {
                                    "Szoba ID": "126",
                                    "Év": "2017"
                                },
                                {
                                    "Szoba ID": "126",
                                    "Év": "Részösszeg"
                                },
                                {
                                    "Szoba ID": "127",
                                    "Év": "2016"
                                },
                                {
                                    "Szoba ID": "127",
                                    "Év": "2017"
                                },
                                {
                                    "Szoba ID": "127",
                                    "Év": "Részösszeg"
                                },
                                {
                                    "Szoba ID": "128",
                                    "Év": "2016"
                                },
                                {
                                    "Szoba ID": "128",
                                    "Év": "2017"
                                },
                                {
                                    "Szoba ID": "128",
                                    "Év": "Részösszeg"
                                },
                                {
                                    "Szoba ID": "129",
                                    "Év": "2016"
                                },
                                {
                                    "Szoba ID": "129",
                                    "Év": "2017"
                                },
                                {
                                    "Szoba ID": "129",
                                    "Év": "Részösszeg"
                                },
                                {
                                    "Szoba ID": "130",
                                    "Év": "2016"
                                },
                                {
                                    "Szoba ID": "130",
                                    "Év": "2017"
                                },
                                {
                                    "Szoba ID": "130",
                                    "Év": "Részösszeg"
                                },
                                {
                                    "Szoba ID": "131",
                                    "Év": "2016"
                                },
                                {
                                    "Szoba ID": "131",
                                    "Év": "2017"
                                },
                                {
                                    "Szoba ID": "131",
                                    "Év": "Részösszeg"
                                },
                                {
                                    "Szoba ID": "132",
                                    "Év": "2016"
                                },
                                {
                                    "Szoba ID": "132",
                                    "Év": "2017"
                                },
                                {
                                    "Szoba ID": "132",
                                    "Év": "Részösszeg"
                                },
                                {
                                    "Szoba ID": "133",
                                    "Év": "2016"
                                },
                                {
                                    "Szoba ID": "133",
                                    "Év": "2017"
                                },
                                {
                                    "Szoba ID": "133",
                                    "Év": "Részösszeg"
                                },
                                {
                                    "Szoba ID": "134",
                                    "Év": "2016"
                                },
                                {
                                    "Szoba ID": "134",
                                    "Év": "2017"
                                },
                                {
                                    "Szoba ID": "134",
                                    "Év": "Részösszeg"
                                },
                                {
                                    "Szoba ID": "135",
                                    "Év": "2016"
                                },
                                {
                                    "Szoba ID": "135",
                                    "Év": "Részösszeg"
                                },
                                {
                                    "Szoba ID": "136",
                                    "Év": "2016"
                                },
                                {
                                    "Szoba ID": "136",
                                    "Év": "Részösszeg"
                                },
                                {
                                    "Szoba ID": "137",
                                    "Év": "2016"
                                },
                                {
                                    "Szoba ID": "137",
                                    "Év": "Részösszeg"
                                },
                                {
                                    "Szoba ID": "138",
                                    "Év": "2016"
                                },
                                {
                                    "Szoba ID": "138",
                                    "Év": "Részösszeg"
                                },
                                {
                                    "Szoba ID": "139",
                                    "Év": "2016"
                                },
                                {
                                    "Szoba ID": "139",
                                    "Év": "2017"
                                },
                                {
                                    "Szoba ID": "139",
                                    "Év": "Részösszeg"
                                },
                                {
                                    "Szoba ID": "140",
                                    "Év": "2016"
                                },
                                {
                                    "Szoba ID": "140",
                                    "Év": "Részösszeg"
                                },
                                {
                                    "Szoba ID": "141",
                                    "Év": "2016"
                                },
                                {
                                    "Szoba ID": "141",
                                    "Év": "Részösszeg"
                                },
                                {
                                    "Szoba ID": "142",
                                    "Év": "2016"
                                },
                                {
                                    "Szoba ID": "142",
                                    "Év": "2017"
                                },
                                {
                                    "Szoba ID": "142",
                                    "Év": "Részösszeg"
                                },
                                {
                                    "Szoba ID": "143",
                                    "Év": "2016"
                                },
                                {
                                    "Szoba ID": "143",
                                    "Év": "2017"
                                },
                                {
                                    "Szoba ID": "143",
                                    "Év": "Részösszeg"
                                },
                                {
                                    "Szoba ID": "144",
                                    "Év": "2016"
                                },
                                {
                                    "Szoba ID": "144",
                                    "Év": "2017"
                                },
                                {
                                    "Szoba ID": "144",
                                    "Év": "Részösszeg"
                                },
                                {
                                    "Szoba ID": "145",
                                    "Év": "2016"
                                },
                                {
                                    "Szoba ID": "145",
                                    "Év": "2017"
                                },
                                {
                                    "Szoba ID": "145",
                                    "Év": "Részösszeg"
                                },
                                {
                                    "Szoba ID": "146",
                                    "Év": "2016"
                                },
                                {
                                    "Szoba ID": "146",
                                    "Év": "2017"
                                },
                                {
                                    "Szoba ID": "146",
                                    "Év": "Részösszeg"
                                },
                                {
                                    "Szoba ID": "147",
                                    "Év": "2016"
                                },
                                {
                                    "Szoba ID": "147",
                                    "Év": "Részösszeg"
                                },
                                {
                                    "Szoba ID": "148",
                                    "Év": "2016"
                                },
                                {
                                    "Szoba ID": "148",
                                    "Év": "2017"
                                },
                                {
                                    "Szoba ID": "148",
                                    "Év": "Részösszeg"
                                },
                                {
                                    "Szoba ID": "149",
                                    "Év": "2016"
                                },
                                {
                                    "Szoba ID": "149",
                                    "Év": "2017"
                                },
                                {
                                    "Szoba ID": "149",
                                    "Év": "Részösszeg"
                                },
                                {
                                    "Szoba ID": "150",
                                    "Év": "2016"
                                },
                                {
                                    "Szoba ID": "150",
                                    "Év": "2017"
                                },
                                {
                                    "Szoba ID": "150",
                                    "Év": "Részösszeg"
                                },
                                {
                                    "Szoba ID": "151",
                                    "Év": "2016"
                                },
                                {
                                    "Szoba ID": "151",
                                    "Év": "Részösszeg"
                                },
                                {
                                    "Szoba ID": "152",
                                    "Év": "2016"
                                },
                                {
                                    "Szoba ID": "152",
                                    "Év": "2017"
                                },
                                {
                                    "Szoba ID": "152",
                                    "Év": "Részösszeg"
                                },
                                {
                                    "Szoba ID": "153",
                                    "Év": "2016"
                                },
                                {
                                    "Szoba ID": "153",
                                    "Év": "2017"
                                },
                                {
                                    "Szoba ID": "153",
                                    "Év": "Részösszeg"
                                },
                                {
                                    "Szoba ID": "154",
                                    "Év": "2016"
                                },
                                {
                                    "Szoba ID": "154",
                                    "Év": "2017"
                                },
                                {
                                    "Szoba ID": "154",
                                    "Év": "Részösszeg"
                                },
                                {
                                    "Szoba ID": "155",
                                    "Év": "2016"
                                },
                                {
                                    "Szoba ID": "155",
                                    "Év": "2017"
                                },
                                {
                                    "Szoba ID": "155",
                                    "Év": "Részösszeg"
                                },
                                {
                                    "Szoba ID": "156",
                                    "Év": "2016"
                                },
                                {
                                    "Szoba ID": "156",
                                    "Év": "2017"
                                },
                                {
                                    "Szoba ID": "156",
                                    "Év": "Részösszeg"
                                },
                                {
                                    "Szoba ID": "157",
                                    "Év": "2016"
                                },
                                {
                                    "Szoba ID": "157",
                                    "Év": "2017"
                                },
                                {
                                    "Szoba ID": "157",
                                    "Év": "Részösszeg"
                                },
                                {
                                    "Szoba ID": "158",
                                    "Év": "2016"
                                },
                                {
                                    "Szoba ID": "158",
                                    "Év": "Részösszeg"
                                },
                                {
                                    "Szoba ID": "160",
                                    "Év": "2016"
                                },
                                {
                                    "Szoba ID": "160",
                                    "Év": "2017"
                                },
                                {
                                    "Szoba ID": "160",
                                    "Év": "Részösszeg"
                                },
                                {
                                    "Szoba ID": "161",
                                    "Év": "2016"
                                },
                                {
                                    "Szoba ID": "161",
                                    "Év": "2017"
                                },
                                {
                                    "Szoba ID": "161",
                                    "Év": "Részösszeg"
                                },
                                {
                                    "Szoba ID": "162",
                                    "Év": "2016"
                                },
                                {
                                    "Szoba ID": "162",
                                    "Év": "Részösszeg"
                                },
                                {
                                    "Szoba ID": "163",
                                    "Év": "2016"
                                },
                                {
                                    "Szoba ID": "163",
                                    "Év": "2017"
                                },
                                {
                                    "Szoba ID": "163",
                                    "Év": "Részösszeg"
                                },
                                {
                                    "Szoba ID": "164",
                                    "Év": "2016"
                                },
                                {
                                    "Szoba ID": "164",
                                    "Év": "Részösszeg"
                                },
                                {
                                    "Szoba ID": "165",
                                    "Év": "2016"
                                },
                                {
                                    "Szoba ID": "165",
                                    "Év": "Részösszeg"
                                },
                                {
                                    "Szoba ID": "166",
                                    "Év": "2016"
                                },
                                {
                                    "Szoba ID": "166",
                                    "Év": "2017"
                                },
                                {
                                    "Szoba ID": "166",
                                    "Év": "Részösszeg"
                                },
                                {
                                    "Szoba ID": "167",
                                    "Év": "2016"
                                },
                                {
                                    "Szoba ID": "167",
                                    "Év": "2017"
                                },
                                {
                                    "Szoba ID": "167",
                                    "Év": "Részösszeg"
                                },
                                {
                                    "Szoba ID": "168",
                                    "Év": "2016"
                                },
                                {
                                    "Szoba ID": "168",
                                    "Év": "Részösszeg"
                                },
                                {
                                    "Szoba ID": "169",
                                    "Év": "2016"
                                },
                                {
                                    "Szoba ID": "169",
                                    "Év": "2017"
                                },
                                {
                                    "Szoba ID": "169",
                                    "Év": "Részösszeg"
                                },
                                {
                                    "Szoba ID": "170",
                                    "Év": "2016"
                                },
                                {
                                    "Szoba ID": "170",
                                    "Év": "Részösszeg"
                                },
                                {
                                    "Szoba ID": "171",
                                    "Év": "2016"
                                },
                                {
                                    "Szoba ID": "171",
                                    "Év": "2017"
                                },
                                {
                                    "Szoba ID": "171",
                                    "Év": "Részösszeg"
                                },
                                {
                                    "Szoba ID": "172",
                                    "Év": "2016"
                                },
                                {
                                    "Szoba ID": "172",
                                    "Év": "2017"
                                },
                                {
                                    "Szoba ID": "172",
                                    "Év": "Részösszeg"
                                },
                                {
                                    "Szoba ID": "173",
                                    "Év": "2016"
                                },
                                {
                                    "Szoba ID": "173",
                                    "Év": "2017"
                                },
                                {
                                    "Szoba ID": "173",
                                    "Év": "Részösszeg"
                                },
                                {
                                    "Szoba ID": "174",
                                    "Év": "2016"
                                },
                                {
                                    "Szoba ID": "174",
                                    "Év": "Részösszeg"
                                },
                                {
                                    "Szoba ID": "175",
                                    "Év": "2016"
                                },
                                {
                                    "Szoba ID": "175",
                                    "Év": "Részösszeg"
                                },
                                {
                                    "Szoba ID": "176",
                                    "Év": "2016"
                                },
                                {
                                    "Szoba ID": "176",
                                    "Év": "2017"
                                },
                                {
                                    "Szoba ID": "176",
                                    "Év": "Részösszeg"
                                },
                                {
                                    "Szoba ID": "177",
                                    "Év": "2016"
                                },
                                {
                                    "Szoba ID": "177",
                                    "Év": "2017"
                                },
                                {
                                    "Szoba ID": "177",
                                    "Év": "Részösszeg"
                                },
                                {
                                    "Szoba ID": "178",
                                    "Év": "2016"
                                },
                                {
                                    "Szoba ID": "178",
                                    "Év": "Részösszeg"
                                },
                                {
                                    "Szoba ID": "179",
                                    "Év": "2016"
                                },
                                {
                                    "Szoba ID": "179",
                                    "Év": "2017"
                                },
                                {
                                    "Szoba ID": "179",
                                    "Év": "Részösszeg"
                                },
                                {
                                    "Szoba ID": "180",
                                    "Év": "2016"
                                },
                                {
                                    "Szoba ID": "180",
                                    "Év": "2017"
                                },
                                {
                                    "Szoba ID": "180",
                                    "Év": "Részösszeg"
                                },
                                {
                                    "Szoba ID": "181",
                                    "Év": "2016"
                                },
                                {
                                    "Szoba ID": "181",
                                    "Év": "Részösszeg"
                                },
                                {
                                    "Szoba ID": "182",
                                    "Év": "2016"
                                },
                                {
                                    "Szoba ID": "182",
                                    "Év": "2017"
                                },
                                {
                                    "Szoba ID": "182",
                                    "Év": "Részösszeg"
                                },
                                {
                                    "Szoba ID": "183",
                                    "Év": "2016"
                                },
                                {
                                    "Szoba ID": "183",
                                    "Év": "2017"
                                },
                                {
                                    "Szoba ID": "183",
                                    "Év": "Részösszeg"
                                },
                                {
                                    "Szoba ID": "184",
                                    "Év": "2016"
                                },
                                {
                                    "Szoba ID": "184",
                                    "Év": "Részösszeg"
                                },
                                {
                                    "Szoba ID": "185",
                                    "Év": "2016"
                                },
                                {
                                    "Szoba ID": "185",
                                    "Év": "2017"
                                },
                                {
                                    "Szoba ID": "185",
                                    "Év": "Részösszeg"
                                },
                                {
                                    "Szoba ID": "186",
                                    "Év": "2016"
                                },
                                {
                                    "Szoba ID": "186",
                                    "Év": "2017"
                                },
                                {
                                    "Szoba ID": "186",
                                    "Év": "Részösszeg"
                                },
                                {
                                    "Szoba ID": "187",
                                    "Év": "2016"
                                },
                                {
                                    "Szoba ID": "187",
                                    "Év": "Részösszeg"
                                },
                                {
                                    "Szoba ID": "188",
                                    "Év": "2016"
                                },
                                {
                                    "Szoba ID": "188",
                                    "Év": "Részösszeg"
                                },
                                {
                                    "Szoba ID": "189",
                                    "Év": "2016"
                                },
                                {
                                    "Szoba ID": "189",
                                    "Év": "2017"
                                },
                                {
                                    "Szoba ID": "189",
                                    "Év": "Részösszeg"
                                },
                                {
                                    "Szoba ID": "190",
                                    "Év": "2016"
                                },
                                {
                                    "Szoba ID": "190",
                                    "Év": "2017"
                                },
                                {
                                    "Szoba ID": "190",
                                    "Év": "Részösszeg"
                                },
                                {
                                    "Szoba ID": "191",
                                    "Év": "2016"
                                },
                                {
                                    "Szoba ID": "191",
                                    "Év": "2017"
                                },
                                {
                                    "Szoba ID": "191",
                                    "Év": "Részösszeg"
                                },
                                {
                                    "Szoba ID": "192",
                                    "Év": "2016"
                                },
                                {
                                    "Szoba ID": "192",
                                    "Év": "Részösszeg"
                                },
                                {
                                    "Szoba ID": "193",
                                    "Év": "2016"
                                },
                                {
                                    "Szoba ID": "193",
                                    "Év": "Részösszeg"
                                },
                                {
                                    "Szoba ID": "194",
                                    "Év": "2016"
                                },
                                {
                                    "Szoba ID": "194",
                                    "Év": "Részösszeg"
                                },
                                {
                                    "Szoba ID": "195",
                                    "Év": "2016"
                                },
                                {
                                    "Szoba ID": "195",
                                    "Év": "2017"
                                },
                                {
                                    "Szoba ID": "195",
                                    "Év": "Részösszeg"
                                },
                                {
                                    "Szoba ID": "196",
                                    "Év": "2016"
                                },
                                {
                                    "Szoba ID": "196",
                                    "Év": "Részösszeg"
                                },
                                {
                                    "Szoba ID": "197",
                                    "Év": "2016"
                                },
                                {
                                    "Szoba ID": "197",
                                    "Év": "Részösszeg"
                                },
                                {
                                    "Szoba ID": "198",
                                    "Év": "2016"
                                },
                                {
                                    "Szoba ID": "198",
                                    "Év": "2017"
                                },
                                {
                                    "Szoba ID": "198",
                                    "Év": "Részösszeg"
                                },
                                {
                                    "Szoba ID": "Végösszeg",
                                    "Év": "Végösszeg"
                                }
                            ]
                        },
                        "text/html": [
                            "<table>",
                            "<tr><th>Szoba ID</th><th>Év</th></tr>",
                            "<tr><td>1</td><td>2016</td></tr>",
                            "<tr><td>1</td><td>Részösszeg</td></tr>",
                            "<tr><td>2</td><td>2016</td></tr>",
                            "<tr><td>2</td><td>Részösszeg</td></tr>",
                            "<tr><td>3</td><td>2016</td></tr>",
                            "<tr><td>3</td><td>2017</td></tr>",
                            "<tr><td>3</td><td>Részösszeg</td></tr>",
                            "<tr><td>4</td><td>2016</td></tr>",
                            "<tr><td>4</td><td>2017</td></tr>",
                            "<tr><td>4</td><td>Részösszeg</td></tr>",
                            "<tr><td>5</td><td>2016</td></tr>",
                            "<tr><td>5</td><td>Részösszeg</td></tr>",
                            "<tr><td>6</td><td>2016</td></tr>",
                            "<tr><td>6</td><td>Részösszeg</td></tr>",
                            "<tr><td>7</td><td>2016</td></tr>",
                            "<tr><td>7</td><td>Részösszeg</td></tr>",
                            "<tr><td>8</td><td>2016</td></tr>",
                            "<tr><td>8</td><td>Részösszeg</td></tr>",
                            "<tr><td>9</td><td>2016</td></tr>",
                            "<tr><td>9</td><td>2017</td></tr>",
                            "<tr><td>9</td><td>Részösszeg</td></tr>",
                            "<tr><td>10</td><td>2016</td></tr>",
                            "<tr><td>10</td><td>Részösszeg</td></tr>",
                            "<tr><td>11</td><td>2016</td></tr>",
                            "<tr><td>11</td><td>2017</td></tr>",
                            "<tr><td>11</td><td>Részösszeg</td></tr>",
                            "<tr><td>12</td><td>2016</td></tr>",
                            "<tr><td>12</td><td>2017</td></tr>",
                            "<tr><td>12</td><td>Részösszeg</td></tr>",
                            "<tr><td>13</td><td>2016</td></tr>",
                            "<tr><td>13</td><td>2017</td></tr>",
                            "<tr><td>13</td><td>Részösszeg</td></tr>",
                            "<tr><td>14</td><td>2016</td></tr>",
                            "<tr><td>14</td><td>2017</td></tr>",
                            "<tr><td>14</td><td>Részösszeg</td></tr>",
                            "<tr><td>15</td><td>2016</td></tr>",
                            "<tr><td>15</td><td>2017</td></tr>",
                            "<tr><td>15</td><td>Részösszeg</td></tr>",
                            "<tr><td>16</td><td>2016</td></tr>",
                            "<tr><td>16</td><td>2017</td></tr>",
                            "<tr><td>16</td><td>Részösszeg</td></tr>",
                            "<tr><td>17</td><td>2016</td></tr>",
                            "<tr><td>17</td><td>2017</td></tr>",
                            "<tr><td>17</td><td>Részösszeg</td></tr>",
                            "<tr><td>18</td><td>2016</td></tr>",
                            "<tr><td>18</td><td>2017</td></tr>",
                            "<tr><td>18</td><td>Részösszeg</td></tr>",
                            "<tr><td>19</td><td>2016</td></tr>",
                            "<tr><td>19</td><td>2017</td></tr>",
                            "<tr><td>19</td><td>Részösszeg</td></tr>",
                            "<tr><td>20</td><td>2016</td></tr>",
                            "<tr><td>20</td><td>Részösszeg</td></tr>",
                            "<tr><td>21</td><td>2016</td></tr>",
                            "<tr><td>21</td><td>Részösszeg</td></tr>",
                            "<tr><td>22</td><td>2016</td></tr>",
                            "<tr><td>22</td><td>Részösszeg</td></tr>",
                            "<tr><td>23</td><td>2016</td></tr>",
                            "<tr><td>23</td><td>Részösszeg</td></tr>",
                            "<tr><td>24</td><td>2016</td></tr>",
                            "<tr><td>24</td><td>2017</td></tr>",
                            "<tr><td>24</td><td>Részösszeg</td></tr>",
                            "<tr><td>25</td><td>2016</td></tr>",
                            "<tr><td>25</td><td>Részösszeg</td></tr>",
                            "<tr><td>26</td><td>2016</td></tr>",
                            "<tr><td>26</td><td>Részösszeg</td></tr>",
                            "<tr><td>27</td><td>2016</td></tr>",
                            "<tr><td>27</td><td>2017</td></tr>",
                            "<tr><td>27</td><td>Részösszeg</td></tr>",
                            "<tr><td>28</td><td>2016</td></tr>",
                            "<tr><td>28</td><td>2017</td></tr>",
                            "<tr><td>28</td><td>Részösszeg</td></tr>",
                            "<tr><td>29</td><td>2016</td></tr>",
                            "<tr><td>29</td><td>2017</td></tr>",
                            "<tr><td>29</td><td>Részösszeg</td></tr>",
                            "<tr><td>30</td><td>2016</td></tr>",
                            "<tr><td>30</td><td>Részösszeg</td></tr>",
                            "<tr><td>31</td><td>2016</td></tr>",
                            "<tr><td>31</td><td>Részösszeg</td></tr>",
                            "<tr><td>32</td><td>2016</td></tr>",
                            "<tr><td>32</td><td>Részösszeg</td></tr>",
                            "<tr><td>33</td><td>2016</td></tr>",
                            "<tr><td>33</td><td>Részösszeg</td></tr>",
                            "<tr><td>34</td><td>2016</td></tr>",
                            "<tr><td>34</td><td>Részösszeg</td></tr>",
                            "<tr><td>35</td><td>2016</td></tr>",
                            "<tr><td>35</td><td>2017</td></tr>",
                            "<tr><td>35</td><td>Részösszeg</td></tr>",
                            "<tr><td>36</td><td>2016</td></tr>",
                            "<tr><td>36</td><td>Részösszeg</td></tr>",
                            "<tr><td>37</td><td>2016</td></tr>",
                            "<tr><td>37</td><td>Részösszeg</td></tr>",
                            "<tr><td>38</td><td>2016</td></tr>",
                            "<tr><td>38</td><td>2017</td></tr>",
                            "<tr><td>38</td><td>Részösszeg</td></tr>",
                            "<tr><td>39</td><td>2016</td></tr>",
                            "<tr><td>39</td><td>2017</td></tr>",
                            "<tr><td>39</td><td>Részösszeg</td></tr>",
                            "<tr><td>40</td><td>2016</td></tr>",
                            "<tr><td>40</td><td>Részösszeg</td></tr>",
                            "<tr><td>41</td><td>2016</td></tr>",
                            "<tr><td>41</td><td>Részösszeg</td></tr>",
                            "<tr><td>42</td><td>2016</td></tr>",
                            "<tr><td>42</td><td>2017</td></tr>",
                            "<tr><td>42</td><td>Részösszeg</td></tr>",
                            "<tr><td>43</td><td>2016</td></tr>",
                            "<tr><td>43</td><td>2017</td></tr>",
                            "<tr><td>43</td><td>Részösszeg</td></tr>",
                            "<tr><td>44</td><td>2016</td></tr>",
                            "<tr><td>44</td><td>2017</td></tr>",
                            "<tr><td>44</td><td>Részösszeg</td></tr>",
                            "<tr><td>45</td><td>2016</td></tr>",
                            "<tr><td>45</td><td>Részösszeg</td></tr>",
                            "<tr><td>46</td><td>2016</td></tr>",
                            "<tr><td>46</td><td>2017</td></tr>",
                            "<tr><td>46</td><td>Részösszeg</td></tr>",
                            "<tr><td>47</td><td>2016</td></tr>",
                            "<tr><td>47</td><td>Részösszeg</td></tr>",
                            "<tr><td>48</td><td>2016</td></tr>",
                            "<tr><td>48</td><td>2017</td></tr>",
                            "<tr><td>48</td><td>Részösszeg</td></tr>",
                            "<tr><td>49</td><td>2016</td></tr>",
                            "<tr><td>49</td><td>2017</td></tr>",
                            "<tr><td>49</td><td>Részösszeg</td></tr>",
                            "<tr><td>50</td><td>2016</td></tr>",
                            "<tr><td>50</td><td>Részösszeg</td></tr>",
                            "<tr><td>51</td><td>2016</td></tr>",
                            "<tr><td>51</td><td>2017</td></tr>",
                            "<tr><td>51</td><td>Részösszeg</td></tr>",
                            "<tr><td>52</td><td>2016</td></tr>",
                            "<tr><td>52</td><td>2017</td></tr>",
                            "<tr><td>52</td><td>Részösszeg</td></tr>",
                            "<tr><td>53</td><td>2016</td></tr>",
                            "<tr><td>53</td><td>Részösszeg</td></tr>",
                            "<tr><td>54</td><td>2016</td></tr>",
                            "<tr><td>54</td><td>Részösszeg</td></tr>",
                            "<tr><td>55</td><td>2016</td></tr>",
                            "<tr><td>55</td><td>2017</td></tr>",
                            "<tr><td>55</td><td>Részösszeg</td></tr>",
                            "<tr><td>56</td><td>2016</td></tr>",
                            "<tr><td>56</td><td>Részösszeg</td></tr>",
                            "<tr><td>57</td><td>2016</td></tr>",
                            "<tr><td>57</td><td>2017</td></tr>",
                            "<tr><td>57</td><td>Részösszeg</td></tr>",
                            "<tr><td>58</td><td>2016</td></tr>",
                            "<tr><td>58</td><td>2017</td></tr>",
                            "<tr><td>58</td><td>Részösszeg</td></tr>",
                            "<tr><td>59</td><td>2016</td></tr>",
                            "<tr><td>59</td><td>2017</td></tr>",
                            "<tr><td>59</td><td>Részösszeg</td></tr>",
                            "<tr><td>60</td><td>2016</td></tr>",
                            "<tr><td>60</td><td>Részösszeg</td></tr>",
                            "<tr><td>61</td><td>2016</td></tr>",
                            "<tr><td>61</td><td>2017</td></tr>",
                            "<tr><td>61</td><td>Részösszeg</td></tr>",
                            "<tr><td>62</td><td>2016</td></tr>",
                            "<tr><td>62</td><td>2017</td></tr>",
                            "<tr><td>62</td><td>Részösszeg</td></tr>",
                            "<tr><td>63</td><td>2016</td></tr>",
                            "<tr><td>63</td><td>Részösszeg</td></tr>",
                            "<tr><td>64</td><td>2016</td></tr>",
                            "<tr><td>64</td><td>2017</td></tr>",
                            "<tr><td>64</td><td>Részösszeg</td></tr>",
                            "<tr><td>65</td><td>2016</td></tr>",
                            "<tr><td>65</td><td>Részösszeg</td></tr>",
                            "<tr><td>66</td><td>2016</td></tr>",
                            "<tr><td>66</td><td>Részösszeg</td></tr>",
                            "<tr><td>67</td><td>2016</td></tr>",
                            "<tr><td>67</td><td>2017</td></tr>",
                            "<tr><td>67</td><td>Részösszeg</td></tr>",
                            "<tr><td>68</td><td>2016</td></tr>",
                            "<tr><td>68</td><td>Részösszeg</td></tr>",
                            "<tr><td>69</td><td>2016</td></tr>",
                            "<tr><td>69</td><td>Részösszeg</td></tr>",
                            "<tr><td>70</td><td>2016</td></tr>",
                            "<tr><td>70</td><td>2017</td></tr>",
                            "<tr><td>70</td><td>Részösszeg</td></tr>",
                            "<tr><td>71</td><td>2016</td></tr>",
                            "<tr><td>71</td><td>Részösszeg</td></tr>",
                            "<tr><td>72</td><td>2016</td></tr>",
                            "<tr><td>72</td><td>Részösszeg</td></tr>",
                            "<tr><td>73</td><td>2016</td></tr>",
                            "<tr><td>73</td><td>Részösszeg</td></tr>",
                            "<tr><td>74</td><td>2016</td></tr>",
                            "<tr><td>74</td><td>Részösszeg</td></tr>",
                            "<tr><td>75</td><td>2016</td></tr>",
                            "<tr><td>75</td><td>2017</td></tr>",
                            "<tr><td>75</td><td>Részösszeg</td></tr>",
                            "<tr><td>76</td><td>2016</td></tr>",
                            "<tr><td>76</td><td>2017</td></tr>",
                            "<tr><td>76</td><td>Részösszeg</td></tr>",
                            "<tr><td>77</td><td>2016</td></tr>",
                            "<tr><td>77</td><td>2017</td></tr>",
                            "<tr><td>77</td><td>Részösszeg</td></tr>",
                            "<tr><td>78</td><td>2016</td></tr>",
                            "<tr><td>78</td><td>2017</td></tr>",
                            "<tr><td>78</td><td>Részösszeg</td></tr>",
                            "<tr><td>79</td><td>2016</td></tr>",
                            "<tr><td>79</td><td>2017</td></tr>",
                            "<tr><td>79</td><td>Részösszeg</td></tr>",
                            "<tr><td>80</td><td>2016</td></tr>",
                            "<tr><td>80</td><td>Részösszeg</td></tr>",
                            "<tr><td>81</td><td>2016</td></tr>",
                            "<tr><td>81</td><td>2017</td></tr>",
                            "<tr><td>81</td><td>Részösszeg</td></tr>",
                            "<tr><td>82</td><td>2016</td></tr>",
                            "<tr><td>82</td><td>Részösszeg</td></tr>",
                            "<tr><td>83</td><td>2016</td></tr>",
                            "<tr><td>83</td><td>Részösszeg</td></tr>",
                            "<tr><td>84</td><td>2016</td></tr>",
                            "<tr><td>84</td><td>Részösszeg</td></tr>",
                            "<tr><td>85</td><td>2016</td></tr>",
                            "<tr><td>85</td><td>2017</td></tr>",
                            "<tr><td>85</td><td>Részösszeg</td></tr>",
                            "<tr><td>86</td><td>2016</td></tr>",
                            "<tr><td>86</td><td>2017</td></tr>",
                            "<tr><td>86</td><td>Részösszeg</td></tr>",
                            "<tr><td>87</td><td>2016</td></tr>",
                            "<tr><td>87</td><td>2017</td></tr>",
                            "<tr><td>87</td><td>Részösszeg</td></tr>",
                            "<tr><td>88</td><td>2016</td></tr>",
                            "<tr><td>88</td><td>2017</td></tr>",
                            "<tr><td>88</td><td>Részösszeg</td></tr>",
                            "<tr><td>89</td><td>2016</td></tr>",
                            "<tr><td>89</td><td>2017</td></tr>",
                            "<tr><td>89</td><td>Részösszeg</td></tr>",
                            "<tr><td>90</td><td>2016</td></tr>",
                            "<tr><td>90</td><td>Részösszeg</td></tr>",
                            "<tr><td>91</td><td>2016</td></tr>",
                            "<tr><td>91</td><td>Részösszeg</td></tr>",
                            "<tr><td>92</td><td>2016</td></tr>",
                            "<tr><td>92</td><td>2017</td></tr>",
                            "<tr><td>92</td><td>Részösszeg</td></tr>",
                            "<tr><td>93</td><td>2016</td></tr>",
                            "<tr><td>93</td><td>Részösszeg</td></tr>",
                            "<tr><td>94</td><td>2016</td></tr>",
                            "<tr><td>94</td><td>2017</td></tr>",
                            "<tr><td>94</td><td>Részösszeg</td></tr>",
                            "<tr><td>95</td><td>2016</td></tr>",
                            "<tr><td>95</td><td>2017</td></tr>",
                            "<tr><td>95</td><td>Részösszeg</td></tr>",
                            "<tr><td>96</td><td>2016</td></tr>",
                            "<tr><td>96</td><td>2017</td></tr>",
                            "<tr><td>96</td><td>Részösszeg</td></tr>",
                            "<tr><td>97</td><td>2016</td></tr>",
                            "<tr><td>97</td><td>2017</td></tr>",
                            "<tr><td>97</td><td>Részösszeg</td></tr>",
                            "<tr><td>98</td><td>2016</td></tr>",
                            "<tr><td>98</td><td>Részösszeg</td></tr>",
                            "<tr><td>99</td><td>2016</td></tr>",
                            "<tr><td>99</td><td>2017</td></tr>",
                            "<tr><td>99</td><td>Részösszeg</td></tr>",
                            "<tr><td>100</td><td>2016</td></tr>",
                            "<tr><td>100</td><td>2017</td></tr>",
                            "<tr><td>100</td><td>Részösszeg</td></tr>",
                            "<tr><td>101</td><td>2016</td></tr>",
                            "<tr><td>101</td><td>2017</td></tr>",
                            "<tr><td>101</td><td>Részösszeg</td></tr>",
                            "<tr><td>102</td><td>2016</td></tr>",
                            "<tr><td>102</td><td>Részösszeg</td></tr>",
                            "<tr><td>103</td><td>2016</td></tr>",
                            "<tr><td>103</td><td>2017</td></tr>",
                            "<tr><td>103</td><td>Részösszeg</td></tr>",
                            "<tr><td>104</td><td>2016</td></tr>",
                            "<tr><td>104</td><td>2017</td></tr>",
                            "<tr><td>104</td><td>Részösszeg</td></tr>",
                            "<tr><td>105</td><td>2016</td></tr>",
                            "<tr><td>105</td><td>2017</td></tr>",
                            "<tr><td>105</td><td>Részösszeg</td></tr>",
                            "<tr><td>106</td><td>2016</td></tr>",
                            "<tr><td>106</td><td>2017</td></tr>",
                            "<tr><td>106</td><td>Részösszeg</td></tr>",
                            "<tr><td>107</td><td>2016</td></tr>",
                            "<tr><td>107</td><td>2017</td></tr>",
                            "<tr><td>107</td><td>Részösszeg</td></tr>",
                            "<tr><td>108</td><td>2016</td></tr>",
                            "<tr><td>108</td><td>Részösszeg</td></tr>",
                            "<tr><td>109</td><td>2016</td></tr>",
                            "<tr><td>109</td><td>2017</td></tr>",
                            "<tr><td>109</td><td>Részösszeg</td></tr>",
                            "<tr><td>110</td><td>2016</td></tr>",
                            "<tr><td>110</td><td>2017</td></tr>",
                            "<tr><td>110</td><td>Részösszeg</td></tr>",
                            "<tr><td>111</td><td>2016</td></tr>",
                            "<tr><td>111</td><td>Részösszeg</td></tr>",
                            "<tr><td>112</td><td>2016</td></tr>",
                            "<tr><td>112</td><td>2017</td></tr>",
                            "<tr><td>112</td><td>Részösszeg</td></tr>",
                            "<tr><td>113</td><td>2016</td></tr>",
                            "<tr><td>113</td><td>2017</td></tr>",
                            "<tr><td>113</td><td>Részösszeg</td></tr>",
                            "<tr><td>114</td><td>2016</td></tr>",
                            "<tr><td>114</td><td>2017</td></tr>",
                            "<tr><td>114</td><td>Részösszeg</td></tr>",
                            "<tr><td>115</td><td>2016</td></tr>",
                            "<tr><td>115</td><td>2017</td></tr>",
                            "<tr><td>115</td><td>Részösszeg</td></tr>",
                            "<tr><td>116</td><td>2017</td></tr>",
                            "<tr><td>116</td><td>Részösszeg</td></tr>",
                            "<tr><td>117</td><td>2016</td></tr>",
                            "<tr><td>117</td><td>2017</td></tr>",
                            "<tr><td>117</td><td>Részösszeg</td></tr>",
                            "<tr><td>118</td><td>2016</td></tr>",
                            "<tr><td>118</td><td>2017</td></tr>",
                            "<tr><td>118</td><td>Részösszeg</td></tr>",
                            "<tr><td>119</td><td>2016</td></tr>",
                            "<tr><td>119</td><td>2017</td></tr>",
                            "<tr><td>119</td><td>Részösszeg</td></tr>",
                            "<tr><td>120</td><td>2016</td></tr>",
                            "<tr><td>120</td><td>2017</td></tr>",
                            "<tr><td>120</td><td>Részösszeg</td></tr>",
                            "<tr><td>121</td><td>2016</td></tr>",
                            "<tr><td>121</td><td>Részösszeg</td></tr>",
                            "<tr><td>122</td><td>2016</td></tr>",
                            "<tr><td>122</td><td>2017</td></tr>",
                            "<tr><td>122</td><td>Részösszeg</td></tr>",
                            "<tr><td>123</td><td>2016</td></tr>",
                            "<tr><td>123</td><td>Részösszeg</td></tr>",
                            "<tr><td>124</td><td>2016</td></tr>",
                            "<tr><td>124</td><td>2017</td></tr>",
                            "<tr><td>124</td><td>Részösszeg</td></tr>",
                            "<tr><td>125</td><td>2016</td></tr>",
                            "<tr><td>125</td><td>Részösszeg</td></tr>",
                            "<tr><td>126</td><td>2016</td></tr>",
                            "<tr><td>126</td><td>2017</td></tr>",
                            "<tr><td>126</td><td>Részösszeg</td></tr>",
                            "<tr><td>127</td><td>2016</td></tr>",
                            "<tr><td>127</td><td>2017</td></tr>",
                            "<tr><td>127</td><td>Részösszeg</td></tr>",
                            "<tr><td>128</td><td>2016</td></tr>",
                            "<tr><td>128</td><td>2017</td></tr>",
                            "<tr><td>128</td><td>Részösszeg</td></tr>",
                            "<tr><td>129</td><td>2016</td></tr>",
                            "<tr><td>129</td><td>2017</td></tr>",
                            "<tr><td>129</td><td>Részösszeg</td></tr>",
                            "<tr><td>130</td><td>2016</td></tr>",
                            "<tr><td>130</td><td>2017</td></tr>",
                            "<tr><td>130</td><td>Részösszeg</td></tr>",
                            "<tr><td>131</td><td>2016</td></tr>",
                            "<tr><td>131</td><td>2017</td></tr>",
                            "<tr><td>131</td><td>Részösszeg</td></tr>",
                            "<tr><td>132</td><td>2016</td></tr>",
                            "<tr><td>132</td><td>2017</td></tr>",
                            "<tr><td>132</td><td>Részösszeg</td></tr>",
                            "<tr><td>133</td><td>2016</td></tr>",
                            "<tr><td>133</td><td>2017</td></tr>",
                            "<tr><td>133</td><td>Részösszeg</td></tr>",
                            "<tr><td>134</td><td>2016</td></tr>",
                            "<tr><td>134</td><td>2017</td></tr>",
                            "<tr><td>134</td><td>Részösszeg</td></tr>",
                            "<tr><td>135</td><td>2016</td></tr>",
                            "<tr><td>135</td><td>Részösszeg</td></tr>",
                            "<tr><td>136</td><td>2016</td></tr>",
                            "<tr><td>136</td><td>Részösszeg</td></tr>",
                            "<tr><td>137</td><td>2016</td></tr>",
                            "<tr><td>137</td><td>Részösszeg</td></tr>",
                            "<tr><td>138</td><td>2016</td></tr>",
                            "<tr><td>138</td><td>Részösszeg</td></tr>",
                            "<tr><td>139</td><td>2016</td></tr>",
                            "<tr><td>139</td><td>2017</td></tr>",
                            "<tr><td>139</td><td>Részösszeg</td></tr>",
                            "<tr><td>140</td><td>2016</td></tr>",
                            "<tr><td>140</td><td>Részösszeg</td></tr>",
                            "<tr><td>141</td><td>2016</td></tr>",
                            "<tr><td>141</td><td>Részösszeg</td></tr>",
                            "<tr><td>142</td><td>2016</td></tr>",
                            "<tr><td>142</td><td>2017</td></tr>",
                            "<tr><td>142</td><td>Részösszeg</td></tr>",
                            "<tr><td>143</td><td>2016</td></tr>",
                            "<tr><td>143</td><td>2017</td></tr>",
                            "<tr><td>143</td><td>Részösszeg</td></tr>",
                            "<tr><td>144</td><td>2016</td></tr>",
                            "<tr><td>144</td><td>2017</td></tr>",
                            "<tr><td>144</td><td>Részösszeg</td></tr>",
                            "<tr><td>145</td><td>2016</td></tr>",
                            "<tr><td>145</td><td>2017</td></tr>",
                            "<tr><td>145</td><td>Részösszeg</td></tr>",
                            "<tr><td>146</td><td>2016</td></tr>",
                            "<tr><td>146</td><td>2017</td></tr>",
                            "<tr><td>146</td><td>Részösszeg</td></tr>",
                            "<tr><td>147</td><td>2016</td></tr>",
                            "<tr><td>147</td><td>Részösszeg</td></tr>",
                            "<tr><td>148</td><td>2016</td></tr>",
                            "<tr><td>148</td><td>2017</td></tr>",
                            "<tr><td>148</td><td>Részösszeg</td></tr>",
                            "<tr><td>149</td><td>2016</td></tr>",
                            "<tr><td>149</td><td>2017</td></tr>",
                            "<tr><td>149</td><td>Részösszeg</td></tr>",
                            "<tr><td>150</td><td>2016</td></tr>",
                            "<tr><td>150</td><td>2017</td></tr>",
                            "<tr><td>150</td><td>Részösszeg</td></tr>",
                            "<tr><td>151</td><td>2016</td></tr>",
                            "<tr><td>151</td><td>Részösszeg</td></tr>",
                            "<tr><td>152</td><td>2016</td></tr>",
                            "<tr><td>152</td><td>2017</td></tr>",
                            "<tr><td>152</td><td>Részösszeg</td></tr>",
                            "<tr><td>153</td><td>2016</td></tr>",
                            "<tr><td>153</td><td>2017</td></tr>",
                            "<tr><td>153</td><td>Részösszeg</td></tr>",
                            "<tr><td>154</td><td>2016</td></tr>",
                            "<tr><td>154</td><td>2017</td></tr>",
                            "<tr><td>154</td><td>Részösszeg</td></tr>",
                            "<tr><td>155</td><td>2016</td></tr>",
                            "<tr><td>155</td><td>2017</td></tr>",
                            "<tr><td>155</td><td>Részösszeg</td></tr>",
                            "<tr><td>156</td><td>2016</td></tr>",
                            "<tr><td>156</td><td>2017</td></tr>",
                            "<tr><td>156</td><td>Részösszeg</td></tr>",
                            "<tr><td>157</td><td>2016</td></tr>",
                            "<tr><td>157</td><td>2017</td></tr>",
                            "<tr><td>157</td><td>Részösszeg</td></tr>",
                            "<tr><td>158</td><td>2016</td></tr>",
                            "<tr><td>158</td><td>Részösszeg</td></tr>",
                            "<tr><td>160</td><td>2016</td></tr>",
                            "<tr><td>160</td><td>2017</td></tr>",
                            "<tr><td>160</td><td>Részösszeg</td></tr>",
                            "<tr><td>161</td><td>2016</td></tr>",
                            "<tr><td>161</td><td>2017</td></tr>",
                            "<tr><td>161</td><td>Részösszeg</td></tr>",
                            "<tr><td>162</td><td>2016</td></tr>",
                            "<tr><td>162</td><td>Részösszeg</td></tr>",
                            "<tr><td>163</td><td>2016</td></tr>",
                            "<tr><td>163</td><td>2017</td></tr>",
                            "<tr><td>163</td><td>Részösszeg</td></tr>",
                            "<tr><td>164</td><td>2016</td></tr>",
                            "<tr><td>164</td><td>Részösszeg</td></tr>",
                            "<tr><td>165</td><td>2016</td></tr>",
                            "<tr><td>165</td><td>Részösszeg</td></tr>",
                            "<tr><td>166</td><td>2016</td></tr>",
                            "<tr><td>166</td><td>2017</td></tr>",
                            "<tr><td>166</td><td>Részösszeg</td></tr>",
                            "<tr><td>167</td><td>2016</td></tr>",
                            "<tr><td>167</td><td>2017</td></tr>",
                            "<tr><td>167</td><td>Részösszeg</td></tr>",
                            "<tr><td>168</td><td>2016</td></tr>",
                            "<tr><td>168</td><td>Részösszeg</td></tr>",
                            "<tr><td>169</td><td>2016</td></tr>",
                            "<tr><td>169</td><td>2017</td></tr>",
                            "<tr><td>169</td><td>Részösszeg</td></tr>",
                            "<tr><td>170</td><td>2016</td></tr>",
                            "<tr><td>170</td><td>Részösszeg</td></tr>",
                            "<tr><td>171</td><td>2016</td></tr>",
                            "<tr><td>171</td><td>2017</td></tr>",
                            "<tr><td>171</td><td>Részösszeg</td></tr>",
                            "<tr><td>172</td><td>2016</td></tr>",
                            "<tr><td>172</td><td>2017</td></tr>",
                            "<tr><td>172</td><td>Részösszeg</td></tr>",
                            "<tr><td>173</td><td>2016</td></tr>",
                            "<tr><td>173</td><td>2017</td></tr>",
                            "<tr><td>173</td><td>Részösszeg</td></tr>",
                            "<tr><td>174</td><td>2016</td></tr>",
                            "<tr><td>174</td><td>Részösszeg</td></tr>",
                            "<tr><td>175</td><td>2016</td></tr>",
                            "<tr><td>175</td><td>Részösszeg</td></tr>",
                            "<tr><td>176</td><td>2016</td></tr>",
                            "<tr><td>176</td><td>2017</td></tr>",
                            "<tr><td>176</td><td>Részösszeg</td></tr>",
                            "<tr><td>177</td><td>2016</td></tr>",
                            "<tr><td>177</td><td>2017</td></tr>",
                            "<tr><td>177</td><td>Részösszeg</td></tr>",
                            "<tr><td>178</td><td>2016</td></tr>",
                            "<tr><td>178</td><td>Részösszeg</td></tr>",
                            "<tr><td>179</td><td>2016</td></tr>",
                            "<tr><td>179</td><td>2017</td></tr>",
                            "<tr><td>179</td><td>Részösszeg</td></tr>",
                            "<tr><td>180</td><td>2016</td></tr>",
                            "<tr><td>180</td><td>2017</td></tr>",
                            "<tr><td>180</td><td>Részösszeg</td></tr>",
                            "<tr><td>181</td><td>2016</td></tr>",
                            "<tr><td>181</td><td>Részösszeg</td></tr>",
                            "<tr><td>182</td><td>2016</td></tr>",
                            "<tr><td>182</td><td>2017</td></tr>",
                            "<tr><td>182</td><td>Részösszeg</td></tr>",
                            "<tr><td>183</td><td>2016</td></tr>",
                            "<tr><td>183</td><td>2017</td></tr>",
                            "<tr><td>183</td><td>Részösszeg</td></tr>",
                            "<tr><td>184</td><td>2016</td></tr>",
                            "<tr><td>184</td><td>Részösszeg</td></tr>",
                            "<tr><td>185</td><td>2016</td></tr>",
                            "<tr><td>185</td><td>2017</td></tr>",
                            "<tr><td>185</td><td>Részösszeg</td></tr>",
                            "<tr><td>186</td><td>2016</td></tr>",
                            "<tr><td>186</td><td>2017</td></tr>",
                            "<tr><td>186</td><td>Részösszeg</td></tr>",
                            "<tr><td>187</td><td>2016</td></tr>",
                            "<tr><td>187</td><td>Részösszeg</td></tr>",
                            "<tr><td>188</td><td>2016</td></tr>",
                            "<tr><td>188</td><td>Részösszeg</td></tr>",
                            "<tr><td>189</td><td>2016</td></tr>",
                            "<tr><td>189</td><td>2017</td></tr>",
                            "<tr><td>189</td><td>Részösszeg</td></tr>",
                            "<tr><td>190</td><td>2016</td></tr>",
                            "<tr><td>190</td><td>2017</td></tr>",
                            "<tr><td>190</td><td>Részösszeg</td></tr>",
                            "<tr><td>191</td><td>2016</td></tr>",
                            "<tr><td>191</td><td>2017</td></tr>",
                            "<tr><td>191</td><td>Részösszeg</td></tr>",
                            "<tr><td>192</td><td>2016</td></tr>",
                            "<tr><td>192</td><td>Részösszeg</td></tr>",
                            "<tr><td>193</td><td>2016</td></tr>",
                            "<tr><td>193</td><td>Részösszeg</td></tr>",
                            "<tr><td>194</td><td>2016</td></tr>",
                            "<tr><td>194</td><td>Részösszeg</td></tr>",
                            "<tr><td>195</td><td>2016</td></tr>",
                            "<tr><td>195</td><td>2017</td></tr>",
                            "<tr><td>195</td><td>Részösszeg</td></tr>",
                            "<tr><td>196</td><td>2016</td></tr>",
                            "<tr><td>196</td><td>Részösszeg</td></tr>",
                            "<tr><td>197</td><td>2016</td></tr>",
                            "<tr><td>197</td><td>Részösszeg</td></tr>",
                            "<tr><td>198</td><td>2016</td></tr>",
                            "<tr><td>198</td><td>2017</td></tr>",
                            "<tr><td>198</td><td>Részösszeg</td></tr>",
                            "<tr><td>Végösszeg</td><td>Végösszeg</td></tr>",
                            "</table>"
                        ]
                    }
                }
            ],
            "execution_count": 7
        },
        {
            "cell_type": "code",
            "source": [
                "SELECT sz.SZOBA_ID, ferohely,\r\n",
                "    DENSE_RANK() OVER (ORDER BY SZOBA_SZAMA ASC, ferohely DESC) AS 'Helyezés'\r\n",
                "FROM Szoba sz \r\n",
                "    INNER JOIN Foglalas f ON f.SZOBA_FK = sz.SZOBA_ID"
            ],
            "metadata": {
                "language": "sql",
                "azdata_cell_guid": "c7f60acd-3656-4f1d-b11c-24f8f209ba89",
                "tags": []
            },
            "outputs": [
                {
                    "output_type": "display_data",
                    "data": {
                        "text/html": "(1027 rows affected)"
                    },
                    "metadata": {}
                },
                {
                    "output_type": "display_data",
                    "data": {
                        "text/html": "Total execution time: 00:00:00.018"
                    },
                    "metadata": {}
                },
                {
                    "output_type": "execute_result",
                    "metadata": {},
                    "execution_count": 34,
                    "data": {
                        "application/vnd.dataresource+json": {
                            "schema": {
                                "fields": [
                                    {
                                        "name": "SZOBA_ID"
                                    },
                                    {
                                        "name": "ferohely"
                                    },
                                    {
                                        "name": "(No column name)"
                                    }
                                ]
                            },
                            "data": [
                                {
                                    "SZOBA_ID": "17",
                                    "ferohely": "3",
                                    "(No column name)": "1"
                                },
                                {
                                    "SZOBA_ID": "1",
                                    "ferohely": "3",
                                    "(No column name)": "1"
                                },
                                {
                                    "SZOBA_ID": "17",
                                    "ferohely": "3",
                                    "(No column name)": "1"
                                },
                                {
                                    "SZOBA_ID": "160",
                                    "ferohely": "3",
                                    "(No column name)": "1"
                                },
                                {
                                    "SZOBA_ID": "135",
                                    "ferohely": "3",
                                    "(No column name)": "1"
                                },
                                {
                                    "SZOBA_ID": "1",
                                    "ferohely": "3",
                                    "(No column name)": "1"
                                },
                                {
                                    "SZOBA_ID": "17",
                                    "ferohely": "3",
                                    "(No column name)": "1"
                                },
                                {
                                    "SZOBA_ID": "13",
                                    "ferohely": "3",
                                    "(No column name)": "1"
                                },
                                {
                                    "SZOBA_ID": "1",
                                    "ferohely": "3",
                                    "(No column name)": "1"
                                },
                                {
                                    "SZOBA_ID": "135",
                                    "ferohely": "3",
                                    "(No column name)": "1"
                                },
                                {
                                    "SZOBA_ID": "17",
                                    "ferohely": "3",
                                    "(No column name)": "1"
                                },
                                {
                                    "SZOBA_ID": "160",
                                    "ferohely": "3",
                                    "(No column name)": "1"
                                },
                                {
                                    "SZOBA_ID": "160",
                                    "ferohely": "3",
                                    "(No column name)": "1"
                                },
                                {
                                    "SZOBA_ID": "40",
                                    "ferohely": "3",
                                    "(No column name)": "1"
                                },
                                {
                                    "SZOBA_ID": "160",
                                    "ferohely": "3",
                                    "(No column name)": "1"
                                },
                                {
                                    "SZOBA_ID": "40",
                                    "ferohely": "3",
                                    "(No column name)": "1"
                                },
                                {
                                    "SZOBA_ID": "1",
                                    "ferohely": "3",
                                    "(No column name)": "1"
                                },
                                {
                                    "SZOBA_ID": "40",
                                    "ferohely": "3",
                                    "(No column name)": "1"
                                },
                                {
                                    "SZOBA_ID": "13",
                                    "ferohely": "3",
                                    "(No column name)": "1"
                                },
                                {
                                    "SZOBA_ID": "25",
                                    "ferohely": "3",
                                    "(No column name)": "1"
                                },
                                {
                                    "SZOBA_ID": "40",
                                    "ferohely": "3",
                                    "(No column name)": "1"
                                },
                                {
                                    "SZOBA_ID": "1",
                                    "ferohely": "3",
                                    "(No column name)": "1"
                                },
                                {
                                    "SZOBA_ID": "1",
                                    "ferohely": "3",
                                    "(No column name)": "1"
                                },
                                {
                                    "SZOBA_ID": "1",
                                    "ferohely": "3",
                                    "(No column name)": "1"
                                },
                                {
                                    "SZOBA_ID": "135",
                                    "ferohely": "3",
                                    "(No column name)": "1"
                                },
                                {
                                    "SZOBA_ID": "17",
                                    "ferohely": "3",
                                    "(No column name)": "1"
                                },
                                {
                                    "SZOBA_ID": "1",
                                    "ferohely": "3",
                                    "(No column name)": "1"
                                },
                                {
                                    "SZOBA_ID": "13",
                                    "ferohely": "3",
                                    "(No column name)": "1"
                                },
                                {
                                    "SZOBA_ID": "25",
                                    "ferohely": "3",
                                    "(No column name)": "1"
                                },
                                {
                                    "SZOBA_ID": "13",
                                    "ferohely": "3",
                                    "(No column name)": "1"
                                },
                                {
                                    "SZOBA_ID": "17",
                                    "ferohely": "3",
                                    "(No column name)": "1"
                                },
                                {
                                    "SZOBA_ID": "160",
                                    "ferohely": "3",
                                    "(No column name)": "1"
                                },
                                {
                                    "SZOBA_ID": "130",
                                    "ferohely": "2",
                                    "(No column name)": "2"
                                },
                                {
                                    "SZOBA_ID": "85",
                                    "ferohely": "2",
                                    "(No column name)": "2"
                                },
                                {
                                    "SZOBA_ID": "165",
                                    "ferohely": "2",
                                    "(No column name)": "2"
                                },
                                {
                                    "SZOBA_ID": "91",
                                    "ferohely": "2",
                                    "(No column name)": "2"
                                },
                                {
                                    "SZOBA_ID": "85",
                                    "ferohely": "2",
                                    "(No column name)": "2"
                                },
                                {
                                    "SZOBA_ID": "50",
                                    "ferohely": "2",
                                    "(No column name)": "2"
                                },
                                {
                                    "SZOBA_ID": "165",
                                    "ferohely": "2",
                                    "(No column name)": "2"
                                },
                                {
                                    "SZOBA_ID": "91",
                                    "ferohely": "2",
                                    "(No column name)": "2"
                                },
                                {
                                    "SZOBA_ID": "50",
                                    "ferohely": "2",
                                    "(No column name)": "2"
                                },
                                {
                                    "SZOBA_ID": "85",
                                    "ferohely": "2",
                                    "(No column name)": "2"
                                },
                                {
                                    "SZOBA_ID": "50",
                                    "ferohely": "2",
                                    "(No column name)": "2"
                                },
                                {
                                    "SZOBA_ID": "130",
                                    "ferohely": "2",
                                    "(No column name)": "2"
                                },
                                {
                                    "SZOBA_ID": "130",
                                    "ferohely": "2",
                                    "(No column name)": "2"
                                },
                                {
                                    "SZOBA_ID": "165",
                                    "ferohely": "2",
                                    "(No column name)": "2"
                                },
                                {
                                    "SZOBA_ID": "165",
                                    "ferohely": "2",
                                    "(No column name)": "2"
                                },
                                {
                                    "SZOBA_ID": "165",
                                    "ferohely": "2",
                                    "(No column name)": "2"
                                },
                                {
                                    "SZOBA_ID": "165",
                                    "ferohely": "2",
                                    "(No column name)": "2"
                                },
                                {
                                    "SZOBA_ID": "130",
                                    "ferohely": "2",
                                    "(No column name)": "2"
                                },
                                {
                                    "SZOBA_ID": "50",
                                    "ferohely": "2",
                                    "(No column name)": "2"
                                },
                                {
                                    "SZOBA_ID": "91",
                                    "ferohely": "2",
                                    "(No column name)": "2"
                                },
                                {
                                    "SZOBA_ID": "130",
                                    "ferohely": "2",
                                    "(No column name)": "2"
                                },
                                {
                                    "SZOBA_ID": "130",
                                    "ferohely": "2",
                                    "(No column name)": "2"
                                },
                                {
                                    "SZOBA_ID": "91",
                                    "ferohely": "2",
                                    "(No column name)": "2"
                                },
                                {
                                    "SZOBA_ID": "165",
                                    "ferohely": "2",
                                    "(No column name)": "2"
                                },
                                {
                                    "SZOBA_ID": "85",
                                    "ferohely": "2",
                                    "(No column name)": "2"
                                },
                                {
                                    "SZOBA_ID": "144",
                                    "ferohely": "3",
                                    "(No column name)": "3"
                                },
                                {
                                    "SZOBA_ID": "10",
                                    "ferohely": "3",
                                    "(No column name)": "3"
                                },
                                {
                                    "SZOBA_ID": "10",
                                    "ferohely": "3",
                                    "(No column name)": "3"
                                },
                                {
                                    "SZOBA_ID": "49",
                                    "ferohely": "3",
                                    "(No column name)": "3"
                                },
                                {
                                    "SZOBA_ID": "10",
                                    "ferohely": "3",
                                    "(No column name)": "3"
                                },
                                {
                                    "SZOBA_ID": "34",
                                    "ferohely": "3",
                                    "(No column name)": "3"
                                },
                                {
                                    "SZOBA_ID": "34",
                                    "ferohely": "3",
                                    "(No column name)": "3"
                                },
                                {
                                    "SZOBA_ID": "49",
                                    "ferohely": "3",
                                    "(No column name)": "3"
                                },
                                {
                                    "SZOBA_ID": "34",
                                    "ferohely": "3",
                                    "(No column name)": "3"
                                },
                                {
                                    "SZOBA_ID": "49",
                                    "ferohely": "3",
                                    "(No column name)": "3"
                                },
                                {
                                    "SZOBA_ID": "34",
                                    "ferohely": "3",
                                    "(No column name)": "3"
                                },
                                {
                                    "SZOBA_ID": "49",
                                    "ferohely": "3",
                                    "(No column name)": "3"
                                },
                                {
                                    "SZOBA_ID": "144",
                                    "ferohely": "3",
                                    "(No column name)": "3"
                                },
                                {
                                    "SZOBA_ID": "49",
                                    "ferohely": "3",
                                    "(No column name)": "3"
                                },
                                {
                                    "SZOBA_ID": "144",
                                    "ferohely": "3",
                                    "(No column name)": "3"
                                },
                                {
                                    "SZOBA_ID": "49",
                                    "ferohely": "3",
                                    "(No column name)": "3"
                                },
                                {
                                    "SZOBA_ID": "10",
                                    "ferohely": "3",
                                    "(No column name)": "3"
                                },
                                {
                                    "SZOBA_ID": "144",
                                    "ferohely": "3",
                                    "(No column name)": "3"
                                },
                                {
                                    "SZOBA_ID": "49",
                                    "ferohely": "3",
                                    "(No column name)": "3"
                                },
                                {
                                    "SZOBA_ID": "144",
                                    "ferohely": "3",
                                    "(No column name)": "3"
                                },
                                {
                                    "SZOBA_ID": "59",
                                    "ferohely": "2",
                                    "(No column name)": "4"
                                },
                                {
                                    "SZOBA_ID": "100",
                                    "ferohely": "2",
                                    "(No column name)": "4"
                                },
                                {
                                    "SZOBA_ID": "100",
                                    "ferohely": "2",
                                    "(No column name)": "4"
                                },
                                {
                                    "SZOBA_ID": "174",
                                    "ferohely": "2",
                                    "(No column name)": "4"
                                },
                                {
                                    "SZOBA_ID": "59",
                                    "ferohely": "2",
                                    "(No column name)": "4"
                                },
                                {
                                    "SZOBA_ID": "59",
                                    "ferohely": "2",
                                    "(No column name)": "4"
                                },
                                {
                                    "SZOBA_ID": "59",
                                    "ferohely": "2",
                                    "(No column name)": "4"
                                },
                                {
                                    "SZOBA_ID": "59",
                                    "ferohely": "2",
                                    "(No column name)": "4"
                                },
                                {
                                    "SZOBA_ID": "59",
                                    "ferohely": "2",
                                    "(No column name)": "4"
                                },
                                {
                                    "SZOBA_ID": "59",
                                    "ferohely": "2",
                                    "(No column name)": "4"
                                },
                                {
                                    "SZOBA_ID": "174",
                                    "ferohely": "2",
                                    "(No column name)": "4"
                                },
                                {
                                    "SZOBA_ID": "174",
                                    "ferohely": "2",
                                    "(No column name)": "4"
                                },
                                {
                                    "SZOBA_ID": "100",
                                    "ferohely": "2",
                                    "(No column name)": "4"
                                },
                                {
                                    "SZOBA_ID": "100",
                                    "ferohely": "2",
                                    "(No column name)": "4"
                                },
                                {
                                    "SZOBA_ID": "174",
                                    "ferohely": "2",
                                    "(No column name)": "4"
                                },
                                {
                                    "SZOBA_ID": "35",
                                    "ferohely": "3",
                                    "(No column name)": "5"
                                },
                                {
                                    "SZOBA_ID": "60",
                                    "ferohely": "3",
                                    "(No column name)": "5"
                                },
                                {
                                    "SZOBA_ID": "35",
                                    "ferohely": "3",
                                    "(No column name)": "5"
                                },
                                {
                                    "SZOBA_ID": "35",
                                    "ferohely": "3",
                                    "(No column name)": "5"
                                },
                                {
                                    "SZOBA_ID": "35",
                                    "ferohely": "3",
                                    "(No column name)": "5"
                                },
                                {
                                    "SZOBA_ID": "35",
                                    "ferohely": "3",
                                    "(No column name)": "5"
                                },
                                {
                                    "SZOBA_ID": "35",
                                    "ferohely": "3",
                                    "(No column name)": "5"
                                },
                                {
                                    "SZOBA_ID": "35",
                                    "ferohely": "3",
                                    "(No column name)": "5"
                                },
                                {
                                    "SZOBA_ID": "35",
                                    "ferohely": "3",
                                    "(No column name)": "5"
                                },
                                {
                                    "SZOBA_ID": "35",
                                    "ferohely": "3",
                                    "(No column name)": "5"
                                },
                                {
                                    "SZOBA_ID": "175",
                                    "ferohely": "2",
                                    "(No column name)": "6"
                                },
                                {
                                    "SZOBA_ID": "145",
                                    "ferohely": "2",
                                    "(No column name)": "6"
                                },
                                {
                                    "SZOBA_ID": "101",
                                    "ferohely": "2",
                                    "(No column name)": "6"
                                },
                                {
                                    "SZOBA_ID": "11",
                                    "ferohely": "2",
                                    "(No column name)": "6"
                                },
                                {
                                    "SZOBA_ID": "145",
                                    "ferohely": "2",
                                    "(No column name)": "6"
                                },
                                {
                                    "SZOBA_ID": "175",
                                    "ferohely": "2",
                                    "(No column name)": "6"
                                },
                                {
                                    "SZOBA_ID": "145",
                                    "ferohely": "2",
                                    "(No column name)": "6"
                                },
                                {
                                    "SZOBA_ID": "11",
                                    "ferohely": "2",
                                    "(No column name)": "6"
                                },
                                {
                                    "SZOBA_ID": "11",
                                    "ferohely": "2",
                                    "(No column name)": "6"
                                },
                                {
                                    "SZOBA_ID": "101",
                                    "ferohely": "2",
                                    "(No column name)": "6"
                                },
                                {
                                    "SZOBA_ID": "145",
                                    "ferohely": "2",
                                    "(No column name)": "6"
                                },
                                {
                                    "SZOBA_ID": "145",
                                    "ferohely": "2",
                                    "(No column name)": "6"
                                },
                                {
                                    "SZOBA_ID": "175",
                                    "ferohely": "2",
                                    "(No column name)": "6"
                                },
                                {
                                    "SZOBA_ID": "11",
                                    "ferohely": "2",
                                    "(No column name)": "6"
                                },
                                {
                                    "SZOBA_ID": "175",
                                    "ferohely": "2",
                                    "(No column name)": "6"
                                },
                                {
                                    "SZOBA_ID": "145",
                                    "ferohely": "2",
                                    "(No column name)": "6"
                                },
                                {
                                    "SZOBA_ID": "101",
                                    "ferohely": "2",
                                    "(No column name)": "6"
                                },
                                {
                                    "SZOBA_ID": "175",
                                    "ferohely": "2",
                                    "(No column name)": "6"
                                },
                                {
                                    "SZOBA_ID": "146",
                                    "ferohely": "3",
                                    "(No column name)": "7"
                                },
                                {
                                    "SZOBA_ID": "146",
                                    "ferohely": "3",
                                    "(No column name)": "7"
                                },
                                {
                                    "SZOBA_ID": "61",
                                    "ferohely": "3",
                                    "(No column name)": "7"
                                },
                                {
                                    "SZOBA_ID": "36",
                                    "ferohely": "3",
                                    "(No column name)": "7"
                                },
                                {
                                    "SZOBA_ID": "36",
                                    "ferohely": "3",
                                    "(No column name)": "7"
                                },
                                {
                                    "SZOBA_ID": "61",
                                    "ferohely": "3",
                                    "(No column name)": "7"
                                },
                                {
                                    "SZOBA_ID": "146",
                                    "ferohely": "3",
                                    "(No column name)": "7"
                                },
                                {
                                    "SZOBA_ID": "176",
                                    "ferohely": "3",
                                    "(No column name)": "7"
                                },
                                {
                                    "SZOBA_ID": "36",
                                    "ferohely": "3",
                                    "(No column name)": "7"
                                },
                                {
                                    "SZOBA_ID": "146",
                                    "ferohely": "3",
                                    "(No column name)": "7"
                                },
                                {
                                    "SZOBA_ID": "36",
                                    "ferohely": "3",
                                    "(No column name)": "7"
                                },
                                {
                                    "SZOBA_ID": "36",
                                    "ferohely": "3",
                                    "(No column name)": "7"
                                },
                                {
                                    "SZOBA_ID": "36",
                                    "ferohely": "3",
                                    "(No column name)": "7"
                                },
                                {
                                    "SZOBA_ID": "146",
                                    "ferohely": "3",
                                    "(No column name)": "7"
                                },
                                {
                                    "SZOBA_ID": "176",
                                    "ferohely": "3",
                                    "(No column name)": "7"
                                },
                                {
                                    "SZOBA_ID": "176",
                                    "ferohely": "3",
                                    "(No column name)": "7"
                                },
                                {
                                    "SZOBA_ID": "61",
                                    "ferohely": "3",
                                    "(No column name)": "7"
                                },
                                {
                                    "SZOBA_ID": "176",
                                    "ferohely": "3",
                                    "(No column name)": "7"
                                },
                                {
                                    "SZOBA_ID": "61",
                                    "ferohely": "3",
                                    "(No column name)": "7"
                                },
                                {
                                    "SZOBA_ID": "176",
                                    "ferohely": "3",
                                    "(No column name)": "7"
                                },
                                {
                                    "SZOBA_ID": "146",
                                    "ferohely": "3",
                                    "(No column name)": "7"
                                },
                                {
                                    "SZOBA_ID": "61",
                                    "ferohely": "3",
                                    "(No column name)": "7"
                                },
                                {
                                    "SZOBA_ID": "176",
                                    "ferohely": "3",
                                    "(No column name)": "7"
                                },
                                {
                                    "SZOBA_ID": "12",
                                    "ferohely": "2",
                                    "(No column name)": "8"
                                },
                                {
                                    "SZOBA_ID": "12",
                                    "ferohely": "2",
                                    "(No column name)": "8"
                                },
                                {
                                    "SZOBA_ID": "12",
                                    "ferohely": "2",
                                    "(No column name)": "8"
                                },
                                {
                                    "SZOBA_ID": "102",
                                    "ferohely": "2",
                                    "(No column name)": "8"
                                },
                                {
                                    "SZOBA_ID": "12",
                                    "ferohely": "2",
                                    "(No column name)": "8"
                                },
                                {
                                    "SZOBA_ID": "12",
                                    "ferohely": "2",
                                    "(No column name)": "8"
                                },
                                {
                                    "SZOBA_ID": "12",
                                    "ferohely": "2",
                                    "(No column name)": "8"
                                },
                                {
                                    "SZOBA_ID": "12",
                                    "ferohely": "2",
                                    "(No column name)": "8"
                                },
                                {
                                    "SZOBA_ID": "102",
                                    "ferohely": "2",
                                    "(No column name)": "8"
                                },
                                {
                                    "SZOBA_ID": "12",
                                    "ferohely": "2",
                                    "(No column name)": "8"
                                },
                                {
                                    "SZOBA_ID": "12",
                                    "ferohely": "2",
                                    "(No column name)": "8"
                                },
                                {
                                    "SZOBA_ID": "177",
                                    "ferohely": "3",
                                    "(No column name)": "9"
                                },
                                {
                                    "SZOBA_ID": "177",
                                    "ferohely": "3",
                                    "(No column name)": "9"
                                },
                                {
                                    "SZOBA_ID": "177",
                                    "ferohely": "3",
                                    "(No column name)": "9"
                                },
                                {
                                    "SZOBA_ID": "177",
                                    "ferohely": "3",
                                    "(No column name)": "9"
                                },
                                {
                                    "SZOBA_ID": "103",
                                    "ferohely": "2",
                                    "(No column name)": "10"
                                },
                                {
                                    "SZOBA_ID": "62",
                                    "ferohely": "2",
                                    "(No column name)": "10"
                                },
                                {
                                    "SZOBA_ID": "37",
                                    "ferohely": "2",
                                    "(No column name)": "10"
                                },
                                {
                                    "SZOBA_ID": "103",
                                    "ferohely": "2",
                                    "(No column name)": "10"
                                },
                                {
                                    "SZOBA_ID": "147",
                                    "ferohely": "2",
                                    "(No column name)": "10"
                                },
                                {
                                    "SZOBA_ID": "62",
                                    "ferohely": "2",
                                    "(No column name)": "10"
                                },
                                {
                                    "SZOBA_ID": "37",
                                    "ferohely": "2",
                                    "(No column name)": "10"
                                },
                                {
                                    "SZOBA_ID": "37",
                                    "ferohely": "2",
                                    "(No column name)": "10"
                                },
                                {
                                    "SZOBA_ID": "103",
                                    "ferohely": "2",
                                    "(No column name)": "10"
                                },
                                {
                                    "SZOBA_ID": "62",
                                    "ferohely": "2",
                                    "(No column name)": "10"
                                },
                                {
                                    "SZOBA_ID": "62",
                                    "ferohely": "2",
                                    "(No column name)": "10"
                                },
                                {
                                    "SZOBA_ID": "103",
                                    "ferohely": "2",
                                    "(No column name)": "10"
                                },
                                {
                                    "SZOBA_ID": "62",
                                    "ferohely": "2",
                                    "(No column name)": "10"
                                },
                                {
                                    "SZOBA_ID": "178",
                                    "ferohely": "3",
                                    "(No column name)": "11"
                                },
                                {
                                    "SZOBA_ID": "104",
                                    "ferohely": "3",
                                    "(No column name)": "11"
                                },
                                {
                                    "SZOBA_ID": "178",
                                    "ferohely": "3",
                                    "(No column name)": "11"
                                },
                                {
                                    "SZOBA_ID": "104",
                                    "ferohely": "3",
                                    "(No column name)": "11"
                                },
                                {
                                    "SZOBA_ID": "178",
                                    "ferohely": "3",
                                    "(No column name)": "11"
                                },
                                {
                                    "SZOBA_ID": "178",
                                    "ferohely": "3",
                                    "(No column name)": "11"
                                },
                                {
                                    "SZOBA_ID": "104",
                                    "ferohely": "3",
                                    "(No column name)": "11"
                                },
                                {
                                    "SZOBA_ID": "104",
                                    "ferohely": "3",
                                    "(No column name)": "11"
                                },
                                {
                                    "SZOBA_ID": "38",
                                    "ferohely": "2",
                                    "(No column name)": "12"
                                },
                                {
                                    "SZOBA_ID": "38",
                                    "ferohely": "2",
                                    "(No column name)": "12"
                                },
                                {
                                    "SZOBA_ID": "148",
                                    "ferohely": "2",
                                    "(No column name)": "12"
                                },
                                {
                                    "SZOBA_ID": "38",
                                    "ferohely": "2",
                                    "(No column name)": "12"
                                },
                                {
                                    "SZOBA_ID": "38",
                                    "ferohely": "2",
                                    "(No column name)": "12"
                                },
                                {
                                    "SZOBA_ID": "148",
                                    "ferohely": "2",
                                    "(No column name)": "12"
                                },
                                {
                                    "SZOBA_ID": "148",
                                    "ferohely": "2",
                                    "(No column name)": "12"
                                },
                                {
                                    "SZOBA_ID": "63",
                                    "ferohely": "2",
                                    "(No column name)": "12"
                                },
                                {
                                    "SZOBA_ID": "148",
                                    "ferohely": "2",
                                    "(No column name)": "12"
                                },
                                {
                                    "SZOBA_ID": "148",
                                    "ferohely": "2",
                                    "(No column name)": "12"
                                },
                                {
                                    "SZOBA_ID": "148",
                                    "ferohely": "2",
                                    "(No column name)": "12"
                                },
                                {
                                    "SZOBA_ID": "38",
                                    "ferohely": "2",
                                    "(No column name)": "12"
                                },
                                {
                                    "SZOBA_ID": "63",
                                    "ferohely": "2",
                                    "(No column name)": "12"
                                },
                                {
                                    "SZOBA_ID": "63",
                                    "ferohely": "2",
                                    "(No column name)": "12"
                                },
                                {
                                    "SZOBA_ID": "63",
                                    "ferohely": "2",
                                    "(No column name)": "12"
                                },
                                {
                                    "SZOBA_ID": "38",
                                    "ferohely": "2",
                                    "(No column name)": "12"
                                },
                                {
                                    "SZOBA_ID": "38",
                                    "ferohely": "2",
                                    "(No column name)": "12"
                                },
                                {
                                    "SZOBA_ID": "38",
                                    "ferohely": "2",
                                    "(No column name)": "12"
                                },
                                {
                                    "SZOBA_ID": "179",
                                    "ferohely": "3",
                                    "(No column name)": "13"
                                },
                                {
                                    "SZOBA_ID": "179",
                                    "ferohely": "3",
                                    "(No column name)": "13"
                                },
                                {
                                    "SZOBA_ID": "179",
                                    "ferohely": "3",
                                    "(No column name)": "13"
                                },
                                {
                                    "SZOBA_ID": "39",
                                    "ferohely": "2",
                                    "(No column name)": "14"
                                },
                                {
                                    "SZOBA_ID": "105",
                                    "ferohely": "2",
                                    "(No column name)": "14"
                                },
                                {
                                    "SZOBA_ID": "149",
                                    "ferohely": "2",
                                    "(No column name)": "14"
                                },
                                {
                                    "SZOBA_ID": "39",
                                    "ferohely": "2",
                                    "(No column name)": "14"
                                },
                                {
                                    "SZOBA_ID": "64",
                                    "ferohely": "2",
                                    "(No column name)": "14"
                                },
                                {
                                    "SZOBA_ID": "64",
                                    "ferohely": "2",
                                    "(No column name)": "14"
                                },
                                {
                                    "SZOBA_ID": "39",
                                    "ferohely": "2",
                                    "(No column name)": "14"
                                },
                                {
                                    "SZOBA_ID": "64",
                                    "ferohely": "2",
                                    "(No column name)": "14"
                                },
                                {
                                    "SZOBA_ID": "39",
                                    "ferohely": "2",
                                    "(No column name)": "14"
                                },
                                {
                                    "SZOBA_ID": "64",
                                    "ferohely": "2",
                                    "(No column name)": "14"
                                },
                                {
                                    "SZOBA_ID": "39",
                                    "ferohely": "2",
                                    "(No column name)": "14"
                                },
                                {
                                    "SZOBA_ID": "149",
                                    "ferohely": "2",
                                    "(No column name)": "14"
                                },
                                {
                                    "SZOBA_ID": "64",
                                    "ferohely": "2",
                                    "(No column name)": "14"
                                },
                                {
                                    "SZOBA_ID": "149",
                                    "ferohely": "2",
                                    "(No column name)": "14"
                                },
                                {
                                    "SZOBA_ID": "105",
                                    "ferohely": "2",
                                    "(No column name)": "14"
                                },
                                {
                                    "SZOBA_ID": "39",
                                    "ferohely": "2",
                                    "(No column name)": "14"
                                },
                                {
                                    "SZOBA_ID": "149",
                                    "ferohely": "2",
                                    "(No column name)": "14"
                                },
                                {
                                    "SZOBA_ID": "149",
                                    "ferohely": "2",
                                    "(No column name)": "14"
                                },
                                {
                                    "SZOBA_ID": "149",
                                    "ferohely": "2",
                                    "(No column name)": "14"
                                },
                                {
                                    "SZOBA_ID": "39",
                                    "ferohely": "2",
                                    "(No column name)": "14"
                                },
                                {
                                    "SZOBA_ID": "64",
                                    "ferohely": "2",
                                    "(No column name)": "14"
                                },
                                {
                                    "SZOBA_ID": "149",
                                    "ferohely": "2",
                                    "(No column name)": "14"
                                },
                                {
                                    "SZOBA_ID": "180",
                                    "ferohely": "2",
                                    "(No column name)": "15"
                                },
                                {
                                    "SZOBA_ID": "150",
                                    "ferohely": "2",
                                    "(No column name)": "15"
                                },
                                {
                                    "SZOBA_ID": "150",
                                    "ferohely": "2",
                                    "(No column name)": "15"
                                },
                                {
                                    "SZOBA_ID": "106",
                                    "ferohely": "2",
                                    "(No column name)": "15"
                                },
                                {
                                    "SZOBA_ID": "106",
                                    "ferohely": "2",
                                    "(No column name)": "15"
                                },
                                {
                                    "SZOBA_ID": "65",
                                    "ferohely": "2",
                                    "(No column name)": "15"
                                },
                                {
                                    "SZOBA_ID": "150",
                                    "ferohely": "2",
                                    "(No column name)": "15"
                                },
                                {
                                    "SZOBA_ID": "150",
                                    "ferohely": "2",
                                    "(No column name)": "15"
                                },
                                {
                                    "SZOBA_ID": "150",
                                    "ferohely": "2",
                                    "(No column name)": "15"
                                },
                                {
                                    "SZOBA_ID": "106",
                                    "ferohely": "2",
                                    "(No column name)": "15"
                                },
                                {
                                    "SZOBA_ID": "106",
                                    "ferohely": "2",
                                    "(No column name)": "15"
                                },
                                {
                                    "SZOBA_ID": "106",
                                    "ferohely": "2",
                                    "(No column name)": "15"
                                },
                                {
                                    "SZOBA_ID": "180",
                                    "ferohely": "2",
                                    "(No column name)": "15"
                                },
                                {
                                    "SZOBA_ID": "180",
                                    "ferohely": "2",
                                    "(No column name)": "15"
                                },
                                {
                                    "SZOBA_ID": "150",
                                    "ferohely": "2",
                                    "(No column name)": "15"
                                },
                                {
                                    "SZOBA_ID": "106",
                                    "ferohely": "2",
                                    "(No column name)": "15"
                                },
                                {
                                    "SZOBA_ID": "66",
                                    "ferohely": "3",
                                    "(No column name)": "16"
                                },
                                {
                                    "SZOBA_ID": "181",
                                    "ferohely": "3",
                                    "(No column name)": "16"
                                },
                                {
                                    "SZOBA_ID": "66",
                                    "ferohely": "3",
                                    "(No column name)": "16"
                                },
                                {
                                    "SZOBA_ID": "181",
                                    "ferohely": "3",
                                    "(No column name)": "16"
                                },
                                {
                                    "SZOBA_ID": "181",
                                    "ferohely": "3",
                                    "(No column name)": "16"
                                },
                                {
                                    "SZOBA_ID": "66",
                                    "ferohely": "3",
                                    "(No column name)": "16"
                                },
                                {
                                    "SZOBA_ID": "181",
                                    "ferohely": "3",
                                    "(No column name)": "16"
                                },
                                {
                                    "SZOBA_ID": "181",
                                    "ferohely": "3",
                                    "(No column name)": "16"
                                },
                                {
                                    "SZOBA_ID": "181",
                                    "ferohely": "3",
                                    "(No column name)": "16"
                                },
                                {
                                    "SZOBA_ID": "66",
                                    "ferohely": "3",
                                    "(No column name)": "16"
                                },
                                {
                                    "SZOBA_ID": "151",
                                    "ferohely": "2",
                                    "(No column name)": "17"
                                },
                                {
                                    "SZOBA_ID": "151",
                                    "ferohely": "2",
                                    "(No column name)": "17"
                                },
                                {
                                    "SZOBA_ID": "151",
                                    "ferohely": "2",
                                    "(No column name)": "17"
                                },
                                {
                                    "SZOBA_ID": "107",
                                    "ferohely": "2",
                                    "(No column name)": "17"
                                },
                                {
                                    "SZOBA_ID": "107",
                                    "ferohely": "2",
                                    "(No column name)": "17"
                                },
                                {
                                    "SZOBA_ID": "107",
                                    "ferohely": "2",
                                    "(No column name)": "17"
                                },
                                {
                                    "SZOBA_ID": "107",
                                    "ferohely": "2",
                                    "(No column name)": "17"
                                },
                                {
                                    "SZOBA_ID": "107",
                                    "ferohely": "2",
                                    "(No column name)": "17"
                                },
                                {
                                    "SZOBA_ID": "182",
                                    "ferohely": "2",
                                    "(No column name)": "18"
                                },
                                {
                                    "SZOBA_ID": "182",
                                    "ferohely": "2",
                                    "(No column name)": "18"
                                },
                                {
                                    "SZOBA_ID": "152",
                                    "ferohely": "2",
                                    "(No column name)": "18"
                                },
                                {
                                    "SZOBA_ID": "67",
                                    "ferohely": "2",
                                    "(No column name)": "18"
                                },
                                {
                                    "SZOBA_ID": "67",
                                    "ferohely": "2",
                                    "(No column name)": "18"
                                },
                                {
                                    "SZOBA_ID": "108",
                                    "ferohely": "2",
                                    "(No column name)": "18"
                                },
                                {
                                    "SZOBA_ID": "67",
                                    "ferohely": "2",
                                    "(No column name)": "18"
                                },
                                {
                                    "SZOBA_ID": "182",
                                    "ferohely": "2",
                                    "(No column name)": "18"
                                },
                                {
                                    "SZOBA_ID": "182",
                                    "ferohely": "2",
                                    "(No column name)": "18"
                                },
                                {
                                    "SZOBA_ID": "182",
                                    "ferohely": "2",
                                    "(No column name)": "18"
                                },
                                {
                                    "SZOBA_ID": "182",
                                    "ferohely": "2",
                                    "(No column name)": "18"
                                },
                                {
                                    "SZOBA_ID": "182",
                                    "ferohely": "2",
                                    "(No column name)": "18"
                                },
                                {
                                    "SZOBA_ID": "152",
                                    "ferohely": "2",
                                    "(No column name)": "18"
                                },
                                {
                                    "SZOBA_ID": "182",
                                    "ferohely": "2",
                                    "(No column name)": "18"
                                },
                                {
                                    "SZOBA_ID": "152",
                                    "ferohely": "2",
                                    "(No column name)": "18"
                                },
                                {
                                    "SZOBA_ID": "182",
                                    "ferohely": "2",
                                    "(No column name)": "18"
                                },
                                {
                                    "SZOBA_ID": "67",
                                    "ferohely": "2",
                                    "(No column name)": "18"
                                },
                                {
                                    "SZOBA_ID": "67",
                                    "ferohely": "2",
                                    "(No column name)": "18"
                                },
                                {
                                    "SZOBA_ID": "182",
                                    "ferohely": "2",
                                    "(No column name)": "18"
                                },
                                {
                                    "SZOBA_ID": "152",
                                    "ferohely": "2",
                                    "(No column name)": "18"
                                },
                                {
                                    "SZOBA_ID": "108",
                                    "ferohely": "2",
                                    "(No column name)": "18"
                                },
                                {
                                    "SZOBA_ID": "182",
                                    "ferohely": "2",
                                    "(No column name)": "18"
                                },
                                {
                                    "SZOBA_ID": "67",
                                    "ferohely": "2",
                                    "(No column name)": "18"
                                },
                                {
                                    "SZOBA_ID": "182",
                                    "ferohely": "2",
                                    "(No column name)": "18"
                                },
                                {
                                    "SZOBA_ID": "183",
                                    "ferohely": "3",
                                    "(No column name)": "19"
                                },
                                {
                                    "SZOBA_ID": "153",
                                    "ferohely": "3",
                                    "(No column name)": "19"
                                },
                                {
                                    "SZOBA_ID": "183",
                                    "ferohely": "3",
                                    "(No column name)": "19"
                                },
                                {
                                    "SZOBA_ID": "153",
                                    "ferohely": "3",
                                    "(No column name)": "19"
                                },
                                {
                                    "SZOBA_ID": "183",
                                    "ferohely": "3",
                                    "(No column name)": "19"
                                },
                                {
                                    "SZOBA_ID": "183",
                                    "ferohely": "3",
                                    "(No column name)": "19"
                                },
                                {
                                    "SZOBA_ID": "153",
                                    "ferohely": "3",
                                    "(No column name)": "19"
                                },
                                {
                                    "SZOBA_ID": "153",
                                    "ferohely": "3",
                                    "(No column name)": "19"
                                },
                                {
                                    "SZOBA_ID": "153",
                                    "ferohely": "3",
                                    "(No column name)": "19"
                                },
                                {
                                    "SZOBA_ID": "109",
                                    "ferohely": "2",
                                    "(No column name)": "20"
                                },
                                {
                                    "SZOBA_ID": "109",
                                    "ferohely": "2",
                                    "(No column name)": "20"
                                },
                                {
                                    "SZOBA_ID": "68",
                                    "ferohely": "2",
                                    "(No column name)": "20"
                                },
                                {
                                    "SZOBA_ID": "109",
                                    "ferohely": "2",
                                    "(No column name)": "20"
                                },
                                {
                                    "SZOBA_ID": "109",
                                    "ferohely": "2",
                                    "(No column name)": "20"
                                },
                                {
                                    "SZOBA_ID": "68",
                                    "ferohely": "2",
                                    "(No column name)": "20"
                                },
                                {
                                    "SZOBA_ID": "109",
                                    "ferohely": "2",
                                    "(No column name)": "20"
                                },
                                {
                                    "SZOBA_ID": "109",
                                    "ferohely": "2",
                                    "(No column name)": "20"
                                },
                                {
                                    "SZOBA_ID": "109",
                                    "ferohely": "2",
                                    "(No column name)": "20"
                                },
                                {
                                    "SZOBA_ID": "68",
                                    "ferohely": "2",
                                    "(No column name)": "20"
                                },
                                {
                                    "SZOBA_ID": "92",
                                    "ferohely": "3",
                                    "(No column name)": "21"
                                },
                                {
                                    "SZOBA_ID": "18",
                                    "ferohely": "3",
                                    "(No column name)": "21"
                                },
                                {
                                    "SZOBA_ID": "2",
                                    "ferohely": "3",
                                    "(No column name)": "21"
                                },
                                {
                                    "SZOBA_ID": "2",
                                    "ferohely": "3",
                                    "(No column name)": "21"
                                },
                                {
                                    "SZOBA_ID": "41",
                                    "ferohely": "3",
                                    "(No column name)": "21"
                                },
                                {
                                    "SZOBA_ID": "92",
                                    "ferohely": "3",
                                    "(No column name)": "21"
                                },
                                {
                                    "SZOBA_ID": "92",
                                    "ferohely": "3",
                                    "(No column name)": "21"
                                },
                                {
                                    "SZOBA_ID": "51",
                                    "ferohely": "3",
                                    "(No column name)": "21"
                                },
                                {
                                    "SZOBA_ID": "51",
                                    "ferohely": "3",
                                    "(No column name)": "21"
                                },
                                {
                                    "SZOBA_ID": "92",
                                    "ferohely": "3",
                                    "(No column name)": "21"
                                },
                                {
                                    "SZOBA_ID": "14",
                                    "ferohely": "3",
                                    "(No column name)": "21"
                                },
                                {
                                    "SZOBA_ID": "2",
                                    "ferohely": "3",
                                    "(No column name)": "21"
                                },
                                {
                                    "SZOBA_ID": "18",
                                    "ferohely": "3",
                                    "(No column name)": "21"
                                },
                                {
                                    "SZOBA_ID": "14",
                                    "ferohely": "3",
                                    "(No column name)": "21"
                                },
                                {
                                    "SZOBA_ID": "18",
                                    "ferohely": "3",
                                    "(No column name)": "21"
                                },
                                {
                                    "SZOBA_ID": "2",
                                    "ferohely": "3",
                                    "(No column name)": "21"
                                },
                                {
                                    "SZOBA_ID": "41",
                                    "ferohely": "3",
                                    "(No column name)": "21"
                                },
                                {
                                    "SZOBA_ID": "51",
                                    "ferohely": "3",
                                    "(No column name)": "21"
                                },
                                {
                                    "SZOBA_ID": "18",
                                    "ferohely": "3",
                                    "(No column name)": "21"
                                },
                                {
                                    "SZOBA_ID": "18",
                                    "ferohely": "3",
                                    "(No column name)": "21"
                                },
                                {
                                    "SZOBA_ID": "92",
                                    "ferohely": "3",
                                    "(No column name)": "21"
                                },
                                {
                                    "SZOBA_ID": "51",
                                    "ferohely": "3",
                                    "(No column name)": "21"
                                },
                                {
                                    "SZOBA_ID": "18",
                                    "ferohely": "3",
                                    "(No column name)": "21"
                                },
                                {
                                    "SZOBA_ID": "51",
                                    "ferohely": "3",
                                    "(No column name)": "21"
                                },
                                {
                                    "SZOBA_ID": "92",
                                    "ferohely": "3",
                                    "(No column name)": "21"
                                },
                                {
                                    "SZOBA_ID": "14",
                                    "ferohely": "3",
                                    "(No column name)": "21"
                                },
                                {
                                    "SZOBA_ID": "166",
                                    "ferohely": "2",
                                    "(No column name)": "22"
                                },
                                {
                                    "SZOBA_ID": "131",
                                    "ferohely": "2",
                                    "(No column name)": "22"
                                },
                                {
                                    "SZOBA_ID": "86",
                                    "ferohely": "2",
                                    "(No column name)": "22"
                                },
                                {
                                    "SZOBA_ID": "161",
                                    "ferohely": "2",
                                    "(No column name)": "22"
                                },
                                {
                                    "SZOBA_ID": "161",
                                    "ferohely": "2",
                                    "(No column name)": "22"
                                },
                                {
                                    "SZOBA_ID": "26",
                                    "ferohely": "2",
                                    "(No column name)": "22"
                                },
                                {
                                    "SZOBA_ID": "26",
                                    "ferohely": "2",
                                    "(No column name)": "22"
                                },
                                {
                                    "SZOBA_ID": "131",
                                    "ferohely": "2",
                                    "(No column name)": "22"
                                },
                                {
                                    "SZOBA_ID": "136",
                                    "ferohely": "2",
                                    "(No column name)": "22"
                                },
                                {
                                    "SZOBA_ID": "131",
                                    "ferohely": "2",
                                    "(No column name)": "22"
                                },
                                {
                                    "SZOBA_ID": "166",
                                    "ferohely": "2",
                                    "(No column name)": "22"
                                },
                                {
                                    "SZOBA_ID": "136",
                                    "ferohely": "2",
                                    "(No column name)": "22"
                                },
                                {
                                    "SZOBA_ID": "161",
                                    "ferohely": "2",
                                    "(No column name)": "22"
                                },
                                {
                                    "SZOBA_ID": "161",
                                    "ferohely": "2",
                                    "(No column name)": "22"
                                },
                                {
                                    "SZOBA_ID": "131",
                                    "ferohely": "2",
                                    "(No column name)": "22"
                                },
                                {
                                    "SZOBA_ID": "166",
                                    "ferohely": "2",
                                    "(No column name)": "22"
                                },
                                {
                                    "SZOBA_ID": "86",
                                    "ferohely": "2",
                                    "(No column name)": "22"
                                },
                                {
                                    "SZOBA_ID": "131",
                                    "ferohely": "2",
                                    "(No column name)": "22"
                                },
                                {
                                    "SZOBA_ID": "161",
                                    "ferohely": "2",
                                    "(No column name)": "22"
                                },
                                {
                                    "SZOBA_ID": "86",
                                    "ferohely": "2",
                                    "(No column name)": "22"
                                },
                                {
                                    "SZOBA_ID": "161",
                                    "ferohely": "2",
                                    "(No column name)": "22"
                                },
                                {
                                    "SZOBA_ID": "86",
                                    "ferohely": "2",
                                    "(No column name)": "22"
                                },
                                {
                                    "SZOBA_ID": "86",
                                    "ferohely": "2",
                                    "(No column name)": "22"
                                },
                                {
                                    "SZOBA_ID": "136",
                                    "ferohely": "2",
                                    "(No column name)": "22"
                                },
                                {
                                    "SZOBA_ID": "69",
                                    "ferohely": "3",
                                    "(No column name)": "23"
                                },
                                {
                                    "SZOBA_ID": "69",
                                    "ferohely": "3",
                                    "(No column name)": "23"
                                },
                                {
                                    "SZOBA_ID": "69",
                                    "ferohely": "3",
                                    "(No column name)": "23"
                                },
                                {
                                    "SZOBA_ID": "69",
                                    "ferohely": "3",
                                    "(No column name)": "23"
                                },
                                {
                                    "SZOBA_ID": "184",
                                    "ferohely": "2",
                                    "(No column name)": "24"
                                },
                                {
                                    "SZOBA_ID": "154",
                                    "ferohely": "2",
                                    "(No column name)": "24"
                                },
                                {
                                    "SZOBA_ID": "110",
                                    "ferohely": "2",
                                    "(No column name)": "24"
                                },
                                {
                                    "SZOBA_ID": "154",
                                    "ferohely": "2",
                                    "(No column name)": "24"
                                },
                                {
                                    "SZOBA_ID": "110",
                                    "ferohely": "2",
                                    "(No column name)": "24"
                                },
                                {
                                    "SZOBA_ID": "154",
                                    "ferohely": "2",
                                    "(No column name)": "24"
                                },
                                {
                                    "SZOBA_ID": "110",
                                    "ferohely": "2",
                                    "(No column name)": "24"
                                },
                                {
                                    "SZOBA_ID": "184",
                                    "ferohely": "2",
                                    "(No column name)": "24"
                                },
                                {
                                    "SZOBA_ID": "110",
                                    "ferohely": "2",
                                    "(No column name)": "24"
                                },
                                {
                                    "SZOBA_ID": "110",
                                    "ferohely": "2",
                                    "(No column name)": "24"
                                },
                                {
                                    "SZOBA_ID": "154",
                                    "ferohely": "2",
                                    "(No column name)": "24"
                                },
                                {
                                    "SZOBA_ID": "154",
                                    "ferohely": "2",
                                    "(No column name)": "24"
                                },
                                {
                                    "SZOBA_ID": "110",
                                    "ferohely": "2",
                                    "(No column name)": "24"
                                },
                                {
                                    "SZOBA_ID": "110",
                                    "ferohely": "2",
                                    "(No column name)": "24"
                                },
                                {
                                    "SZOBA_ID": "184",
                                    "ferohely": "2",
                                    "(No column name)": "24"
                                },
                                {
                                    "SZOBA_ID": "110",
                                    "ferohely": "2",
                                    "(No column name)": "24"
                                },
                                {
                                    "SZOBA_ID": "184",
                                    "ferohely": "2",
                                    "(No column name)": "24"
                                },
                                {
                                    "SZOBA_ID": "155",
                                    "ferohely": "3",
                                    "(No column name)": "25"
                                },
                                {
                                    "SZOBA_ID": "155",
                                    "ferohely": "3",
                                    "(No column name)": "25"
                                },
                                {
                                    "SZOBA_ID": "185",
                                    "ferohely": "3",
                                    "(No column name)": "25"
                                },
                                {
                                    "SZOBA_ID": "185",
                                    "ferohely": "3",
                                    "(No column name)": "25"
                                },
                                {
                                    "SZOBA_ID": "185",
                                    "ferohely": "3",
                                    "(No column name)": "25"
                                },
                                {
                                    "SZOBA_ID": "185",
                                    "ferohely": "3",
                                    "(No column name)": "25"
                                },
                                {
                                    "SZOBA_ID": "185",
                                    "ferohely": "3",
                                    "(No column name)": "25"
                                },
                                {
                                    "SZOBA_ID": "155",
                                    "ferohely": "3",
                                    "(No column name)": "25"
                                },
                                {
                                    "SZOBA_ID": "185",
                                    "ferohely": "3",
                                    "(No column name)": "25"
                                },
                                {
                                    "SZOBA_ID": "185",
                                    "ferohely": "3",
                                    "(No column name)": "25"
                                },
                                {
                                    "SZOBA_ID": "185",
                                    "ferohely": "3",
                                    "(No column name)": "25"
                                },
                                {
                                    "SZOBA_ID": "185",
                                    "ferohely": "3",
                                    "(No column name)": "25"
                                },
                                {
                                    "SZOBA_ID": "185",
                                    "ferohely": "3",
                                    "(No column name)": "25"
                                },
                                {
                                    "SZOBA_ID": "155",
                                    "ferohely": "3",
                                    "(No column name)": "25"
                                },
                                {
                                    "SZOBA_ID": "185",
                                    "ferohely": "3",
                                    "(No column name)": "25"
                                },
                                {
                                    "SZOBA_ID": "185",
                                    "ferohely": "3",
                                    "(No column name)": "25"
                                },
                                {
                                    "SZOBA_ID": "155",
                                    "ferohely": "3",
                                    "(No column name)": "25"
                                },
                                {
                                    "SZOBA_ID": "70",
                                    "ferohely": "2",
                                    "(No column name)": "26"
                                },
                                {
                                    "SZOBA_ID": "70",
                                    "ferohely": "2",
                                    "(No column name)": "26"
                                },
                                {
                                    "SZOBA_ID": "111",
                                    "ferohely": "2",
                                    "(No column name)": "26"
                                },
                                {
                                    "SZOBA_ID": "111",
                                    "ferohely": "2",
                                    "(No column name)": "26"
                                },
                                {
                                    "SZOBA_ID": "70",
                                    "ferohely": "2",
                                    "(No column name)": "26"
                                },
                                {
                                    "SZOBA_ID": "70",
                                    "ferohely": "2",
                                    "(No column name)": "26"
                                },
                                {
                                    "SZOBA_ID": "70",
                                    "ferohely": "2",
                                    "(No column name)": "26"
                                },
                                {
                                    "SZOBA_ID": "70",
                                    "ferohely": "2",
                                    "(No column name)": "26"
                                },
                                {
                                    "SZOBA_ID": "111",
                                    "ferohely": "2",
                                    "(No column name)": "26"
                                },
                                {
                                    "SZOBA_ID": "70",
                                    "ferohely": "2",
                                    "(No column name)": "26"
                                },
                                {
                                    "SZOBA_ID": "70",
                                    "ferohely": "2",
                                    "(No column name)": "26"
                                },
                                {
                                    "SZOBA_ID": "70",
                                    "ferohely": "2",
                                    "(No column name)": "26"
                                },
                                {
                                    "SZOBA_ID": "111",
                                    "ferohely": "2",
                                    "(No column name)": "26"
                                },
                                {
                                    "SZOBA_ID": "70",
                                    "ferohely": "2",
                                    "(No column name)": "26"
                                },
                                {
                                    "SZOBA_ID": "70",
                                    "ferohely": "2",
                                    "(No column name)": "26"
                                },
                                {
                                    "SZOBA_ID": "111",
                                    "ferohely": "2",
                                    "(No column name)": "26"
                                },
                                {
                                    "SZOBA_ID": "71",
                                    "ferohely": "3",
                                    "(No column name)": "27"
                                },
                                {
                                    "SZOBA_ID": "112",
                                    "ferohely": "3",
                                    "(No column name)": "27"
                                },
                                {
                                    "SZOBA_ID": "112",
                                    "ferohely": "3",
                                    "(No column name)": "27"
                                },
                                {
                                    "SZOBA_ID": "71",
                                    "ferohely": "3",
                                    "(No column name)": "27"
                                },
                                {
                                    "SZOBA_ID": "71",
                                    "ferohely": "3",
                                    "(No column name)": "27"
                                },
                                {
                                    "SZOBA_ID": "112",
                                    "ferohely": "3",
                                    "(No column name)": "27"
                                },
                                {
                                    "SZOBA_ID": "112",
                                    "ferohely": "3",
                                    "(No column name)": "27"
                                },
                                {
                                    "SZOBA_ID": "112",
                                    "ferohely": "3",
                                    "(No column name)": "27"
                                },
                                {
                                    "SZOBA_ID": "186",
                                    "ferohely": "2",
                                    "(No column name)": "28"
                                },
                                {
                                    "SZOBA_ID": "186",
                                    "ferohely": "2",
                                    "(No column name)": "28"
                                },
                                {
                                    "SZOBA_ID": "156",
                                    "ferohely": "2",
                                    "(No column name)": "28"
                                },
                                {
                                    "SZOBA_ID": "156",
                                    "ferohely": "2",
                                    "(No column name)": "28"
                                },
                                {
                                    "SZOBA_ID": "186",
                                    "ferohely": "2",
                                    "(No column name)": "28"
                                },
                                {
                                    "SZOBA_ID": "156",
                                    "ferohely": "2",
                                    "(No column name)": "28"
                                },
                                {
                                    "SZOBA_ID": "156",
                                    "ferohely": "2",
                                    "(No column name)": "28"
                                },
                                {
                                    "SZOBA_ID": "156",
                                    "ferohely": "2",
                                    "(No column name)": "28"
                                },
                                {
                                    "SZOBA_ID": "156",
                                    "ferohely": "2",
                                    "(No column name)": "28"
                                },
                                {
                                    "SZOBA_ID": "186",
                                    "ferohely": "2",
                                    "(No column name)": "28"
                                },
                                {
                                    "SZOBA_ID": "156",
                                    "ferohely": "2",
                                    "(No column name)": "28"
                                },
                                {
                                    "SZOBA_ID": "187",
                                    "ferohely": "3",
                                    "(No column name)": "29"
                                },
                                {
                                    "SZOBA_ID": "187",
                                    "ferohely": "3",
                                    "(No column name)": "29"
                                },
                                {
                                    "SZOBA_ID": "187",
                                    "ferohely": "3",
                                    "(No column name)": "29"
                                },
                                {
                                    "SZOBA_ID": "187",
                                    "ferohely": "3",
                                    "(No column name)": "29"
                                },
                                {
                                    "SZOBA_ID": "187",
                                    "ferohely": "3",
                                    "(No column name)": "29"
                                },
                                {
                                    "SZOBA_ID": "187",
                                    "ferohely": "3",
                                    "(No column name)": "29"
                                },
                                {
                                    "SZOBA_ID": "113",
                                    "ferohely": "3",
                                    "(No column name)": "29"
                                },
                                {
                                    "SZOBA_ID": "113",
                                    "ferohely": "3",
                                    "(No column name)": "29"
                                },
                                {
                                    "SZOBA_ID": "187",
                                    "ferohely": "3",
                                    "(No column name)": "29"
                                },
                                {
                                    "SZOBA_ID": "113",
                                    "ferohely": "3",
                                    "(No column name)": "29"
                                },
                                {
                                    "SZOBA_ID": "113",
                                    "ferohely": "3",
                                    "(No column name)": "29"
                                },
                                {
                                    "SZOBA_ID": "113",
                                    "ferohely": "3",
                                    "(No column name)": "29"
                                },
                                {
                                    "SZOBA_ID": "157",
                                    "ferohely": "2",
                                    "(No column name)": "30"
                                },
                                {
                                    "SZOBA_ID": "72",
                                    "ferohely": "2",
                                    "(No column name)": "30"
                                },
                                {
                                    "SZOBA_ID": "72",
                                    "ferohely": "2",
                                    "(No column name)": "30"
                                },
                                {
                                    "SZOBA_ID": "157",
                                    "ferohely": "2",
                                    "(No column name)": "30"
                                },
                                {
                                    "SZOBA_ID": "157",
                                    "ferohely": "2",
                                    "(No column name)": "30"
                                },
                                {
                                    "SZOBA_ID": "157",
                                    "ferohely": "2",
                                    "(No column name)": "30"
                                },
                                {
                                    "SZOBA_ID": "72",
                                    "ferohely": "2",
                                    "(No column name)": "30"
                                },
                                {
                                    "SZOBA_ID": "72",
                                    "ferohely": "2",
                                    "(No column name)": "30"
                                },
                                {
                                    "SZOBA_ID": "157",
                                    "ferohely": "2",
                                    "(No column name)": "30"
                                },
                                {
                                    "SZOBA_ID": "188",
                                    "ferohely": "3",
                                    "(No column name)": "31"
                                },
                                {
                                    "SZOBA_ID": "188",
                                    "ferohely": "3",
                                    "(No column name)": "31"
                                },
                                {
                                    "SZOBA_ID": "188",
                                    "ferohely": "3",
                                    "(No column name)": "31"
                                },
                                {
                                    "SZOBA_ID": "188",
                                    "ferohely": "3",
                                    "(No column name)": "31"
                                },
                                {
                                    "SZOBA_ID": "188",
                                    "ferohely": "3",
                                    "(No column name)": "31"
                                },
                                {
                                    "SZOBA_ID": "188",
                                    "ferohely": "3",
                                    "(No column name)": "31"
                                },
                                {
                                    "SZOBA_ID": "73",
                                    "ferohely": "2",
                                    "(No column name)": "32"
                                },
                                {
                                    "SZOBA_ID": "73",
                                    "ferohely": "2",
                                    "(No column name)": "32"
                                },
                                {
                                    "SZOBA_ID": "114",
                                    "ferohely": "2",
                                    "(No column name)": "32"
                                },
                                {
                                    "SZOBA_ID": "73",
                                    "ferohely": "2",
                                    "(No column name)": "32"
                                },
                                {
                                    "SZOBA_ID": "158",
                                    "ferohely": "2",
                                    "(No column name)": "32"
                                },
                                {
                                    "SZOBA_ID": "114",
                                    "ferohely": "2",
                                    "(No column name)": "32"
                                },
                                {
                                    "SZOBA_ID": "158",
                                    "ferohely": "2",
                                    "(No column name)": "32"
                                },
                                {
                                    "SZOBA_ID": "73",
                                    "ferohely": "2",
                                    "(No column name)": "32"
                                },
                                {
                                    "SZOBA_ID": "114",
                                    "ferohely": "2",
                                    "(No column name)": "32"
                                },
                                {
                                    "SZOBA_ID": "158",
                                    "ferohely": "2",
                                    "(No column name)": "32"
                                },
                                {
                                    "SZOBA_ID": "114",
                                    "ferohely": "2",
                                    "(No column name)": "32"
                                },
                                {
                                    "SZOBA_ID": "74",
                                    "ferohely": "3",
                                    "(No column name)": "33"
                                },
                                {
                                    "SZOBA_ID": "74",
                                    "ferohely": "3",
                                    "(No column name)": "33"
                                },
                                {
                                    "SZOBA_ID": "74",
                                    "ferohely": "3",
                                    "(No column name)": "33"
                                },
                                {
                                    "SZOBA_ID": "115",
                                    "ferohely": "3",
                                    "(No column name)": "33"
                                },
                                {
                                    "SZOBA_ID": "74",
                                    "ferohely": "3",
                                    "(No column name)": "33"
                                },
                                {
                                    "SZOBA_ID": "74",
                                    "ferohely": "3",
                                    "(No column name)": "33"
                                },
                                {
                                    "SZOBA_ID": "74",
                                    "ferohely": "3",
                                    "(No column name)": "33"
                                },
                                {
                                    "SZOBA_ID": "115",
                                    "ferohely": "3",
                                    "(No column name)": "33"
                                },
                                {
                                    "SZOBA_ID": "74",
                                    "ferohely": "3",
                                    "(No column name)": "33"
                                },
                                {
                                    "SZOBA_ID": "74",
                                    "ferohely": "3",
                                    "(No column name)": "33"
                                },
                                {
                                    "SZOBA_ID": "115",
                                    "ferohely": "3",
                                    "(No column name)": "33"
                                },
                                {
                                    "SZOBA_ID": "115",
                                    "ferohely": "3",
                                    "(No column name)": "33"
                                },
                                {
                                    "SZOBA_ID": "74",
                                    "ferohely": "3",
                                    "(No column name)": "33"
                                },
                                {
                                    "SZOBA_ID": "115",
                                    "ferohely": "3",
                                    "(No column name)": "33"
                                },
                                {
                                    "SZOBA_ID": "115",
                                    "ferohely": "3",
                                    "(No column name)": "33"
                                },
                                {
                                    "SZOBA_ID": "115",
                                    "ferohely": "3",
                                    "(No column name)": "33"
                                },
                                {
                                    "SZOBA_ID": "189",
                                    "ferohely": "2",
                                    "(No column name)": "34"
                                },
                                {
                                    "SZOBA_ID": "189",
                                    "ferohely": "2",
                                    "(No column name)": "34"
                                },
                                {
                                    "SZOBA_ID": "189",
                                    "ferohely": "2",
                                    "(No column name)": "34"
                                },
                                {
                                    "SZOBA_ID": "189",
                                    "ferohely": "2",
                                    "(No column name)": "34"
                                },
                                {
                                    "SZOBA_ID": "189",
                                    "ferohely": "2",
                                    "(No column name)": "34"
                                },
                                {
                                    "SZOBA_ID": "116",
                                    "ferohely": "3",
                                    "(No column name)": "35"
                                },
                                {
                                    "SZOBA_ID": "116",
                                    "ferohely": "3",
                                    "(No column name)": "35"
                                },
                                {
                                    "SZOBA_ID": "190",
                                    "ferohely": "2",
                                    "(No column name)": "36"
                                },
                                {
                                    "SZOBA_ID": "75",
                                    "ferohely": "2",
                                    "(No column name)": "36"
                                },
                                {
                                    "SZOBA_ID": "75",
                                    "ferohely": "2",
                                    "(No column name)": "36"
                                },
                                {
                                    "SZOBA_ID": "190",
                                    "ferohely": "2",
                                    "(No column name)": "36"
                                },
                                {
                                    "SZOBA_ID": "190",
                                    "ferohely": "2",
                                    "(No column name)": "36"
                                },
                                {
                                    "SZOBA_ID": "190",
                                    "ferohely": "2",
                                    "(No column name)": "36"
                                },
                                {
                                    "SZOBA_ID": "190",
                                    "ferohely": "2",
                                    "(No column name)": "36"
                                },
                                {
                                    "SZOBA_ID": "75",
                                    "ferohely": "2",
                                    "(No column name)": "36"
                                },
                                {
                                    "SZOBA_ID": "117",
                                    "ferohely": "3",
                                    "(No column name)": "37"
                                },
                                {
                                    "SZOBA_ID": "117",
                                    "ferohely": "3",
                                    "(No column name)": "37"
                                },
                                {
                                    "SZOBA_ID": "117",
                                    "ferohely": "3",
                                    "(No column name)": "37"
                                },
                                {
                                    "SZOBA_ID": "117",
                                    "ferohely": "3",
                                    "(No column name)": "37"
                                },
                                {
                                    "SZOBA_ID": "117",
                                    "ferohely": "3",
                                    "(No column name)": "37"
                                },
                                {
                                    "SZOBA_ID": "117",
                                    "ferohely": "3",
                                    "(No column name)": "37"
                                },
                                {
                                    "SZOBA_ID": "117",
                                    "ferohely": "3",
                                    "(No column name)": "37"
                                },
                                {
                                    "SZOBA_ID": "117",
                                    "ferohely": "3",
                                    "(No column name)": "37"
                                },
                                {
                                    "SZOBA_ID": "191",
                                    "ferohely": "2",
                                    "(No column name)": "38"
                                },
                                {
                                    "SZOBA_ID": "191",
                                    "ferohely": "2",
                                    "(No column name)": "38"
                                },
                                {
                                    "SZOBA_ID": "191",
                                    "ferohely": "2",
                                    "(No column name)": "38"
                                },
                                {
                                    "SZOBA_ID": "191",
                                    "ferohely": "2",
                                    "(No column name)": "38"
                                },
                                {
                                    "SZOBA_ID": "76",
                                    "ferohely": "2",
                                    "(No column name)": "38"
                                },
                                {
                                    "SZOBA_ID": "76",
                                    "ferohely": "2",
                                    "(No column name)": "38"
                                },
                                {
                                    "SZOBA_ID": "76",
                                    "ferohely": "2",
                                    "(No column name)": "38"
                                },
                                {
                                    "SZOBA_ID": "191",
                                    "ferohely": "2",
                                    "(No column name)": "38"
                                },
                                {
                                    "SZOBA_ID": "77",
                                    "ferohely": "3",
                                    "(No column name)": "39"
                                },
                                {
                                    "SZOBA_ID": "77",
                                    "ferohely": "3",
                                    "(No column name)": "39"
                                },
                                {
                                    "SZOBA_ID": "77",
                                    "ferohely": "3",
                                    "(No column name)": "39"
                                },
                                {
                                    "SZOBA_ID": "77",
                                    "ferohely": "3",
                                    "(No column name)": "39"
                                },
                                {
                                    "SZOBA_ID": "77",
                                    "ferohely": "3",
                                    "(No column name)": "39"
                                },
                                {
                                    "SZOBA_ID": "77",
                                    "ferohely": "3",
                                    "(No column name)": "39"
                                },
                                {
                                    "SZOBA_ID": "118",
                                    "ferohely": "2",
                                    "(No column name)": "40"
                                },
                                {
                                    "SZOBA_ID": "118",
                                    "ferohely": "2",
                                    "(No column name)": "40"
                                },
                                {
                                    "SZOBA_ID": "118",
                                    "ferohely": "2",
                                    "(No column name)": "40"
                                },
                                {
                                    "SZOBA_ID": "118",
                                    "ferohely": "2",
                                    "(No column name)": "40"
                                },
                                {
                                    "SZOBA_ID": "192",
                                    "ferohely": "2",
                                    "(No column name)": "40"
                                },
                                {
                                    "SZOBA_ID": "118",
                                    "ferohely": "2",
                                    "(No column name)": "40"
                                },
                                {
                                    "SZOBA_ID": "118",
                                    "ferohely": "2",
                                    "(No column name)": "40"
                                },
                                {
                                    "SZOBA_ID": "192",
                                    "ferohely": "2",
                                    "(No column name)": "40"
                                },
                                {
                                    "SZOBA_ID": "118",
                                    "ferohely": "2",
                                    "(No column name)": "40"
                                },
                                {
                                    "SZOBA_ID": "193",
                                    "ferohely": "3",
                                    "(No column name)": "41"
                                },
                                {
                                    "SZOBA_ID": "193",
                                    "ferohely": "3",
                                    "(No column name)": "41"
                                },
                                {
                                    "SZOBA_ID": "193",
                                    "ferohely": "3",
                                    "(No column name)": "41"
                                },
                                {
                                    "SZOBA_ID": "193",
                                    "ferohely": "3",
                                    "(No column name)": "41"
                                },
                                {
                                    "SZOBA_ID": "193",
                                    "ferohely": "3",
                                    "(No column name)": "41"
                                },
                                {
                                    "SZOBA_ID": "193",
                                    "ferohely": "3",
                                    "(No column name)": "41"
                                },
                                {
                                    "SZOBA_ID": "193",
                                    "ferohely": "3",
                                    "(No column name)": "41"
                                },
                                {
                                    "SZOBA_ID": "78",
                                    "ferohely": "2",
                                    "(No column name)": "42"
                                },
                                {
                                    "SZOBA_ID": "78",
                                    "ferohely": "2",
                                    "(No column name)": "42"
                                },
                                {
                                    "SZOBA_ID": "119",
                                    "ferohely": "2",
                                    "(No column name)": "42"
                                },
                                {
                                    "SZOBA_ID": "119",
                                    "ferohely": "2",
                                    "(No column name)": "42"
                                },
                                {
                                    "SZOBA_ID": "78",
                                    "ferohely": "2",
                                    "(No column name)": "42"
                                },
                                {
                                    "SZOBA_ID": "119",
                                    "ferohely": "2",
                                    "(No column name)": "42"
                                },
                                {
                                    "SZOBA_ID": "78",
                                    "ferohely": "2",
                                    "(No column name)": "42"
                                },
                                {
                                    "SZOBA_ID": "119",
                                    "ferohely": "2",
                                    "(No column name)": "42"
                                },
                                {
                                    "SZOBA_ID": "78",
                                    "ferohely": "2",
                                    "(No column name)": "42"
                                },
                                {
                                    "SZOBA_ID": "78",
                                    "ferohely": "2",
                                    "(No column name)": "42"
                                },
                                {
                                    "SZOBA_ID": "119",
                                    "ferohely": "2",
                                    "(No column name)": "42"
                                },
                                {
                                    "SZOBA_ID": "27",
                                    "ferohely": "3",
                                    "(No column name)": "43"
                                },
                                {
                                    "SZOBA_ID": "3",
                                    "ferohely": "3",
                                    "(No column name)": "43"
                                },
                                {
                                    "SZOBA_ID": "132",
                                    "ferohely": "3",
                                    "(No column name)": "43"
                                },
                                {
                                    "SZOBA_ID": "3",
                                    "ferohely": "3",
                                    "(No column name)": "43"
                                },
                                {
                                    "SZOBA_ID": "132",
                                    "ferohely": "3",
                                    "(No column name)": "43"
                                },
                                {
                                    "SZOBA_ID": "132",
                                    "ferohely": "3",
                                    "(No column name)": "43"
                                },
                                {
                                    "SZOBA_ID": "87",
                                    "ferohely": "3",
                                    "(No column name)": "43"
                                },
                                {
                                    "SZOBA_ID": "27",
                                    "ferohely": "3",
                                    "(No column name)": "43"
                                },
                                {
                                    "SZOBA_ID": "167",
                                    "ferohely": "3",
                                    "(No column name)": "43"
                                },
                                {
                                    "SZOBA_ID": "87",
                                    "ferohely": "3",
                                    "(No column name)": "43"
                                },
                                {
                                    "SZOBA_ID": "87",
                                    "ferohely": "3",
                                    "(No column name)": "43"
                                },
                                {
                                    "SZOBA_ID": "162",
                                    "ferohely": "3",
                                    "(No column name)": "43"
                                },
                                {
                                    "SZOBA_ID": "132",
                                    "ferohely": "3",
                                    "(No column name)": "43"
                                },
                                {
                                    "SZOBA_ID": "3",
                                    "ferohely": "3",
                                    "(No column name)": "43"
                                },
                                {
                                    "SZOBA_ID": "3",
                                    "ferohely": "3",
                                    "(No column name)": "43"
                                },
                                {
                                    "SZOBA_ID": "27",
                                    "ferohely": "3",
                                    "(No column name)": "43"
                                },
                                {
                                    "SZOBA_ID": "93",
                                    "ferohely": "3",
                                    "(No column name)": "43"
                                },
                                {
                                    "SZOBA_ID": "27",
                                    "ferohely": "3",
                                    "(No column name)": "43"
                                },
                                {
                                    "SZOBA_ID": "3",
                                    "ferohely": "3",
                                    "(No column name)": "43"
                                },
                                {
                                    "SZOBA_ID": "167",
                                    "ferohely": "3",
                                    "(No column name)": "43"
                                },
                                {
                                    "SZOBA_ID": "3",
                                    "ferohely": "3",
                                    "(No column name)": "43"
                                },
                                {
                                    "SZOBA_ID": "87",
                                    "ferohely": "3",
                                    "(No column name)": "43"
                                },
                                {
                                    "SZOBA_ID": "27",
                                    "ferohely": "3",
                                    "(No column name)": "43"
                                },
                                {
                                    "SZOBA_ID": "132",
                                    "ferohely": "3",
                                    "(No column name)": "43"
                                },
                                {
                                    "SZOBA_ID": "3",
                                    "ferohely": "3",
                                    "(No column name)": "43"
                                },
                                {
                                    "SZOBA_ID": "27",
                                    "ferohely": "3",
                                    "(No column name)": "43"
                                },
                                {
                                    "SZOBA_ID": "132",
                                    "ferohely": "3",
                                    "(No column name)": "43"
                                },
                                {
                                    "SZOBA_ID": "27",
                                    "ferohely": "3",
                                    "(No column name)": "43"
                                },
                                {
                                    "SZOBA_ID": "93",
                                    "ferohely": "3",
                                    "(No column name)": "43"
                                },
                                {
                                    "SZOBA_ID": "162",
                                    "ferohely": "3",
                                    "(No column name)": "43"
                                },
                                {
                                    "SZOBA_ID": "93",
                                    "ferohely": "3",
                                    "(No column name)": "43"
                                },
                                {
                                    "SZOBA_ID": "87",
                                    "ferohely": "3",
                                    "(No column name)": "43"
                                },
                                {
                                    "SZOBA_ID": "93",
                                    "ferohely": "3",
                                    "(No column name)": "43"
                                },
                                {
                                    "SZOBA_ID": "3",
                                    "ferohely": "3",
                                    "(No column name)": "43"
                                },
                                {
                                    "SZOBA_ID": "93",
                                    "ferohely": "3",
                                    "(No column name)": "43"
                                },
                                {
                                    "SZOBA_ID": "162",
                                    "ferohely": "3",
                                    "(No column name)": "43"
                                },
                                {
                                    "SZOBA_ID": "137",
                                    "ferohely": "2",
                                    "(No column name)": "44"
                                },
                                {
                                    "SZOBA_ID": "52",
                                    "ferohely": "2",
                                    "(No column name)": "44"
                                },
                                {
                                    "SZOBA_ID": "19",
                                    "ferohely": "2",
                                    "(No column name)": "44"
                                },
                                {
                                    "SZOBA_ID": "15",
                                    "ferohely": "2",
                                    "(No column name)": "44"
                                },
                                {
                                    "SZOBA_ID": "52",
                                    "ferohely": "2",
                                    "(No column name)": "44"
                                },
                                {
                                    "SZOBA_ID": "15",
                                    "ferohely": "2",
                                    "(No column name)": "44"
                                },
                                {
                                    "SZOBA_ID": "19",
                                    "ferohely": "2",
                                    "(No column name)": "44"
                                },
                                {
                                    "SZOBA_ID": "42",
                                    "ferohely": "2",
                                    "(No column name)": "44"
                                },
                                {
                                    "SZOBA_ID": "137",
                                    "ferohely": "2",
                                    "(No column name)": "44"
                                },
                                {
                                    "SZOBA_ID": "19",
                                    "ferohely": "2",
                                    "(No column name)": "44"
                                },
                                {
                                    "SZOBA_ID": "52",
                                    "ferohely": "2",
                                    "(No column name)": "44"
                                },
                                {
                                    "SZOBA_ID": "15",
                                    "ferohely": "2",
                                    "(No column name)": "44"
                                },
                                {
                                    "SZOBA_ID": "42",
                                    "ferohely": "2",
                                    "(No column name)": "44"
                                },
                                {
                                    "SZOBA_ID": "52",
                                    "ferohely": "2",
                                    "(No column name)": "44"
                                },
                                {
                                    "SZOBA_ID": "15",
                                    "ferohely": "2",
                                    "(No column name)": "44"
                                },
                                {
                                    "SZOBA_ID": "15",
                                    "ferohely": "2",
                                    "(No column name)": "44"
                                },
                                {
                                    "SZOBA_ID": "19",
                                    "ferohely": "2",
                                    "(No column name)": "44"
                                },
                                {
                                    "SZOBA_ID": "42",
                                    "ferohely": "2",
                                    "(No column name)": "44"
                                },
                                {
                                    "SZOBA_ID": "52",
                                    "ferohely": "2",
                                    "(No column name)": "44"
                                },
                                {
                                    "SZOBA_ID": "19",
                                    "ferohely": "2",
                                    "(No column name)": "44"
                                },
                                {
                                    "SZOBA_ID": "137",
                                    "ferohely": "2",
                                    "(No column name)": "44"
                                },
                                {
                                    "SZOBA_ID": "137",
                                    "ferohely": "2",
                                    "(No column name)": "44"
                                },
                                {
                                    "SZOBA_ID": "42",
                                    "ferohely": "2",
                                    "(No column name)": "44"
                                },
                                {
                                    "SZOBA_ID": "42",
                                    "ferohely": "2",
                                    "(No column name)": "44"
                                },
                                {
                                    "SZOBA_ID": "137",
                                    "ferohely": "2",
                                    "(No column name)": "44"
                                },
                                {
                                    "SZOBA_ID": "42",
                                    "ferohely": "2",
                                    "(No column name)": "44"
                                },
                                {
                                    "SZOBA_ID": "19",
                                    "ferohely": "2",
                                    "(No column name)": "44"
                                },
                                {
                                    "SZOBA_ID": "15",
                                    "ferohely": "2",
                                    "(No column name)": "44"
                                },
                                {
                                    "SZOBA_ID": "137",
                                    "ferohely": "2",
                                    "(No column name)": "44"
                                },
                                {
                                    "SZOBA_ID": "120",
                                    "ferohely": "3",
                                    "(No column name)": "45"
                                },
                                {
                                    "SZOBA_ID": "79",
                                    "ferohely": "3",
                                    "(No column name)": "45"
                                },
                                {
                                    "SZOBA_ID": "120",
                                    "ferohely": "3",
                                    "(No column name)": "45"
                                },
                                {
                                    "SZOBA_ID": "79",
                                    "ferohely": "3",
                                    "(No column name)": "45"
                                },
                                {
                                    "SZOBA_ID": "120",
                                    "ferohely": "3",
                                    "(No column name)": "45"
                                },
                                {
                                    "SZOBA_ID": "79",
                                    "ferohely": "3",
                                    "(No column name)": "45"
                                },
                                {
                                    "SZOBA_ID": "120",
                                    "ferohely": "3",
                                    "(No column name)": "45"
                                },
                                {
                                    "SZOBA_ID": "120",
                                    "ferohely": "3",
                                    "(No column name)": "45"
                                },
                                {
                                    "SZOBA_ID": "79",
                                    "ferohely": "3",
                                    "(No column name)": "45"
                                },
                                {
                                    "SZOBA_ID": "120",
                                    "ferohely": "3",
                                    "(No column name)": "45"
                                },
                                {
                                    "SZOBA_ID": "79",
                                    "ferohely": "3",
                                    "(No column name)": "45"
                                },
                                {
                                    "SZOBA_ID": "194",
                                    "ferohely": "2",
                                    "(No column name)": "46"
                                },
                                {
                                    "SZOBA_ID": "121",
                                    "ferohely": "2",
                                    "(No column name)": "47"
                                },
                                {
                                    "SZOBA_ID": "195",
                                    "ferohely": "2",
                                    "(No column name)": "47"
                                },
                                {
                                    "SZOBA_ID": "80",
                                    "ferohely": "2",
                                    "(No column name)": "47"
                                },
                                {
                                    "SZOBA_ID": "80",
                                    "ferohely": "2",
                                    "(No column name)": "47"
                                },
                                {
                                    "SZOBA_ID": "80",
                                    "ferohely": "2",
                                    "(No column name)": "47"
                                },
                                {
                                    "SZOBA_ID": "195",
                                    "ferohely": "2",
                                    "(No column name)": "47"
                                },
                                {
                                    "SZOBA_ID": "121",
                                    "ferohely": "2",
                                    "(No column name)": "47"
                                },
                                {
                                    "SZOBA_ID": "80",
                                    "ferohely": "2",
                                    "(No column name)": "47"
                                },
                                {
                                    "SZOBA_ID": "121",
                                    "ferohely": "2",
                                    "(No column name)": "47"
                                },
                                {
                                    "SZOBA_ID": "121",
                                    "ferohely": "2",
                                    "(No column name)": "47"
                                },
                                {
                                    "SZOBA_ID": "195",
                                    "ferohely": "2",
                                    "(No column name)": "47"
                                },
                                {
                                    "SZOBA_ID": "80",
                                    "ferohely": "2",
                                    "(No column name)": "47"
                                },
                                {
                                    "SZOBA_ID": "121",
                                    "ferohely": "2",
                                    "(No column name)": "47"
                                },
                                {
                                    "SZOBA_ID": "121",
                                    "ferohely": "2",
                                    "(No column name)": "47"
                                },
                                {
                                    "SZOBA_ID": "195",
                                    "ferohely": "2",
                                    "(No column name)": "47"
                                },
                                {
                                    "SZOBA_ID": "121",
                                    "ferohely": "2",
                                    "(No column name)": "47"
                                },
                                {
                                    "SZOBA_ID": "121",
                                    "ferohely": "2",
                                    "(No column name)": "47"
                                },
                                {
                                    "SZOBA_ID": "80",
                                    "ferohely": "2",
                                    "(No column name)": "47"
                                },
                                {
                                    "SZOBA_ID": "80",
                                    "ferohely": "2",
                                    "(No column name)": "47"
                                },
                                {
                                    "SZOBA_ID": "195",
                                    "ferohely": "2",
                                    "(No column name)": "47"
                                },
                                {
                                    "SZOBA_ID": "195",
                                    "ferohely": "2",
                                    "(No column name)": "47"
                                },
                                {
                                    "SZOBA_ID": "122",
                                    "ferohely": "3",
                                    "(No column name)": "48"
                                },
                                {
                                    "SZOBA_ID": "122",
                                    "ferohely": "3",
                                    "(No column name)": "48"
                                },
                                {
                                    "SZOBA_ID": "122",
                                    "ferohely": "3",
                                    "(No column name)": "48"
                                },
                                {
                                    "SZOBA_ID": "122",
                                    "ferohely": "3",
                                    "(No column name)": "48"
                                },
                                {
                                    "SZOBA_ID": "122",
                                    "ferohely": "3",
                                    "(No column name)": "48"
                                },
                                {
                                    "SZOBA_ID": "122",
                                    "ferohely": "3",
                                    "(No column name)": "48"
                                },
                                {
                                    "SZOBA_ID": "122",
                                    "ferohely": "3",
                                    "(No column name)": "48"
                                },
                                {
                                    "SZOBA_ID": "122",
                                    "ferohely": "3",
                                    "(No column name)": "48"
                                },
                                {
                                    "SZOBA_ID": "122",
                                    "ferohely": "3",
                                    "(No column name)": "48"
                                },
                                {
                                    "SZOBA_ID": "196",
                                    "ferohely": "2",
                                    "(No column name)": "49"
                                },
                                {
                                    "SZOBA_ID": "196",
                                    "ferohely": "2",
                                    "(No column name)": "49"
                                },
                                {
                                    "SZOBA_ID": "196",
                                    "ferohely": "2",
                                    "(No column name)": "49"
                                },
                                {
                                    "SZOBA_ID": "81",
                                    "ferohely": "2",
                                    "(No column name)": "49"
                                },
                                {
                                    "SZOBA_ID": "196",
                                    "ferohely": "2",
                                    "(No column name)": "49"
                                },
                                {
                                    "SZOBA_ID": "81",
                                    "ferohely": "2",
                                    "(No column name)": "49"
                                },
                                {
                                    "SZOBA_ID": "81",
                                    "ferohely": "2",
                                    "(No column name)": "49"
                                },
                                {
                                    "SZOBA_ID": "81",
                                    "ferohely": "2",
                                    "(No column name)": "49"
                                },
                                {
                                    "SZOBA_ID": "81",
                                    "ferohely": "2",
                                    "(No column name)": "49"
                                },
                                {
                                    "SZOBA_ID": "82",
                                    "ferohely": "3",
                                    "(No column name)": "50"
                                },
                                {
                                    "SZOBA_ID": "197",
                                    "ferohely": "3",
                                    "(No column name)": "50"
                                },
                                {
                                    "SZOBA_ID": "82",
                                    "ferohely": "3",
                                    "(No column name)": "50"
                                },
                                {
                                    "SZOBA_ID": "123",
                                    "ferohely": "3",
                                    "(No column name)": "50"
                                },
                                {
                                    "SZOBA_ID": "82",
                                    "ferohely": "3",
                                    "(No column name)": "50"
                                },
                                {
                                    "SZOBA_ID": "197",
                                    "ferohely": "3",
                                    "(No column name)": "50"
                                },
                                {
                                    "SZOBA_ID": "123",
                                    "ferohely": "3",
                                    "(No column name)": "50"
                                },
                                {
                                    "SZOBA_ID": "197",
                                    "ferohely": "3",
                                    "(No column name)": "50"
                                },
                                {
                                    "SZOBA_ID": "123",
                                    "ferohely": "3",
                                    "(No column name)": "50"
                                },
                                {
                                    "SZOBA_ID": "197",
                                    "ferohely": "3",
                                    "(No column name)": "50"
                                },
                                {
                                    "SZOBA_ID": "123",
                                    "ferohely": "3",
                                    "(No column name)": "50"
                                },
                                {
                                    "SZOBA_ID": "123",
                                    "ferohely": "3",
                                    "(No column name)": "50"
                                },
                                {
                                    "SZOBA_ID": "82",
                                    "ferohely": "3",
                                    "(No column name)": "50"
                                },
                                {
                                    "SZOBA_ID": "82",
                                    "ferohely": "3",
                                    "(No column name)": "50"
                                },
                                {
                                    "SZOBA_ID": "197",
                                    "ferohely": "3",
                                    "(No column name)": "50"
                                },
                                {
                                    "SZOBA_ID": "82",
                                    "ferohely": "3",
                                    "(No column name)": "50"
                                },
                                {
                                    "SZOBA_ID": "197",
                                    "ferohely": "3",
                                    "(No column name)": "50"
                                },
                                {
                                    "SZOBA_ID": "198",
                                    "ferohely": "3",
                                    "(No column name)": "51"
                                },
                                {
                                    "SZOBA_ID": "83",
                                    "ferohely": "3",
                                    "(No column name)": "51"
                                },
                                {
                                    "SZOBA_ID": "198",
                                    "ferohely": "3",
                                    "(No column name)": "51"
                                },
                                {
                                    "SZOBA_ID": "83",
                                    "ferohely": "3",
                                    "(No column name)": "51"
                                },
                                {
                                    "SZOBA_ID": "198",
                                    "ferohely": "3",
                                    "(No column name)": "51"
                                },
                                {
                                    "SZOBA_ID": "198",
                                    "ferohely": "3",
                                    "(No column name)": "51"
                                },
                                {
                                    "SZOBA_ID": "124",
                                    "ferohely": "3",
                                    "(No column name)": "51"
                                },
                                {
                                    "SZOBA_ID": "83",
                                    "ferohely": "3",
                                    "(No column name)": "51"
                                },
                                {
                                    "SZOBA_ID": "83",
                                    "ferohely": "3",
                                    "(No column name)": "51"
                                },
                                {
                                    "SZOBA_ID": "83",
                                    "ferohely": "3",
                                    "(No column name)": "51"
                                },
                                {
                                    "SZOBA_ID": "83",
                                    "ferohely": "3",
                                    "(No column name)": "51"
                                },
                                {
                                    "SZOBA_ID": "83",
                                    "ferohely": "3",
                                    "(No column name)": "51"
                                },
                                {
                                    "SZOBA_ID": "198",
                                    "ferohely": "3",
                                    "(No column name)": "51"
                                },
                                {
                                    "SZOBA_ID": "198",
                                    "ferohely": "3",
                                    "(No column name)": "51"
                                },
                                {
                                    "SZOBA_ID": "124",
                                    "ferohely": "3",
                                    "(No column name)": "51"
                                },
                                {
                                    "SZOBA_ID": "198",
                                    "ferohely": "3",
                                    "(No column name)": "51"
                                },
                                {
                                    "SZOBA_ID": "83",
                                    "ferohely": "3",
                                    "(No column name)": "51"
                                },
                                {
                                    "SZOBA_ID": "124",
                                    "ferohely": "3",
                                    "(No column name)": "51"
                                },
                                {
                                    "SZOBA_ID": "124",
                                    "ferohely": "3",
                                    "(No column name)": "51"
                                },
                                {
                                    "SZOBA_ID": "124",
                                    "ferohely": "3",
                                    "(No column name)": "51"
                                },
                                {
                                    "SZOBA_ID": "198",
                                    "ferohely": "3",
                                    "(No column name)": "51"
                                },
                                {
                                    "SZOBA_ID": "124",
                                    "ferohely": "3",
                                    "(No column name)": "51"
                                },
                                {
                                    "SZOBA_ID": "84",
                                    "ferohely": "3",
                                    "(No column name)": "52"
                                },
                                {
                                    "SZOBA_ID": "84",
                                    "ferohely": "3",
                                    "(No column name)": "52"
                                },
                                {
                                    "SZOBA_ID": "84",
                                    "ferohely": "3",
                                    "(No column name)": "52"
                                },
                                {
                                    "SZOBA_ID": "84",
                                    "ferohely": "3",
                                    "(No column name)": "52"
                                },
                                {
                                    "SZOBA_ID": "125",
                                    "ferohely": "2",
                                    "(No column name)": "53"
                                },
                                {
                                    "SZOBA_ID": "126",
                                    "ferohely": "2",
                                    "(No column name)": "54"
                                },
                                {
                                    "SZOBA_ID": "126",
                                    "ferohely": "2",
                                    "(No column name)": "54"
                                },
                                {
                                    "SZOBA_ID": "126",
                                    "ferohely": "2",
                                    "(No column name)": "54"
                                },
                                {
                                    "SZOBA_ID": "126",
                                    "ferohely": "2",
                                    "(No column name)": "54"
                                },
                                {
                                    "SZOBA_ID": "126",
                                    "ferohely": "2",
                                    "(No column name)": "54"
                                },
                                {
                                    "SZOBA_ID": "126",
                                    "ferohely": "2",
                                    "(No column name)": "54"
                                },
                                {
                                    "SZOBA_ID": "127",
                                    "ferohely": "2",
                                    "(No column name)": "55"
                                },
                                {
                                    "SZOBA_ID": "127",
                                    "ferohely": "2",
                                    "(No column name)": "55"
                                },
                                {
                                    "SZOBA_ID": "127",
                                    "ferohely": "2",
                                    "(No column name)": "55"
                                },
                                {
                                    "SZOBA_ID": "127",
                                    "ferohely": "2",
                                    "(No column name)": "55"
                                },
                                {
                                    "SZOBA_ID": "127",
                                    "ferohely": "2",
                                    "(No column name)": "55"
                                },
                                {
                                    "SZOBA_ID": "127",
                                    "ferohely": "2",
                                    "(No column name)": "55"
                                },
                                {
                                    "SZOBA_ID": "127",
                                    "ferohely": "2",
                                    "(No column name)": "55"
                                },
                                {
                                    "SZOBA_ID": "128",
                                    "ferohely": "2",
                                    "(No column name)": "56"
                                },
                                {
                                    "SZOBA_ID": "128",
                                    "ferohely": "2",
                                    "(No column name)": "56"
                                },
                                {
                                    "SZOBA_ID": "128",
                                    "ferohely": "2",
                                    "(No column name)": "56"
                                },
                                {
                                    "SZOBA_ID": "128",
                                    "ferohely": "2",
                                    "(No column name)": "56"
                                },
                                {
                                    "SZOBA_ID": "128",
                                    "ferohely": "2",
                                    "(No column name)": "56"
                                },
                                {
                                    "SZOBA_ID": "129",
                                    "ferohely": "2",
                                    "(No column name)": "57"
                                },
                                {
                                    "SZOBA_ID": "129",
                                    "ferohely": "2",
                                    "(No column name)": "57"
                                },
                                {
                                    "SZOBA_ID": "129",
                                    "ferohely": "2",
                                    "(No column name)": "57"
                                },
                                {
                                    "SZOBA_ID": "129",
                                    "ferohely": "2",
                                    "(No column name)": "57"
                                },
                                {
                                    "SZOBA_ID": "20",
                                    "ferohely": "3",
                                    "(No column name)": "58"
                                },
                                {
                                    "SZOBA_ID": "88",
                                    "ferohely": "3",
                                    "(No column name)": "58"
                                },
                                {
                                    "SZOBA_ID": "138",
                                    "ferohely": "3",
                                    "(No column name)": "58"
                                },
                                {
                                    "SZOBA_ID": "20",
                                    "ferohely": "3",
                                    "(No column name)": "58"
                                },
                                {
                                    "SZOBA_ID": "138",
                                    "ferohely": "3",
                                    "(No column name)": "58"
                                },
                                {
                                    "SZOBA_ID": "43",
                                    "ferohely": "3",
                                    "(No column name)": "58"
                                },
                                {
                                    "SZOBA_ID": "16",
                                    "ferohely": "3",
                                    "(No column name)": "58"
                                },
                                {
                                    "SZOBA_ID": "43",
                                    "ferohely": "3",
                                    "(No column name)": "58"
                                },
                                {
                                    "SZOBA_ID": "133",
                                    "ferohely": "3",
                                    "(No column name)": "58"
                                },
                                {
                                    "SZOBA_ID": "20",
                                    "ferohely": "3",
                                    "(No column name)": "58"
                                },
                                {
                                    "SZOBA_ID": "20",
                                    "ferohely": "3",
                                    "(No column name)": "58"
                                },
                                {
                                    "SZOBA_ID": "20",
                                    "ferohely": "3",
                                    "(No column name)": "58"
                                },
                                {
                                    "SZOBA_ID": "43",
                                    "ferohely": "3",
                                    "(No column name)": "58"
                                },
                                {
                                    "SZOBA_ID": "16",
                                    "ferohely": "3",
                                    "(No column name)": "58"
                                },
                                {
                                    "SZOBA_ID": "88",
                                    "ferohely": "3",
                                    "(No column name)": "58"
                                },
                                {
                                    "SZOBA_ID": "16",
                                    "ferohely": "3",
                                    "(No column name)": "58"
                                },
                                {
                                    "SZOBA_ID": "16",
                                    "ferohely": "3",
                                    "(No column name)": "58"
                                },
                                {
                                    "SZOBA_ID": "133",
                                    "ferohely": "3",
                                    "(No column name)": "58"
                                },
                                {
                                    "SZOBA_ID": "133",
                                    "ferohely": "3",
                                    "(No column name)": "58"
                                },
                                {
                                    "SZOBA_ID": "138",
                                    "ferohely": "3",
                                    "(No column name)": "58"
                                },
                                {
                                    "SZOBA_ID": "88",
                                    "ferohely": "3",
                                    "(No column name)": "58"
                                },
                                {
                                    "SZOBA_ID": "138",
                                    "ferohely": "3",
                                    "(No column name)": "58"
                                },
                                {
                                    "SZOBA_ID": "138",
                                    "ferohely": "3",
                                    "(No column name)": "58"
                                },
                                {
                                    "SZOBA_ID": "138",
                                    "ferohely": "3",
                                    "(No column name)": "58"
                                },
                                {
                                    "SZOBA_ID": "88",
                                    "ferohely": "3",
                                    "(No column name)": "58"
                                },
                                {
                                    "SZOBA_ID": "43",
                                    "ferohely": "3",
                                    "(No column name)": "58"
                                },
                                {
                                    "SZOBA_ID": "88",
                                    "ferohely": "3",
                                    "(No column name)": "58"
                                },
                                {
                                    "SZOBA_ID": "133",
                                    "ferohely": "3",
                                    "(No column name)": "58"
                                },
                                {
                                    "SZOBA_ID": "43",
                                    "ferohely": "3",
                                    "(No column name)": "58"
                                },
                                {
                                    "SZOBA_ID": "88",
                                    "ferohely": "3",
                                    "(No column name)": "58"
                                },
                                {
                                    "SZOBA_ID": "43",
                                    "ferohely": "3",
                                    "(No column name)": "58"
                                },
                                {
                                    "SZOBA_ID": "138",
                                    "ferohely": "3",
                                    "(No column name)": "58"
                                },
                                {
                                    "SZOBA_ID": "133",
                                    "ferohely": "3",
                                    "(No column name)": "58"
                                },
                                {
                                    "SZOBA_ID": "16",
                                    "ferohely": "3",
                                    "(No column name)": "58"
                                },
                                {
                                    "SZOBA_ID": "43",
                                    "ferohely": "3",
                                    "(No column name)": "58"
                                },
                                {
                                    "SZOBA_ID": "133",
                                    "ferohely": "3",
                                    "(No column name)": "58"
                                },
                                {
                                    "SZOBA_ID": "88",
                                    "ferohely": "3",
                                    "(No column name)": "58"
                                },
                                {
                                    "SZOBA_ID": "43",
                                    "ferohely": "3",
                                    "(No column name)": "58"
                                },
                                {
                                    "SZOBA_ID": "88",
                                    "ferohely": "3",
                                    "(No column name)": "58"
                                },
                                {
                                    "SZOBA_ID": "94",
                                    "ferohely": "2",
                                    "(No column name)": "59"
                                },
                                {
                                    "SZOBA_ID": "28",
                                    "ferohely": "2",
                                    "(No column name)": "59"
                                },
                                {
                                    "SZOBA_ID": "94",
                                    "ferohely": "2",
                                    "(No column name)": "59"
                                },
                                {
                                    "SZOBA_ID": "4",
                                    "ferohely": "2",
                                    "(No column name)": "59"
                                },
                                {
                                    "SZOBA_ID": "163",
                                    "ferohely": "2",
                                    "(No column name)": "59"
                                },
                                {
                                    "SZOBA_ID": "28",
                                    "ferohely": "2",
                                    "(No column name)": "59"
                                },
                                {
                                    "SZOBA_ID": "4",
                                    "ferohely": "2",
                                    "(No column name)": "59"
                                },
                                {
                                    "SZOBA_ID": "4",
                                    "ferohely": "2",
                                    "(No column name)": "59"
                                },
                                {
                                    "SZOBA_ID": "168",
                                    "ferohely": "2",
                                    "(No column name)": "59"
                                },
                                {
                                    "SZOBA_ID": "94",
                                    "ferohely": "2",
                                    "(No column name)": "59"
                                },
                                {
                                    "SZOBA_ID": "94",
                                    "ferohely": "2",
                                    "(No column name)": "59"
                                },
                                {
                                    "SZOBA_ID": "94",
                                    "ferohely": "2",
                                    "(No column name)": "59"
                                },
                                {
                                    "SZOBA_ID": "163",
                                    "ferohely": "2",
                                    "(No column name)": "59"
                                },
                                {
                                    "SZOBA_ID": "168",
                                    "ferohely": "2",
                                    "(No column name)": "59"
                                },
                                {
                                    "SZOBA_ID": "94",
                                    "ferohely": "2",
                                    "(No column name)": "59"
                                },
                                {
                                    "SZOBA_ID": "168",
                                    "ferohely": "2",
                                    "(No column name)": "59"
                                },
                                {
                                    "SZOBA_ID": "163",
                                    "ferohely": "2",
                                    "(No column name)": "59"
                                },
                                {
                                    "SZOBA_ID": "4",
                                    "ferohely": "2",
                                    "(No column name)": "59"
                                },
                                {
                                    "SZOBA_ID": "28",
                                    "ferohely": "2",
                                    "(No column name)": "59"
                                },
                                {
                                    "SZOBA_ID": "28",
                                    "ferohely": "2",
                                    "(No column name)": "59"
                                },
                                {
                                    "SZOBA_ID": "28",
                                    "ferohely": "2",
                                    "(No column name)": "59"
                                },
                                {
                                    "SZOBA_ID": "53",
                                    "ferohely": "2",
                                    "(No column name)": "59"
                                },
                                {
                                    "SZOBA_ID": "163",
                                    "ferohely": "2",
                                    "(No column name)": "59"
                                },
                                {
                                    "SZOBA_ID": "163",
                                    "ferohely": "2",
                                    "(No column name)": "59"
                                },
                                {
                                    "SZOBA_ID": "53",
                                    "ferohely": "2",
                                    "(No column name)": "59"
                                },
                                {
                                    "SZOBA_ID": "94",
                                    "ferohely": "2",
                                    "(No column name)": "59"
                                },
                                {
                                    "SZOBA_ID": "4",
                                    "ferohely": "2",
                                    "(No column name)": "59"
                                },
                                {
                                    "SZOBA_ID": "94",
                                    "ferohely": "2",
                                    "(No column name)": "59"
                                },
                                {
                                    "SZOBA_ID": "163",
                                    "ferohely": "2",
                                    "(No column name)": "59"
                                },
                                {
                                    "SZOBA_ID": "4",
                                    "ferohely": "2",
                                    "(No column name)": "59"
                                },
                                {
                                    "SZOBA_ID": "94",
                                    "ferohely": "2",
                                    "(No column name)": "59"
                                },
                                {
                                    "SZOBA_ID": "168",
                                    "ferohely": "2",
                                    "(No column name)": "59"
                                },
                                {
                                    "SZOBA_ID": "168",
                                    "ferohely": "2",
                                    "(No column name)": "59"
                                },
                                {
                                    "SZOBA_ID": "163",
                                    "ferohely": "2",
                                    "(No column name)": "59"
                                },
                                {
                                    "SZOBA_ID": "28",
                                    "ferohely": "2",
                                    "(No column name)": "59"
                                },
                                {
                                    "SZOBA_ID": "94",
                                    "ferohely": "2",
                                    "(No column name)": "59"
                                },
                                {
                                    "SZOBA_ID": "89",
                                    "ferohely": "3",
                                    "(No column name)": "60"
                                },
                                {
                                    "SZOBA_ID": "44",
                                    "ferohely": "3",
                                    "(No column name)": "60"
                                },
                                {
                                    "SZOBA_ID": "54",
                                    "ferohely": "3",
                                    "(No column name)": "60"
                                },
                                {
                                    "SZOBA_ID": "44",
                                    "ferohely": "3",
                                    "(No column name)": "60"
                                },
                                {
                                    "SZOBA_ID": "44",
                                    "ferohely": "3",
                                    "(No column name)": "60"
                                },
                                {
                                    "SZOBA_ID": "95",
                                    "ferohely": "3",
                                    "(No column name)": "60"
                                },
                                {
                                    "SZOBA_ID": "54",
                                    "ferohely": "3",
                                    "(No column name)": "60"
                                },
                                {
                                    "SZOBA_ID": "54",
                                    "ferohely": "3",
                                    "(No column name)": "60"
                                },
                                {
                                    "SZOBA_ID": "134",
                                    "ferohely": "3",
                                    "(No column name)": "60"
                                },
                                {
                                    "SZOBA_ID": "89",
                                    "ferohely": "3",
                                    "(No column name)": "60"
                                },
                                {
                                    "SZOBA_ID": "134",
                                    "ferohely": "3",
                                    "(No column name)": "60"
                                },
                                {
                                    "SZOBA_ID": "95",
                                    "ferohely": "3",
                                    "(No column name)": "60"
                                },
                                {
                                    "SZOBA_ID": "134",
                                    "ferohely": "3",
                                    "(No column name)": "60"
                                },
                                {
                                    "SZOBA_ID": "54",
                                    "ferohely": "3",
                                    "(No column name)": "60"
                                },
                                {
                                    "SZOBA_ID": "95",
                                    "ferohely": "3",
                                    "(No column name)": "60"
                                },
                                {
                                    "SZOBA_ID": "89",
                                    "ferohely": "3",
                                    "(No column name)": "60"
                                },
                                {
                                    "SZOBA_ID": "54",
                                    "ferohely": "3",
                                    "(No column name)": "60"
                                },
                                {
                                    "SZOBA_ID": "89",
                                    "ferohely": "3",
                                    "(No column name)": "60"
                                },
                                {
                                    "SZOBA_ID": "89",
                                    "ferohely": "3",
                                    "(No column name)": "60"
                                },
                                {
                                    "SZOBA_ID": "44",
                                    "ferohely": "3",
                                    "(No column name)": "60"
                                },
                                {
                                    "SZOBA_ID": "54",
                                    "ferohely": "3",
                                    "(No column name)": "60"
                                },
                                {
                                    "SZOBA_ID": "89",
                                    "ferohely": "3",
                                    "(No column name)": "60"
                                },
                                {
                                    "SZOBA_ID": "134",
                                    "ferohely": "3",
                                    "(No column name)": "60"
                                },
                                {
                                    "SZOBA_ID": "134",
                                    "ferohely": "3",
                                    "(No column name)": "60"
                                },
                                {
                                    "SZOBA_ID": "89",
                                    "ferohely": "3",
                                    "(No column name)": "60"
                                },
                                {
                                    "SZOBA_ID": "89",
                                    "ferohely": "3",
                                    "(No column name)": "60"
                                },
                                {
                                    "SZOBA_ID": "134",
                                    "ferohely": "3",
                                    "(No column name)": "60"
                                },
                                {
                                    "SZOBA_ID": "95",
                                    "ferohely": "3",
                                    "(No column name)": "60"
                                },
                                {
                                    "SZOBA_ID": "44",
                                    "ferohely": "3",
                                    "(No column name)": "60"
                                },
                                {
                                    "SZOBA_ID": "44",
                                    "ferohely": "3",
                                    "(No column name)": "60"
                                },
                                {
                                    "SZOBA_ID": "29",
                                    "ferohely": "2",
                                    "(No column name)": "61"
                                },
                                {
                                    "SZOBA_ID": "169",
                                    "ferohely": "2",
                                    "(No column name)": "61"
                                },
                                {
                                    "SZOBA_ID": "139",
                                    "ferohely": "2",
                                    "(No column name)": "61"
                                },
                                {
                                    "SZOBA_ID": "139",
                                    "ferohely": "2",
                                    "(No column name)": "61"
                                },
                                {
                                    "SZOBA_ID": "29",
                                    "ferohely": "2",
                                    "(No column name)": "61"
                                },
                                {
                                    "SZOBA_ID": "21",
                                    "ferohely": "2",
                                    "(No column name)": "61"
                                },
                                {
                                    "SZOBA_ID": "5",
                                    "ferohely": "2",
                                    "(No column name)": "61"
                                },
                                {
                                    "SZOBA_ID": "29",
                                    "ferohely": "2",
                                    "(No column name)": "61"
                                },
                                {
                                    "SZOBA_ID": "164",
                                    "ferohely": "2",
                                    "(No column name)": "61"
                                },
                                {
                                    "SZOBA_ID": "164",
                                    "ferohely": "2",
                                    "(No column name)": "61"
                                },
                                {
                                    "SZOBA_ID": "169",
                                    "ferohely": "2",
                                    "(No column name)": "61"
                                },
                                {
                                    "SZOBA_ID": "29",
                                    "ferohely": "2",
                                    "(No column name)": "61"
                                },
                                {
                                    "SZOBA_ID": "169",
                                    "ferohely": "2",
                                    "(No column name)": "61"
                                },
                                {
                                    "SZOBA_ID": "5",
                                    "ferohely": "2",
                                    "(No column name)": "61"
                                },
                                {
                                    "SZOBA_ID": "29",
                                    "ferohely": "2",
                                    "(No column name)": "61"
                                },
                                {
                                    "SZOBA_ID": "5",
                                    "ferohely": "2",
                                    "(No column name)": "61"
                                },
                                {
                                    "SZOBA_ID": "139",
                                    "ferohely": "2",
                                    "(No column name)": "61"
                                },
                                {
                                    "SZOBA_ID": "139",
                                    "ferohely": "2",
                                    "(No column name)": "61"
                                },
                                {
                                    "SZOBA_ID": "164",
                                    "ferohely": "2",
                                    "(No column name)": "61"
                                },
                                {
                                    "SZOBA_ID": "169",
                                    "ferohely": "2",
                                    "(No column name)": "61"
                                },
                                {
                                    "SZOBA_ID": "21",
                                    "ferohely": "2",
                                    "(No column name)": "61"
                                },
                                {
                                    "SZOBA_ID": "139",
                                    "ferohely": "2",
                                    "(No column name)": "61"
                                },
                                {
                                    "SZOBA_ID": "169",
                                    "ferohely": "2",
                                    "(No column name)": "61"
                                },
                                {
                                    "SZOBA_ID": "164",
                                    "ferohely": "2",
                                    "(No column name)": "61"
                                },
                                {
                                    "SZOBA_ID": "5",
                                    "ferohely": "2",
                                    "(No column name)": "61"
                                },
                                {
                                    "SZOBA_ID": "21",
                                    "ferohely": "2",
                                    "(No column name)": "61"
                                },
                                {
                                    "SZOBA_ID": "29",
                                    "ferohely": "2",
                                    "(No column name)": "61"
                                },
                                {
                                    "SZOBA_ID": "21",
                                    "ferohely": "2",
                                    "(No column name)": "61"
                                },
                                {
                                    "SZOBA_ID": "139",
                                    "ferohely": "2",
                                    "(No column name)": "61"
                                },
                                {
                                    "SZOBA_ID": "169",
                                    "ferohely": "2",
                                    "(No column name)": "61"
                                },
                                {
                                    "SZOBA_ID": "139",
                                    "ferohely": "2",
                                    "(No column name)": "61"
                                },
                                {
                                    "SZOBA_ID": "164",
                                    "ferohely": "2",
                                    "(No column name)": "61"
                                },
                                {
                                    "SZOBA_ID": "90",
                                    "ferohely": "3",
                                    "(No column name)": "62"
                                },
                                {
                                    "SZOBA_ID": "96",
                                    "ferohely": "3",
                                    "(No column name)": "62"
                                },
                                {
                                    "SZOBA_ID": "6",
                                    "ferohely": "3",
                                    "(No column name)": "62"
                                },
                                {
                                    "SZOBA_ID": "96",
                                    "ferohely": "3",
                                    "(No column name)": "62"
                                },
                                {
                                    "SZOBA_ID": "96",
                                    "ferohely": "3",
                                    "(No column name)": "62"
                                },
                                {
                                    "SZOBA_ID": "30",
                                    "ferohely": "3",
                                    "(No column name)": "62"
                                },
                                {
                                    "SZOBA_ID": "6",
                                    "ferohely": "3",
                                    "(No column name)": "62"
                                },
                                {
                                    "SZOBA_ID": "96",
                                    "ferohely": "3",
                                    "(No column name)": "62"
                                },
                                {
                                    "SZOBA_ID": "22",
                                    "ferohely": "3",
                                    "(No column name)": "62"
                                },
                                {
                                    "SZOBA_ID": "6",
                                    "ferohely": "3",
                                    "(No column name)": "62"
                                },
                                {
                                    "SZOBA_ID": "30",
                                    "ferohely": "3",
                                    "(No column name)": "62"
                                },
                                {
                                    "SZOBA_ID": "6",
                                    "ferohely": "3",
                                    "(No column name)": "62"
                                },
                                {
                                    "SZOBA_ID": "22",
                                    "ferohely": "3",
                                    "(No column name)": "62"
                                },
                                {
                                    "SZOBA_ID": "6",
                                    "ferohely": "3",
                                    "(No column name)": "62"
                                },
                                {
                                    "SZOBA_ID": "6",
                                    "ferohely": "3",
                                    "(No column name)": "62"
                                },
                                {
                                    "SZOBA_ID": "96",
                                    "ferohely": "3",
                                    "(No column name)": "62"
                                },
                                {
                                    "SZOBA_ID": "22",
                                    "ferohely": "3",
                                    "(No column name)": "62"
                                },
                                {
                                    "SZOBA_ID": "90",
                                    "ferohely": "3",
                                    "(No column name)": "62"
                                },
                                {
                                    "SZOBA_ID": "22",
                                    "ferohely": "3",
                                    "(No column name)": "62"
                                },
                                {
                                    "SZOBA_ID": "22",
                                    "ferohely": "3",
                                    "(No column name)": "62"
                                },
                                {
                                    "SZOBA_ID": "90",
                                    "ferohely": "3",
                                    "(No column name)": "62"
                                },
                                {
                                    "SZOBA_ID": "30",
                                    "ferohely": "3",
                                    "(No column name)": "62"
                                },
                                {
                                    "SZOBA_ID": "22",
                                    "ferohely": "3",
                                    "(No column name)": "62"
                                },
                                {
                                    "SZOBA_ID": "96",
                                    "ferohely": "3",
                                    "(No column name)": "62"
                                },
                                {
                                    "SZOBA_ID": "90",
                                    "ferohely": "3",
                                    "(No column name)": "62"
                                },
                                {
                                    "SZOBA_ID": "96",
                                    "ferohely": "3",
                                    "(No column name)": "62"
                                },
                                {
                                    "SZOBA_ID": "55",
                                    "ferohely": "2",
                                    "(No column name)": "63"
                                },
                                {
                                    "SZOBA_ID": "55",
                                    "ferohely": "2",
                                    "(No column name)": "63"
                                },
                                {
                                    "SZOBA_ID": "45",
                                    "ferohely": "2",
                                    "(No column name)": "63"
                                },
                                {
                                    "SZOBA_ID": "140",
                                    "ferohely": "2",
                                    "(No column name)": "63"
                                },
                                {
                                    "SZOBA_ID": "55",
                                    "ferohely": "2",
                                    "(No column name)": "63"
                                },
                                {
                                    "SZOBA_ID": "170",
                                    "ferohely": "2",
                                    "(No column name)": "63"
                                },
                                {
                                    "SZOBA_ID": "55",
                                    "ferohely": "2",
                                    "(No column name)": "63"
                                },
                                {
                                    "SZOBA_ID": "140",
                                    "ferohely": "2",
                                    "(No column name)": "63"
                                },
                                {
                                    "SZOBA_ID": "45",
                                    "ferohely": "2",
                                    "(No column name)": "63"
                                },
                                {
                                    "SZOBA_ID": "55",
                                    "ferohely": "2",
                                    "(No column name)": "63"
                                },
                                {
                                    "SZOBA_ID": "170",
                                    "ferohely": "2",
                                    "(No column name)": "63"
                                },
                                {
                                    "SZOBA_ID": "140",
                                    "ferohely": "2",
                                    "(No column name)": "63"
                                },
                                {
                                    "SZOBA_ID": "55",
                                    "ferohely": "2",
                                    "(No column name)": "63"
                                },
                                {
                                    "SZOBA_ID": "140",
                                    "ferohely": "2",
                                    "(No column name)": "63"
                                },
                                {
                                    "SZOBA_ID": "140",
                                    "ferohely": "2",
                                    "(No column name)": "63"
                                },
                                {
                                    "SZOBA_ID": "170",
                                    "ferohely": "2",
                                    "(No column name)": "63"
                                },
                                {
                                    "SZOBA_ID": "45",
                                    "ferohely": "2",
                                    "(No column name)": "63"
                                },
                                {
                                    "SZOBA_ID": "170",
                                    "ferohely": "2",
                                    "(No column name)": "63"
                                },
                                {
                                    "SZOBA_ID": "140",
                                    "ferohely": "2",
                                    "(No column name)": "63"
                                },
                                {
                                    "SZOBA_ID": "140",
                                    "ferohely": "2",
                                    "(No column name)": "63"
                                },
                                {
                                    "SZOBA_ID": "55",
                                    "ferohely": "2",
                                    "(No column name)": "63"
                                },
                                {
                                    "SZOBA_ID": "170",
                                    "ferohely": "2",
                                    "(No column name)": "63"
                                },
                                {
                                    "SZOBA_ID": "45",
                                    "ferohely": "2",
                                    "(No column name)": "63"
                                },
                                {
                                    "SZOBA_ID": "45",
                                    "ferohely": "2",
                                    "(No column name)": "63"
                                },
                                {
                                    "SZOBA_ID": "140",
                                    "ferohely": "2",
                                    "(No column name)": "63"
                                },
                                {
                                    "SZOBA_ID": "55",
                                    "ferohely": "2",
                                    "(No column name)": "63"
                                },
                                {
                                    "SZOBA_ID": "46",
                                    "ferohely": "3",
                                    "(No column name)": "64"
                                },
                                {
                                    "SZOBA_ID": "31",
                                    "ferohely": "3",
                                    "(No column name)": "64"
                                },
                                {
                                    "SZOBA_ID": "97",
                                    "ferohely": "3",
                                    "(No column name)": "64"
                                },
                                {
                                    "SZOBA_ID": "97",
                                    "ferohely": "3",
                                    "(No column name)": "64"
                                },
                                {
                                    "SZOBA_ID": "97",
                                    "ferohely": "3",
                                    "(No column name)": "64"
                                },
                                {
                                    "SZOBA_ID": "31",
                                    "ferohely": "3",
                                    "(No column name)": "64"
                                },
                                {
                                    "SZOBA_ID": "31",
                                    "ferohely": "3",
                                    "(No column name)": "64"
                                },
                                {
                                    "SZOBA_ID": "97",
                                    "ferohely": "3",
                                    "(No column name)": "64"
                                },
                                {
                                    "SZOBA_ID": "97",
                                    "ferohely": "3",
                                    "(No column name)": "64"
                                },
                                {
                                    "SZOBA_ID": "46",
                                    "ferohely": "3",
                                    "(No column name)": "64"
                                },
                                {
                                    "SZOBA_ID": "46",
                                    "ferohely": "3",
                                    "(No column name)": "64"
                                },
                                {
                                    "SZOBA_ID": "46",
                                    "ferohely": "3",
                                    "(No column name)": "64"
                                },
                                {
                                    "SZOBA_ID": "97",
                                    "ferohely": "3",
                                    "(No column name)": "64"
                                },
                                {
                                    "SZOBA_ID": "97",
                                    "ferohely": "3",
                                    "(No column name)": "64"
                                },
                                {
                                    "SZOBA_ID": "171",
                                    "ferohely": "2",
                                    "(No column name)": "65"
                                },
                                {
                                    "SZOBA_ID": "171",
                                    "ferohely": "2",
                                    "(No column name)": "65"
                                },
                                {
                                    "SZOBA_ID": "7",
                                    "ferohely": "2",
                                    "(No column name)": "65"
                                },
                                {
                                    "SZOBA_ID": "7",
                                    "ferohely": "2",
                                    "(No column name)": "65"
                                },
                                {
                                    "SZOBA_ID": "7",
                                    "ferohely": "2",
                                    "(No column name)": "65"
                                },
                                {
                                    "SZOBA_ID": "141",
                                    "ferohely": "2",
                                    "(No column name)": "65"
                                },
                                {
                                    "SZOBA_ID": "7",
                                    "ferohely": "2",
                                    "(No column name)": "65"
                                },
                                {
                                    "SZOBA_ID": "171",
                                    "ferohely": "2",
                                    "(No column name)": "65"
                                },
                                {
                                    "SZOBA_ID": "141",
                                    "ferohely": "2",
                                    "(No column name)": "65"
                                },
                                {
                                    "SZOBA_ID": "141",
                                    "ferohely": "2",
                                    "(No column name)": "65"
                                },
                                {
                                    "SZOBA_ID": "7",
                                    "ferohely": "2",
                                    "(No column name)": "65"
                                },
                                {
                                    "SZOBA_ID": "171",
                                    "ferohely": "2",
                                    "(No column name)": "65"
                                },
                                {
                                    "SZOBA_ID": "141",
                                    "ferohely": "2",
                                    "(No column name)": "65"
                                },
                                {
                                    "SZOBA_ID": "7",
                                    "ferohely": "2",
                                    "(No column name)": "65"
                                },
                                {
                                    "SZOBA_ID": "141",
                                    "ferohely": "2",
                                    "(No column name)": "65"
                                },
                                {
                                    "SZOBA_ID": "171",
                                    "ferohely": "2",
                                    "(No column name)": "65"
                                },
                                {
                                    "SZOBA_ID": "141",
                                    "ferohely": "2",
                                    "(No column name)": "65"
                                },
                                {
                                    "SZOBA_ID": "23",
                                    "ferohely": "2",
                                    "(No column name)": "65"
                                },
                                {
                                    "SZOBA_ID": "56",
                                    "ferohely": "2",
                                    "(No column name)": "65"
                                },
                                {
                                    "SZOBA_ID": "23",
                                    "ferohely": "2",
                                    "(No column name)": "65"
                                },
                                {
                                    "SZOBA_ID": "56",
                                    "ferohely": "2",
                                    "(No column name)": "65"
                                },
                                {
                                    "SZOBA_ID": "23",
                                    "ferohely": "2",
                                    "(No column name)": "65"
                                },
                                {
                                    "SZOBA_ID": "24",
                                    "ferohely": "4",
                                    "(No column name)": "66"
                                },
                                {
                                    "SZOBA_ID": "24",
                                    "ferohely": "4",
                                    "(No column name)": "66"
                                },
                                {
                                    "SZOBA_ID": "24",
                                    "ferohely": "4",
                                    "(No column name)": "66"
                                },
                                {
                                    "SZOBA_ID": "142",
                                    "ferohely": "3",
                                    "(No column name)": "67"
                                },
                                {
                                    "SZOBA_ID": "142",
                                    "ferohely": "3",
                                    "(No column name)": "67"
                                },
                                {
                                    "SZOBA_ID": "8",
                                    "ferohely": "3",
                                    "(No column name)": "67"
                                },
                                {
                                    "SZOBA_ID": "8",
                                    "ferohely": "3",
                                    "(No column name)": "67"
                                },
                                {
                                    "SZOBA_ID": "8",
                                    "ferohely": "3",
                                    "(No column name)": "67"
                                },
                                {
                                    "SZOBA_ID": "8",
                                    "ferohely": "3",
                                    "(No column name)": "67"
                                },
                                {
                                    "SZOBA_ID": "8",
                                    "ferohely": "3",
                                    "(No column name)": "67"
                                },
                                {
                                    "SZOBA_ID": "98",
                                    "ferohely": "2",
                                    "(No column name)": "68"
                                },
                                {
                                    "SZOBA_ID": "172",
                                    "ferohely": "2",
                                    "(No column name)": "68"
                                },
                                {
                                    "SZOBA_ID": "172",
                                    "ferohely": "2",
                                    "(No column name)": "68"
                                },
                                {
                                    "SZOBA_ID": "47",
                                    "ferohely": "2",
                                    "(No column name)": "68"
                                },
                                {
                                    "SZOBA_ID": "32",
                                    "ferohely": "2",
                                    "(No column name)": "68"
                                },
                                {
                                    "SZOBA_ID": "98",
                                    "ferohely": "2",
                                    "(No column name)": "68"
                                },
                                {
                                    "SZOBA_ID": "172",
                                    "ferohely": "2",
                                    "(No column name)": "68"
                                },
                                {
                                    "SZOBA_ID": "172",
                                    "ferohely": "2",
                                    "(No column name)": "68"
                                },
                                {
                                    "SZOBA_ID": "98",
                                    "ferohely": "2",
                                    "(No column name)": "68"
                                },
                                {
                                    "SZOBA_ID": "47",
                                    "ferohely": "2",
                                    "(No column name)": "68"
                                },
                                {
                                    "SZOBA_ID": "98",
                                    "ferohely": "2",
                                    "(No column name)": "68"
                                },
                                {
                                    "SZOBA_ID": "57",
                                    "ferohely": "2",
                                    "(No column name)": "68"
                                },
                                {
                                    "SZOBA_ID": "172",
                                    "ferohely": "2",
                                    "(No column name)": "68"
                                },
                                {
                                    "SZOBA_ID": "57",
                                    "ferohely": "2",
                                    "(No column name)": "68"
                                },
                                {
                                    "SZOBA_ID": "172",
                                    "ferohely": "2",
                                    "(No column name)": "68"
                                },
                                {
                                    "SZOBA_ID": "172",
                                    "ferohely": "2",
                                    "(No column name)": "68"
                                },
                                {
                                    "SZOBA_ID": "172",
                                    "ferohely": "2",
                                    "(No column name)": "68"
                                },
                                {
                                    "SZOBA_ID": "57",
                                    "ferohely": "2",
                                    "(No column name)": "68"
                                },
                                {
                                    "SZOBA_ID": "172",
                                    "ferohely": "2",
                                    "(No column name)": "68"
                                },
                                {
                                    "SZOBA_ID": "57",
                                    "ferohely": "2",
                                    "(No column name)": "68"
                                },
                                {
                                    "SZOBA_ID": "143",
                                    "ferohely": "3",
                                    "(No column name)": "69"
                                },
                                {
                                    "SZOBA_ID": "9",
                                    "ferohely": "3",
                                    "(No column name)": "69"
                                },
                                {
                                    "SZOBA_ID": "48",
                                    "ferohely": "3",
                                    "(No column name)": "69"
                                },
                                {
                                    "SZOBA_ID": "48",
                                    "ferohely": "3",
                                    "(No column name)": "69"
                                },
                                {
                                    "SZOBA_ID": "9",
                                    "ferohely": "3",
                                    "(No column name)": "69"
                                },
                                {
                                    "SZOBA_ID": "48",
                                    "ferohely": "3",
                                    "(No column name)": "69"
                                },
                                {
                                    "SZOBA_ID": "9",
                                    "ferohely": "3",
                                    "(No column name)": "69"
                                },
                                {
                                    "SZOBA_ID": "143",
                                    "ferohely": "3",
                                    "(No column name)": "69"
                                },
                                {
                                    "SZOBA_ID": "143",
                                    "ferohely": "3",
                                    "(No column name)": "69"
                                },
                                {
                                    "SZOBA_ID": "9",
                                    "ferohely": "3",
                                    "(No column name)": "69"
                                },
                                {
                                    "SZOBA_ID": "48",
                                    "ferohely": "3",
                                    "(No column name)": "69"
                                },
                                {
                                    "SZOBA_ID": "9",
                                    "ferohely": "3",
                                    "(No column name)": "69"
                                },
                                {
                                    "SZOBA_ID": "143",
                                    "ferohely": "3",
                                    "(No column name)": "69"
                                },
                                {
                                    "SZOBA_ID": "143",
                                    "ferohely": "3",
                                    "(No column name)": "69"
                                },
                                {
                                    "SZOBA_ID": "143",
                                    "ferohely": "3",
                                    "(No column name)": "69"
                                },
                                {
                                    "SZOBA_ID": "143",
                                    "ferohely": "3",
                                    "(No column name)": "69"
                                },
                                {
                                    "SZOBA_ID": "48",
                                    "ferohely": "3",
                                    "(No column name)": "69"
                                },
                                {
                                    "SZOBA_ID": "48",
                                    "ferohely": "3",
                                    "(No column name)": "69"
                                },
                                {
                                    "SZOBA_ID": "48",
                                    "ferohely": "3",
                                    "(No column name)": "69"
                                },
                                {
                                    "SZOBA_ID": "48",
                                    "ferohely": "3",
                                    "(No column name)": "69"
                                },
                                {
                                    "SZOBA_ID": "9",
                                    "ferohely": "3",
                                    "(No column name)": "69"
                                },
                                {
                                    "SZOBA_ID": "48",
                                    "ferohely": "3",
                                    "(No column name)": "69"
                                },
                                {
                                    "SZOBA_ID": "33",
                                    "ferohely": "2",
                                    "(No column name)": "70"
                                },
                                {
                                    "SZOBA_ID": "99",
                                    "ferohely": "2",
                                    "(No column name)": "70"
                                },
                                {
                                    "SZOBA_ID": "99",
                                    "ferohely": "2",
                                    "(No column name)": "70"
                                },
                                {
                                    "SZOBA_ID": "173",
                                    "ferohely": "2",
                                    "(No column name)": "70"
                                },
                                {
                                    "SZOBA_ID": "58",
                                    "ferohely": "2",
                                    "(No column name)": "70"
                                },
                                {
                                    "SZOBA_ID": "58",
                                    "ferohely": "2",
                                    "(No column name)": "70"
                                },
                                {
                                    "SZOBA_ID": "173",
                                    "ferohely": "2",
                                    "(No column name)": "70"
                                },
                                {
                                    "SZOBA_ID": "58",
                                    "ferohely": "2",
                                    "(No column name)": "70"
                                },
                                {
                                    "SZOBA_ID": "33",
                                    "ferohely": "2",
                                    "(No column name)": "70"
                                },
                                {
                                    "SZOBA_ID": "33",
                                    "ferohely": "2",
                                    "(No column name)": "70"
                                },
                                {
                                    "SZOBA_ID": "99",
                                    "ferohely": "2",
                                    "(No column name)": "70"
                                },
                                {
                                    "SZOBA_ID": "58",
                                    "ferohely": "2",
                                    "(No column name)": "70"
                                },
                                {
                                    "SZOBA_ID": "58",
                                    "ferohely": "2",
                                    "(No column name)": "70"
                                },
                                {
                                    "SZOBA_ID": "33",
                                    "ferohely": "2",
                                    "(No column name)": "70"
                                },
                                {
                                    "SZOBA_ID": "58",
                                    "ferohely": "2",
                                    "(No column name)": "70"
                                },
                                {
                                    "SZOBA_ID": "58",
                                    "ferohely": "2",
                                    "(No column name)": "70"
                                },
                                {
                                    "SZOBA_ID": "58",
                                    "ferohely": "2",
                                    "(No column name)": "70"
                                },
                                {
                                    "SZOBA_ID": "33",
                                    "ferohely": "2",
                                    "(No column name)": "70"
                                },
                                {
                                    "SZOBA_ID": "173",
                                    "ferohely": "2",
                                    "(No column name)": "70"
                                },
                                {
                                    "SZOBA_ID": "33",
                                    "ferohely": "2",
                                    "(No column name)": "70"
                                },
                                {
                                    "SZOBA_ID": "58",
                                    "ferohely": "2",
                                    "(No column name)": "70"
                                },
                                {
                                    "SZOBA_ID": "58",
                                    "ferohely": "2",
                                    "(No column name)": "70"
                                },
                                {
                                    "SZOBA_ID": "58",
                                    "ferohely": "2",
                                    "(No column name)": "70"
                                },
                                {
                                    "SZOBA_ID": "58",
                                    "ferohely": "2",
                                    "(No column name)": "70"
                                },
                                {
                                    "SZOBA_ID": "99",
                                    "ferohely": "2",
                                    "(No column name)": "70"
                                },
                                {
                                    "SZOBA_ID": "173",
                                    "ferohely": "2",
                                    "(No column name)": "70"
                                },
                                {
                                    "SZOBA_ID": "99",
                                    "ferohely": "2",
                                    "(No column name)": "70"
                                },
                                {
                                    "SZOBA_ID": "58",
                                    "ferohely": "2",
                                    "(No column name)": "70"
                                }
                            ]
                        },
                        "text/html": [
                            "<table>",
                            "<tr><th>SZOBA_ID</th><th>ferohely</th><th>(No column name)</th></tr>",
                            "<tr><td>17</td><td>3</td><td>1</td></tr>",
                            "<tr><td>1</td><td>3</td><td>1</td></tr>",
                            "<tr><td>17</td><td>3</td><td>1</td></tr>",
                            "<tr><td>160</td><td>3</td><td>1</td></tr>",
                            "<tr><td>135</td><td>3</td><td>1</td></tr>",
                            "<tr><td>1</td><td>3</td><td>1</td></tr>",
                            "<tr><td>17</td><td>3</td><td>1</td></tr>",
                            "<tr><td>13</td><td>3</td><td>1</td></tr>",
                            "<tr><td>1</td><td>3</td><td>1</td></tr>",
                            "<tr><td>135</td><td>3</td><td>1</td></tr>",
                            "<tr><td>17</td><td>3</td><td>1</td></tr>",
                            "<tr><td>160</td><td>3</td><td>1</td></tr>",
                            "<tr><td>160</td><td>3</td><td>1</td></tr>",
                            "<tr><td>40</td><td>3</td><td>1</td></tr>",
                            "<tr><td>160</td><td>3</td><td>1</td></tr>",
                            "<tr><td>40</td><td>3</td><td>1</td></tr>",
                            "<tr><td>1</td><td>3</td><td>1</td></tr>",
                            "<tr><td>40</td><td>3</td><td>1</td></tr>",
                            "<tr><td>13</td><td>3</td><td>1</td></tr>",
                            "<tr><td>25</td><td>3</td><td>1</td></tr>",
                            "<tr><td>40</td><td>3</td><td>1</td></tr>",
                            "<tr><td>1</td><td>3</td><td>1</td></tr>",
                            "<tr><td>1</td><td>3</td><td>1</td></tr>",
                            "<tr><td>1</td><td>3</td><td>1</td></tr>",
                            "<tr><td>135</td><td>3</td><td>1</td></tr>",
                            "<tr><td>17</td><td>3</td><td>1</td></tr>",
                            "<tr><td>1</td><td>3</td><td>1</td></tr>",
                            "<tr><td>13</td><td>3</td><td>1</td></tr>",
                            "<tr><td>25</td><td>3</td><td>1</td></tr>",
                            "<tr><td>13</td><td>3</td><td>1</td></tr>",
                            "<tr><td>17</td><td>3</td><td>1</td></tr>",
                            "<tr><td>160</td><td>3</td><td>1</td></tr>",
                            "<tr><td>130</td><td>2</td><td>2</td></tr>",
                            "<tr><td>85</td><td>2</td><td>2</td></tr>",
                            "<tr><td>165</td><td>2</td><td>2</td></tr>",
                            "<tr><td>91</td><td>2</td><td>2</td></tr>",
                            "<tr><td>85</td><td>2</td><td>2</td></tr>",
                            "<tr><td>50</td><td>2</td><td>2</td></tr>",
                            "<tr><td>165</td><td>2</td><td>2</td></tr>",
                            "<tr><td>91</td><td>2</td><td>2</td></tr>",
                            "<tr><td>50</td><td>2</td><td>2</td></tr>",
                            "<tr><td>85</td><td>2</td><td>2</td></tr>",
                            "<tr><td>50</td><td>2</td><td>2</td></tr>",
                            "<tr><td>130</td><td>2</td><td>2</td></tr>",
                            "<tr><td>130</td><td>2</td><td>2</td></tr>",
                            "<tr><td>165</td><td>2</td><td>2</td></tr>",
                            "<tr><td>165</td><td>2</td><td>2</td></tr>",
                            "<tr><td>165</td><td>2</td><td>2</td></tr>",
                            "<tr><td>165</td><td>2</td><td>2</td></tr>",
                            "<tr><td>130</td><td>2</td><td>2</td></tr>",
                            "<tr><td>50</td><td>2</td><td>2</td></tr>",
                            "<tr><td>91</td><td>2</td><td>2</td></tr>",
                            "<tr><td>130</td><td>2</td><td>2</td></tr>",
                            "<tr><td>130</td><td>2</td><td>2</td></tr>",
                            "<tr><td>91</td><td>2</td><td>2</td></tr>",
                            "<tr><td>165</td><td>2</td><td>2</td></tr>",
                            "<tr><td>85</td><td>2</td><td>2</td></tr>",
                            "<tr><td>144</td><td>3</td><td>3</td></tr>",
                            "<tr><td>10</td><td>3</td><td>3</td></tr>",
                            "<tr><td>10</td><td>3</td><td>3</td></tr>",
                            "<tr><td>49</td><td>3</td><td>3</td></tr>",
                            "<tr><td>10</td><td>3</td><td>3</td></tr>",
                            "<tr><td>34</td><td>3</td><td>3</td></tr>",
                            "<tr><td>34</td><td>3</td><td>3</td></tr>",
                            "<tr><td>49</td><td>3</td><td>3</td></tr>",
                            "<tr><td>34</td><td>3</td><td>3</td></tr>",
                            "<tr><td>49</td><td>3</td><td>3</td></tr>",
                            "<tr><td>34</td><td>3</td><td>3</td></tr>",
                            "<tr><td>49</td><td>3</td><td>3</td></tr>",
                            "<tr><td>144</td><td>3</td><td>3</td></tr>",
                            "<tr><td>49</td><td>3</td><td>3</td></tr>",
                            "<tr><td>144</td><td>3</td><td>3</td></tr>",
                            "<tr><td>49</td><td>3</td><td>3</td></tr>",
                            "<tr><td>10</td><td>3</td><td>3</td></tr>",
                            "<tr><td>144</td><td>3</td><td>3</td></tr>",
                            "<tr><td>49</td><td>3</td><td>3</td></tr>",
                            "<tr><td>144</td><td>3</td><td>3</td></tr>",
                            "<tr><td>59</td><td>2</td><td>4</td></tr>",
                            "<tr><td>100</td><td>2</td><td>4</td></tr>",
                            "<tr><td>100</td><td>2</td><td>4</td></tr>",
                            "<tr><td>174</td><td>2</td><td>4</td></tr>",
                            "<tr><td>59</td><td>2</td><td>4</td></tr>",
                            "<tr><td>59</td><td>2</td><td>4</td></tr>",
                            "<tr><td>59</td><td>2</td><td>4</td></tr>",
                            "<tr><td>59</td><td>2</td><td>4</td></tr>",
                            "<tr><td>59</td><td>2</td><td>4</td></tr>",
                            "<tr><td>59</td><td>2</td><td>4</td></tr>",
                            "<tr><td>174</td><td>2</td><td>4</td></tr>",
                            "<tr><td>174</td><td>2</td><td>4</td></tr>",
                            "<tr><td>100</td><td>2</td><td>4</td></tr>",
                            "<tr><td>100</td><td>2</td><td>4</td></tr>",
                            "<tr><td>174</td><td>2</td><td>4</td></tr>",
                            "<tr><td>35</td><td>3</td><td>5</td></tr>",
                            "<tr><td>60</td><td>3</td><td>5</td></tr>",
                            "<tr><td>35</td><td>3</td><td>5</td></tr>",
                            "<tr><td>35</td><td>3</td><td>5</td></tr>",
                            "<tr><td>35</td><td>3</td><td>5</td></tr>",
                            "<tr><td>35</td><td>3</td><td>5</td></tr>",
                            "<tr><td>35</td><td>3</td><td>5</td></tr>",
                            "<tr><td>35</td><td>3</td><td>5</td></tr>",
                            "<tr><td>35</td><td>3</td><td>5</td></tr>",
                            "<tr><td>35</td><td>3</td><td>5</td></tr>",
                            "<tr><td>175</td><td>2</td><td>6</td></tr>",
                            "<tr><td>145</td><td>2</td><td>6</td></tr>",
                            "<tr><td>101</td><td>2</td><td>6</td></tr>",
                            "<tr><td>11</td><td>2</td><td>6</td></tr>",
                            "<tr><td>145</td><td>2</td><td>6</td></tr>",
                            "<tr><td>175</td><td>2</td><td>6</td></tr>",
                            "<tr><td>145</td><td>2</td><td>6</td></tr>",
                            "<tr><td>11</td><td>2</td><td>6</td></tr>",
                            "<tr><td>11</td><td>2</td><td>6</td></tr>",
                            "<tr><td>101</td><td>2</td><td>6</td></tr>",
                            "<tr><td>145</td><td>2</td><td>6</td></tr>",
                            "<tr><td>145</td><td>2</td><td>6</td></tr>",
                            "<tr><td>175</td><td>2</td><td>6</td></tr>",
                            "<tr><td>11</td><td>2</td><td>6</td></tr>",
                            "<tr><td>175</td><td>2</td><td>6</td></tr>",
                            "<tr><td>145</td><td>2</td><td>6</td></tr>",
                            "<tr><td>101</td><td>2</td><td>6</td></tr>",
                            "<tr><td>175</td><td>2</td><td>6</td></tr>",
                            "<tr><td>146</td><td>3</td><td>7</td></tr>",
                            "<tr><td>146</td><td>3</td><td>7</td></tr>",
                            "<tr><td>61</td><td>3</td><td>7</td></tr>",
                            "<tr><td>36</td><td>3</td><td>7</td></tr>",
                            "<tr><td>36</td><td>3</td><td>7</td></tr>",
                            "<tr><td>61</td><td>3</td><td>7</td></tr>",
                            "<tr><td>146</td><td>3</td><td>7</td></tr>",
                            "<tr><td>176</td><td>3</td><td>7</td></tr>",
                            "<tr><td>36</td><td>3</td><td>7</td></tr>",
                            "<tr><td>146</td><td>3</td><td>7</td></tr>",
                            "<tr><td>36</td><td>3</td><td>7</td></tr>",
                            "<tr><td>36</td><td>3</td><td>7</td></tr>",
                            "<tr><td>36</td><td>3</td><td>7</td></tr>",
                            "<tr><td>146</td><td>3</td><td>7</td></tr>",
                            "<tr><td>176</td><td>3</td><td>7</td></tr>",
                            "<tr><td>176</td><td>3</td><td>7</td></tr>",
                            "<tr><td>61</td><td>3</td><td>7</td></tr>",
                            "<tr><td>176</td><td>3</td><td>7</td></tr>",
                            "<tr><td>61</td><td>3</td><td>7</td></tr>",
                            "<tr><td>176</td><td>3</td><td>7</td></tr>",
                            "<tr><td>146</td><td>3</td><td>7</td></tr>",
                            "<tr><td>61</td><td>3</td><td>7</td></tr>",
                            "<tr><td>176</td><td>3</td><td>7</td></tr>",
                            "<tr><td>12</td><td>2</td><td>8</td></tr>",
                            "<tr><td>12</td><td>2</td><td>8</td></tr>",
                            "<tr><td>12</td><td>2</td><td>8</td></tr>",
                            "<tr><td>102</td><td>2</td><td>8</td></tr>",
                            "<tr><td>12</td><td>2</td><td>8</td></tr>",
                            "<tr><td>12</td><td>2</td><td>8</td></tr>",
                            "<tr><td>12</td><td>2</td><td>8</td></tr>",
                            "<tr><td>12</td><td>2</td><td>8</td></tr>",
                            "<tr><td>102</td><td>2</td><td>8</td></tr>",
                            "<tr><td>12</td><td>2</td><td>8</td></tr>",
                            "<tr><td>12</td><td>2</td><td>8</td></tr>",
                            "<tr><td>177</td><td>3</td><td>9</td></tr>",
                            "<tr><td>177</td><td>3</td><td>9</td></tr>",
                            "<tr><td>177</td><td>3</td><td>9</td></tr>",
                            "<tr><td>177</td><td>3</td><td>9</td></tr>",
                            "<tr><td>103</td><td>2</td><td>10</td></tr>",
                            "<tr><td>62</td><td>2</td><td>10</td></tr>",
                            "<tr><td>37</td><td>2</td><td>10</td></tr>",
                            "<tr><td>103</td><td>2</td><td>10</td></tr>",
                            "<tr><td>147</td><td>2</td><td>10</td></tr>",
                            "<tr><td>62</td><td>2</td><td>10</td></tr>",
                            "<tr><td>37</td><td>2</td><td>10</td></tr>",
                            "<tr><td>37</td><td>2</td><td>10</td></tr>",
                            "<tr><td>103</td><td>2</td><td>10</td></tr>",
                            "<tr><td>62</td><td>2</td><td>10</td></tr>",
                            "<tr><td>62</td><td>2</td><td>10</td></tr>",
                            "<tr><td>103</td><td>2</td><td>10</td></tr>",
                            "<tr><td>62</td><td>2</td><td>10</td></tr>",
                            "<tr><td>178</td><td>3</td><td>11</td></tr>",
                            "<tr><td>104</td><td>3</td><td>11</td></tr>",
                            "<tr><td>178</td><td>3</td><td>11</td></tr>",
                            "<tr><td>104</td><td>3</td><td>11</td></tr>",
                            "<tr><td>178</td><td>3</td><td>11</td></tr>",
                            "<tr><td>178</td><td>3</td><td>11</td></tr>",
                            "<tr><td>104</td><td>3</td><td>11</td></tr>",
                            "<tr><td>104</td><td>3</td><td>11</td></tr>",
                            "<tr><td>38</td><td>2</td><td>12</td></tr>",
                            "<tr><td>38</td><td>2</td><td>12</td></tr>",
                            "<tr><td>148</td><td>2</td><td>12</td></tr>",
                            "<tr><td>38</td><td>2</td><td>12</td></tr>",
                            "<tr><td>38</td><td>2</td><td>12</td></tr>",
                            "<tr><td>148</td><td>2</td><td>12</td></tr>",
                            "<tr><td>148</td><td>2</td><td>12</td></tr>",
                            "<tr><td>63</td><td>2</td><td>12</td></tr>",
                            "<tr><td>148</td><td>2</td><td>12</td></tr>",
                            "<tr><td>148</td><td>2</td><td>12</td></tr>",
                            "<tr><td>148</td><td>2</td><td>12</td></tr>",
                            "<tr><td>38</td><td>2</td><td>12</td></tr>",
                            "<tr><td>63</td><td>2</td><td>12</td></tr>",
                            "<tr><td>63</td><td>2</td><td>12</td></tr>",
                            "<tr><td>63</td><td>2</td><td>12</td></tr>",
                            "<tr><td>38</td><td>2</td><td>12</td></tr>",
                            "<tr><td>38</td><td>2</td><td>12</td></tr>",
                            "<tr><td>38</td><td>2</td><td>12</td></tr>",
                            "<tr><td>179</td><td>3</td><td>13</td></tr>",
                            "<tr><td>179</td><td>3</td><td>13</td></tr>",
                            "<tr><td>179</td><td>3</td><td>13</td></tr>",
                            "<tr><td>39</td><td>2</td><td>14</td></tr>",
                            "<tr><td>105</td><td>2</td><td>14</td></tr>",
                            "<tr><td>149</td><td>2</td><td>14</td></tr>",
                            "<tr><td>39</td><td>2</td><td>14</td></tr>",
                            "<tr><td>64</td><td>2</td><td>14</td></tr>",
                            "<tr><td>64</td><td>2</td><td>14</td></tr>",
                            "<tr><td>39</td><td>2</td><td>14</td></tr>",
                            "<tr><td>64</td><td>2</td><td>14</td></tr>",
                            "<tr><td>39</td><td>2</td><td>14</td></tr>",
                            "<tr><td>64</td><td>2</td><td>14</td></tr>",
                            "<tr><td>39</td><td>2</td><td>14</td></tr>",
                            "<tr><td>149</td><td>2</td><td>14</td></tr>",
                            "<tr><td>64</td><td>2</td><td>14</td></tr>",
                            "<tr><td>149</td><td>2</td><td>14</td></tr>",
                            "<tr><td>105</td><td>2</td><td>14</td></tr>",
                            "<tr><td>39</td><td>2</td><td>14</td></tr>",
                            "<tr><td>149</td><td>2</td><td>14</td></tr>",
                            "<tr><td>149</td><td>2</td><td>14</td></tr>",
                            "<tr><td>149</td><td>2</td><td>14</td></tr>",
                            "<tr><td>39</td><td>2</td><td>14</td></tr>",
                            "<tr><td>64</td><td>2</td><td>14</td></tr>",
                            "<tr><td>149</td><td>2</td><td>14</td></tr>",
                            "<tr><td>180</td><td>2</td><td>15</td></tr>",
                            "<tr><td>150</td><td>2</td><td>15</td></tr>",
                            "<tr><td>150</td><td>2</td><td>15</td></tr>",
                            "<tr><td>106</td><td>2</td><td>15</td></tr>",
                            "<tr><td>106</td><td>2</td><td>15</td></tr>",
                            "<tr><td>65</td><td>2</td><td>15</td></tr>",
                            "<tr><td>150</td><td>2</td><td>15</td></tr>",
                            "<tr><td>150</td><td>2</td><td>15</td></tr>",
                            "<tr><td>150</td><td>2</td><td>15</td></tr>",
                            "<tr><td>106</td><td>2</td><td>15</td></tr>",
                            "<tr><td>106</td><td>2</td><td>15</td></tr>",
                            "<tr><td>106</td><td>2</td><td>15</td></tr>",
                            "<tr><td>180</td><td>2</td><td>15</td></tr>",
                            "<tr><td>180</td><td>2</td><td>15</td></tr>",
                            "<tr><td>150</td><td>2</td><td>15</td></tr>",
                            "<tr><td>106</td><td>2</td><td>15</td></tr>",
                            "<tr><td>66</td><td>3</td><td>16</td></tr>",
                            "<tr><td>181</td><td>3</td><td>16</td></tr>",
                            "<tr><td>66</td><td>3</td><td>16</td></tr>",
                            "<tr><td>181</td><td>3</td><td>16</td></tr>",
                            "<tr><td>181</td><td>3</td><td>16</td></tr>",
                            "<tr><td>66</td><td>3</td><td>16</td></tr>",
                            "<tr><td>181</td><td>3</td><td>16</td></tr>",
                            "<tr><td>181</td><td>3</td><td>16</td></tr>",
                            "<tr><td>181</td><td>3</td><td>16</td></tr>",
                            "<tr><td>66</td><td>3</td><td>16</td></tr>",
                            "<tr><td>151</td><td>2</td><td>17</td></tr>",
                            "<tr><td>151</td><td>2</td><td>17</td></tr>",
                            "<tr><td>151</td><td>2</td><td>17</td></tr>",
                            "<tr><td>107</td><td>2</td><td>17</td></tr>",
                            "<tr><td>107</td><td>2</td><td>17</td></tr>",
                            "<tr><td>107</td><td>2</td><td>17</td></tr>",
                            "<tr><td>107</td><td>2</td><td>17</td></tr>",
                            "<tr><td>107</td><td>2</td><td>17</td></tr>",
                            "<tr><td>182</td><td>2</td><td>18</td></tr>",
                            "<tr><td>182</td><td>2</td><td>18</td></tr>",
                            "<tr><td>152</td><td>2</td><td>18</td></tr>",
                            "<tr><td>67</td><td>2</td><td>18</td></tr>",
                            "<tr><td>67</td><td>2</td><td>18</td></tr>",
                            "<tr><td>108</td><td>2</td><td>18</td></tr>",
                            "<tr><td>67</td><td>2</td><td>18</td></tr>",
                            "<tr><td>182</td><td>2</td><td>18</td></tr>",
                            "<tr><td>182</td><td>2</td><td>18</td></tr>",
                            "<tr><td>182</td><td>2</td><td>18</td></tr>",
                            "<tr><td>182</td><td>2</td><td>18</td></tr>",
                            "<tr><td>182</td><td>2</td><td>18</td></tr>",
                            "<tr><td>152</td><td>2</td><td>18</td></tr>",
                            "<tr><td>182</td><td>2</td><td>18</td></tr>",
                            "<tr><td>152</td><td>2</td><td>18</td></tr>",
                            "<tr><td>182</td><td>2</td><td>18</td></tr>",
                            "<tr><td>67</td><td>2</td><td>18</td></tr>",
                            "<tr><td>67</td><td>2</td><td>18</td></tr>",
                            "<tr><td>182</td><td>2</td><td>18</td></tr>",
                            "<tr><td>152</td><td>2</td><td>18</td></tr>",
                            "<tr><td>108</td><td>2</td><td>18</td></tr>",
                            "<tr><td>182</td><td>2</td><td>18</td></tr>",
                            "<tr><td>67</td><td>2</td><td>18</td></tr>",
                            "<tr><td>182</td><td>2</td><td>18</td></tr>",
                            "<tr><td>183</td><td>3</td><td>19</td></tr>",
                            "<tr><td>153</td><td>3</td><td>19</td></tr>",
                            "<tr><td>183</td><td>3</td><td>19</td></tr>",
                            "<tr><td>153</td><td>3</td><td>19</td></tr>",
                            "<tr><td>183</td><td>3</td><td>19</td></tr>",
                            "<tr><td>183</td><td>3</td><td>19</td></tr>",
                            "<tr><td>153</td><td>3</td><td>19</td></tr>",
                            "<tr><td>153</td><td>3</td><td>19</td></tr>",
                            "<tr><td>153</td><td>3</td><td>19</td></tr>",
                            "<tr><td>109</td><td>2</td><td>20</td></tr>",
                            "<tr><td>109</td><td>2</td><td>20</td></tr>",
                            "<tr><td>68</td><td>2</td><td>20</td></tr>",
                            "<tr><td>109</td><td>2</td><td>20</td></tr>",
                            "<tr><td>109</td><td>2</td><td>20</td></tr>",
                            "<tr><td>68</td><td>2</td><td>20</td></tr>",
                            "<tr><td>109</td><td>2</td><td>20</td></tr>",
                            "<tr><td>109</td><td>2</td><td>20</td></tr>",
                            "<tr><td>109</td><td>2</td><td>20</td></tr>",
                            "<tr><td>68</td><td>2</td><td>20</td></tr>",
                            "<tr><td>92</td><td>3</td><td>21</td></tr>",
                            "<tr><td>18</td><td>3</td><td>21</td></tr>",
                            "<tr><td>2</td><td>3</td><td>21</td></tr>",
                            "<tr><td>2</td><td>3</td><td>21</td></tr>",
                            "<tr><td>41</td><td>3</td><td>21</td></tr>",
                            "<tr><td>92</td><td>3</td><td>21</td></tr>",
                            "<tr><td>92</td><td>3</td><td>21</td></tr>",
                            "<tr><td>51</td><td>3</td><td>21</td></tr>",
                            "<tr><td>51</td><td>3</td><td>21</td></tr>",
                            "<tr><td>92</td><td>3</td><td>21</td></tr>",
                            "<tr><td>14</td><td>3</td><td>21</td></tr>",
                            "<tr><td>2</td><td>3</td><td>21</td></tr>",
                            "<tr><td>18</td><td>3</td><td>21</td></tr>",
                            "<tr><td>14</td><td>3</td><td>21</td></tr>",
                            "<tr><td>18</td><td>3</td><td>21</td></tr>",
                            "<tr><td>2</td><td>3</td><td>21</td></tr>",
                            "<tr><td>41</td><td>3</td><td>21</td></tr>",
                            "<tr><td>51</td><td>3</td><td>21</td></tr>",
                            "<tr><td>18</td><td>3</td><td>21</td></tr>",
                            "<tr><td>18</td><td>3</td><td>21</td></tr>",
                            "<tr><td>92</td><td>3</td><td>21</td></tr>",
                            "<tr><td>51</td><td>3</td><td>21</td></tr>",
                            "<tr><td>18</td><td>3</td><td>21</td></tr>",
                            "<tr><td>51</td><td>3</td><td>21</td></tr>",
                            "<tr><td>92</td><td>3</td><td>21</td></tr>",
                            "<tr><td>14</td><td>3</td><td>21</td></tr>",
                            "<tr><td>166</td><td>2</td><td>22</td></tr>",
                            "<tr><td>131</td><td>2</td><td>22</td></tr>",
                            "<tr><td>86</td><td>2</td><td>22</td></tr>",
                            "<tr><td>161</td><td>2</td><td>22</td></tr>",
                            "<tr><td>161</td><td>2</td><td>22</td></tr>",
                            "<tr><td>26</td><td>2</td><td>22</td></tr>",
                            "<tr><td>26</td><td>2</td><td>22</td></tr>",
                            "<tr><td>131</td><td>2</td><td>22</td></tr>",
                            "<tr><td>136</td><td>2</td><td>22</td></tr>",
                            "<tr><td>131</td><td>2</td><td>22</td></tr>",
                            "<tr><td>166</td><td>2</td><td>22</td></tr>",
                            "<tr><td>136</td><td>2</td><td>22</td></tr>",
                            "<tr><td>161</td><td>2</td><td>22</td></tr>",
                            "<tr><td>161</td><td>2</td><td>22</td></tr>",
                            "<tr><td>131</td><td>2</td><td>22</td></tr>",
                            "<tr><td>166</td><td>2</td><td>22</td></tr>",
                            "<tr><td>86</td><td>2</td><td>22</td></tr>",
                            "<tr><td>131</td><td>2</td><td>22</td></tr>",
                            "<tr><td>161</td><td>2</td><td>22</td></tr>",
                            "<tr><td>86</td><td>2</td><td>22</td></tr>",
                            "<tr><td>161</td><td>2</td><td>22</td></tr>",
                            "<tr><td>86</td><td>2</td><td>22</td></tr>",
                            "<tr><td>86</td><td>2</td><td>22</td></tr>",
                            "<tr><td>136</td><td>2</td><td>22</td></tr>",
                            "<tr><td>69</td><td>3</td><td>23</td></tr>",
                            "<tr><td>69</td><td>3</td><td>23</td></tr>",
                            "<tr><td>69</td><td>3</td><td>23</td></tr>",
                            "<tr><td>69</td><td>3</td><td>23</td></tr>",
                            "<tr><td>184</td><td>2</td><td>24</td></tr>",
                            "<tr><td>154</td><td>2</td><td>24</td></tr>",
                            "<tr><td>110</td><td>2</td><td>24</td></tr>",
                            "<tr><td>154</td><td>2</td><td>24</td></tr>",
                            "<tr><td>110</td><td>2</td><td>24</td></tr>",
                            "<tr><td>154</td><td>2</td><td>24</td></tr>",
                            "<tr><td>110</td><td>2</td><td>24</td></tr>",
                            "<tr><td>184</td><td>2</td><td>24</td></tr>",
                            "<tr><td>110</td><td>2</td><td>24</td></tr>",
                            "<tr><td>110</td><td>2</td><td>24</td></tr>",
                            "<tr><td>154</td><td>2</td><td>24</td></tr>",
                            "<tr><td>154</td><td>2</td><td>24</td></tr>",
                            "<tr><td>110</td><td>2</td><td>24</td></tr>",
                            "<tr><td>110</td><td>2</td><td>24</td></tr>",
                            "<tr><td>184</td><td>2</td><td>24</td></tr>",
                            "<tr><td>110</td><td>2</td><td>24</td></tr>",
                            "<tr><td>184</td><td>2</td><td>24</td></tr>",
                            "<tr><td>155</td><td>3</td><td>25</td></tr>",
                            "<tr><td>155</td><td>3</td><td>25</td></tr>",
                            "<tr><td>185</td><td>3</td><td>25</td></tr>",
                            "<tr><td>185</td><td>3</td><td>25</td></tr>",
                            "<tr><td>185</td><td>3</td><td>25</td></tr>",
                            "<tr><td>185</td><td>3</td><td>25</td></tr>",
                            "<tr><td>185</td><td>3</td><td>25</td></tr>",
                            "<tr><td>155</td><td>3</td><td>25</td></tr>",
                            "<tr><td>185</td><td>3</td><td>25</td></tr>",
                            "<tr><td>185</td><td>3</td><td>25</td></tr>",
                            "<tr><td>185</td><td>3</td><td>25</td></tr>",
                            "<tr><td>185</td><td>3</td><td>25</td></tr>",
                            "<tr><td>185</td><td>3</td><td>25</td></tr>",
                            "<tr><td>155</td><td>3</td><td>25</td></tr>",
                            "<tr><td>185</td><td>3</td><td>25</td></tr>",
                            "<tr><td>185</td><td>3</td><td>25</td></tr>",
                            "<tr><td>155</td><td>3</td><td>25</td></tr>",
                            "<tr><td>70</td><td>2</td><td>26</td></tr>",
                            "<tr><td>70</td><td>2</td><td>26</td></tr>",
                            "<tr><td>111</td><td>2</td><td>26</td></tr>",
                            "<tr><td>111</td><td>2</td><td>26</td></tr>",
                            "<tr><td>70</td><td>2</td><td>26</td></tr>",
                            "<tr><td>70</td><td>2</td><td>26</td></tr>",
                            "<tr><td>70</td><td>2</td><td>26</td></tr>",
                            "<tr><td>70</td><td>2</td><td>26</td></tr>",
                            "<tr><td>111</td><td>2</td><td>26</td></tr>",
                            "<tr><td>70</td><td>2</td><td>26</td></tr>",
                            "<tr><td>70</td><td>2</td><td>26</td></tr>",
                            "<tr><td>70</td><td>2</td><td>26</td></tr>",
                            "<tr><td>111</td><td>2</td><td>26</td></tr>",
                            "<tr><td>70</td><td>2</td><td>26</td></tr>",
                            "<tr><td>70</td><td>2</td><td>26</td></tr>",
                            "<tr><td>111</td><td>2</td><td>26</td></tr>",
                            "<tr><td>71</td><td>3</td><td>27</td></tr>",
                            "<tr><td>112</td><td>3</td><td>27</td></tr>",
                            "<tr><td>112</td><td>3</td><td>27</td></tr>",
                            "<tr><td>71</td><td>3</td><td>27</td></tr>",
                            "<tr><td>71</td><td>3</td><td>27</td></tr>",
                            "<tr><td>112</td><td>3</td><td>27</td></tr>",
                            "<tr><td>112</td><td>3</td><td>27</td></tr>",
                            "<tr><td>112</td><td>3</td><td>27</td></tr>",
                            "<tr><td>186</td><td>2</td><td>28</td></tr>",
                            "<tr><td>186</td><td>2</td><td>28</td></tr>",
                            "<tr><td>156</td><td>2</td><td>28</td></tr>",
                            "<tr><td>156</td><td>2</td><td>28</td></tr>",
                            "<tr><td>186</td><td>2</td><td>28</td></tr>",
                            "<tr><td>156</td><td>2</td><td>28</td></tr>",
                            "<tr><td>156</td><td>2</td><td>28</td></tr>",
                            "<tr><td>156</td><td>2</td><td>28</td></tr>",
                            "<tr><td>156</td><td>2</td><td>28</td></tr>",
                            "<tr><td>186</td><td>2</td><td>28</td></tr>",
                            "<tr><td>156</td><td>2</td><td>28</td></tr>",
                            "<tr><td>187</td><td>3</td><td>29</td></tr>",
                            "<tr><td>187</td><td>3</td><td>29</td></tr>",
                            "<tr><td>187</td><td>3</td><td>29</td></tr>",
                            "<tr><td>187</td><td>3</td><td>29</td></tr>",
                            "<tr><td>187</td><td>3</td><td>29</td></tr>",
                            "<tr><td>187</td><td>3</td><td>29</td></tr>",
                            "<tr><td>113</td><td>3</td><td>29</td></tr>",
                            "<tr><td>113</td><td>3</td><td>29</td></tr>",
                            "<tr><td>187</td><td>3</td><td>29</td></tr>",
                            "<tr><td>113</td><td>3</td><td>29</td></tr>",
                            "<tr><td>113</td><td>3</td><td>29</td></tr>",
                            "<tr><td>113</td><td>3</td><td>29</td></tr>",
                            "<tr><td>157</td><td>2</td><td>30</td></tr>",
                            "<tr><td>72</td><td>2</td><td>30</td></tr>",
                            "<tr><td>72</td><td>2</td><td>30</td></tr>",
                            "<tr><td>157</td><td>2</td><td>30</td></tr>",
                            "<tr><td>157</td><td>2</td><td>30</td></tr>",
                            "<tr><td>157</td><td>2</td><td>30</td></tr>",
                            "<tr><td>72</td><td>2</td><td>30</td></tr>",
                            "<tr><td>72</td><td>2</td><td>30</td></tr>",
                            "<tr><td>157</td><td>2</td><td>30</td></tr>",
                            "<tr><td>188</td><td>3</td><td>31</td></tr>",
                            "<tr><td>188</td><td>3</td><td>31</td></tr>",
                            "<tr><td>188</td><td>3</td><td>31</td></tr>",
                            "<tr><td>188</td><td>3</td><td>31</td></tr>",
                            "<tr><td>188</td><td>3</td><td>31</td></tr>",
                            "<tr><td>188</td><td>3</td><td>31</td></tr>",
                            "<tr><td>73</td><td>2</td><td>32</td></tr>",
                            "<tr><td>73</td><td>2</td><td>32</td></tr>",
                            "<tr><td>114</td><td>2</td><td>32</td></tr>",
                            "<tr><td>73</td><td>2</td><td>32</td></tr>",
                            "<tr><td>158</td><td>2</td><td>32</td></tr>",
                            "<tr><td>114</td><td>2</td><td>32</td></tr>",
                            "<tr><td>158</td><td>2</td><td>32</td></tr>",
                            "<tr><td>73</td><td>2</td><td>32</td></tr>",
                            "<tr><td>114</td><td>2</td><td>32</td></tr>",
                            "<tr><td>158</td><td>2</td><td>32</td></tr>",
                            "<tr><td>114</td><td>2</td><td>32</td></tr>",
                            "<tr><td>74</td><td>3</td><td>33</td></tr>",
                            "<tr><td>74</td><td>3</td><td>33</td></tr>",
                            "<tr><td>74</td><td>3</td><td>33</td></tr>",
                            "<tr><td>115</td><td>3</td><td>33</td></tr>",
                            "<tr><td>74</td><td>3</td><td>33</td></tr>",
                            "<tr><td>74</td><td>3</td><td>33</td></tr>",
                            "<tr><td>74</td><td>3</td><td>33</td></tr>",
                            "<tr><td>115</td><td>3</td><td>33</td></tr>",
                            "<tr><td>74</td><td>3</td><td>33</td></tr>",
                            "<tr><td>74</td><td>3</td><td>33</td></tr>",
                            "<tr><td>115</td><td>3</td><td>33</td></tr>",
                            "<tr><td>115</td><td>3</td><td>33</td></tr>",
                            "<tr><td>74</td><td>3</td><td>33</td></tr>",
                            "<tr><td>115</td><td>3</td><td>33</td></tr>",
                            "<tr><td>115</td><td>3</td><td>33</td></tr>",
                            "<tr><td>115</td><td>3</td><td>33</td></tr>",
                            "<tr><td>189</td><td>2</td><td>34</td></tr>",
                            "<tr><td>189</td><td>2</td><td>34</td></tr>",
                            "<tr><td>189</td><td>2</td><td>34</td></tr>",
                            "<tr><td>189</td><td>2</td><td>34</td></tr>",
                            "<tr><td>189</td><td>2</td><td>34</td></tr>",
                            "<tr><td>116</td><td>3</td><td>35</td></tr>",
                            "<tr><td>116</td><td>3</td><td>35</td></tr>",
                            "<tr><td>190</td><td>2</td><td>36</td></tr>",
                            "<tr><td>75</td><td>2</td><td>36</td></tr>",
                            "<tr><td>75</td><td>2</td><td>36</td></tr>",
                            "<tr><td>190</td><td>2</td><td>36</td></tr>",
                            "<tr><td>190</td><td>2</td><td>36</td></tr>",
                            "<tr><td>190</td><td>2</td><td>36</td></tr>",
                            "<tr><td>190</td><td>2</td><td>36</td></tr>",
                            "<tr><td>75</td><td>2</td><td>36</td></tr>",
                            "<tr><td>117</td><td>3</td><td>37</td></tr>",
                            "<tr><td>117</td><td>3</td><td>37</td></tr>",
                            "<tr><td>117</td><td>3</td><td>37</td></tr>",
                            "<tr><td>117</td><td>3</td><td>37</td></tr>",
                            "<tr><td>117</td><td>3</td><td>37</td></tr>",
                            "<tr><td>117</td><td>3</td><td>37</td></tr>",
                            "<tr><td>117</td><td>3</td><td>37</td></tr>",
                            "<tr><td>117</td><td>3</td><td>37</td></tr>",
                            "<tr><td>191</td><td>2</td><td>38</td></tr>",
                            "<tr><td>191</td><td>2</td><td>38</td></tr>",
                            "<tr><td>191</td><td>2</td><td>38</td></tr>",
                            "<tr><td>191</td><td>2</td><td>38</td></tr>",
                            "<tr><td>76</td><td>2</td><td>38</td></tr>",
                            "<tr><td>76</td><td>2</td><td>38</td></tr>",
                            "<tr><td>76</td><td>2</td><td>38</td></tr>",
                            "<tr><td>191</td><td>2</td><td>38</td></tr>",
                            "<tr><td>77</td><td>3</td><td>39</td></tr>",
                            "<tr><td>77</td><td>3</td><td>39</td></tr>",
                            "<tr><td>77</td><td>3</td><td>39</td></tr>",
                            "<tr><td>77</td><td>3</td><td>39</td></tr>",
                            "<tr><td>77</td><td>3</td><td>39</td></tr>",
                            "<tr><td>77</td><td>3</td><td>39</td></tr>",
                            "<tr><td>118</td><td>2</td><td>40</td></tr>",
                            "<tr><td>118</td><td>2</td><td>40</td></tr>",
                            "<tr><td>118</td><td>2</td><td>40</td></tr>",
                            "<tr><td>118</td><td>2</td><td>40</td></tr>",
                            "<tr><td>192</td><td>2</td><td>40</td></tr>",
                            "<tr><td>118</td><td>2</td><td>40</td></tr>",
                            "<tr><td>118</td><td>2</td><td>40</td></tr>",
                            "<tr><td>192</td><td>2</td><td>40</td></tr>",
                            "<tr><td>118</td><td>2</td><td>40</td></tr>",
                            "<tr><td>193</td><td>3</td><td>41</td></tr>",
                            "<tr><td>193</td><td>3</td><td>41</td></tr>",
                            "<tr><td>193</td><td>3</td><td>41</td></tr>",
                            "<tr><td>193</td><td>3</td><td>41</td></tr>",
                            "<tr><td>193</td><td>3</td><td>41</td></tr>",
                            "<tr><td>193</td><td>3</td><td>41</td></tr>",
                            "<tr><td>193</td><td>3</td><td>41</td></tr>",
                            "<tr><td>78</td><td>2</td><td>42</td></tr>",
                            "<tr><td>78</td><td>2</td><td>42</td></tr>",
                            "<tr><td>119</td><td>2</td><td>42</td></tr>",
                            "<tr><td>119</td><td>2</td><td>42</td></tr>",
                            "<tr><td>78</td><td>2</td><td>42</td></tr>",
                            "<tr><td>119</td><td>2</td><td>42</td></tr>",
                            "<tr><td>78</td><td>2</td><td>42</td></tr>",
                            "<tr><td>119</td><td>2</td><td>42</td></tr>",
                            "<tr><td>78</td><td>2</td><td>42</td></tr>",
                            "<tr><td>78</td><td>2</td><td>42</td></tr>",
                            "<tr><td>119</td><td>2</td><td>42</td></tr>",
                            "<tr><td>27</td><td>3</td><td>43</td></tr>",
                            "<tr><td>3</td><td>3</td><td>43</td></tr>",
                            "<tr><td>132</td><td>3</td><td>43</td></tr>",
                            "<tr><td>3</td><td>3</td><td>43</td></tr>",
                            "<tr><td>132</td><td>3</td><td>43</td></tr>",
                            "<tr><td>132</td><td>3</td><td>43</td></tr>",
                            "<tr><td>87</td><td>3</td><td>43</td></tr>",
                            "<tr><td>27</td><td>3</td><td>43</td></tr>",
                            "<tr><td>167</td><td>3</td><td>43</td></tr>",
                            "<tr><td>87</td><td>3</td><td>43</td></tr>",
                            "<tr><td>87</td><td>3</td><td>43</td></tr>",
                            "<tr><td>162</td><td>3</td><td>43</td></tr>",
                            "<tr><td>132</td><td>3</td><td>43</td></tr>",
                            "<tr><td>3</td><td>3</td><td>43</td></tr>",
                            "<tr><td>3</td><td>3</td><td>43</td></tr>",
                            "<tr><td>27</td><td>3</td><td>43</td></tr>",
                            "<tr><td>93</td><td>3</td><td>43</td></tr>",
                            "<tr><td>27</td><td>3</td><td>43</td></tr>",
                            "<tr><td>3</td><td>3</td><td>43</td></tr>",
                            "<tr><td>167</td><td>3</td><td>43</td></tr>",
                            "<tr><td>3</td><td>3</td><td>43</td></tr>",
                            "<tr><td>87</td><td>3</td><td>43</td></tr>",
                            "<tr><td>27</td><td>3</td><td>43</td></tr>",
                            "<tr><td>132</td><td>3</td><td>43</td></tr>",
                            "<tr><td>3</td><td>3</td><td>43</td></tr>",
                            "<tr><td>27</td><td>3</td><td>43</td></tr>",
                            "<tr><td>132</td><td>3</td><td>43</td></tr>",
                            "<tr><td>27</td><td>3</td><td>43</td></tr>",
                            "<tr><td>93</td><td>3</td><td>43</td></tr>",
                            "<tr><td>162</td><td>3</td><td>43</td></tr>",
                            "<tr><td>93</td><td>3</td><td>43</td></tr>",
                            "<tr><td>87</td><td>3</td><td>43</td></tr>",
                            "<tr><td>93</td><td>3</td><td>43</td></tr>",
                            "<tr><td>3</td><td>3</td><td>43</td></tr>",
                            "<tr><td>93</td><td>3</td><td>43</td></tr>",
                            "<tr><td>162</td><td>3</td><td>43</td></tr>",
                            "<tr><td>137</td><td>2</td><td>44</td></tr>",
                            "<tr><td>52</td><td>2</td><td>44</td></tr>",
                            "<tr><td>19</td><td>2</td><td>44</td></tr>",
                            "<tr><td>15</td><td>2</td><td>44</td></tr>",
                            "<tr><td>52</td><td>2</td><td>44</td></tr>",
                            "<tr><td>15</td><td>2</td><td>44</td></tr>",
                            "<tr><td>19</td><td>2</td><td>44</td></tr>",
                            "<tr><td>42</td><td>2</td><td>44</td></tr>",
                            "<tr><td>137</td><td>2</td><td>44</td></tr>",
                            "<tr><td>19</td><td>2</td><td>44</td></tr>",
                            "<tr><td>52</td><td>2</td><td>44</td></tr>",
                            "<tr><td>15</td><td>2</td><td>44</td></tr>",
                            "<tr><td>42</td><td>2</td><td>44</td></tr>",
                            "<tr><td>52</td><td>2</td><td>44</td></tr>",
                            "<tr><td>15</td><td>2</td><td>44</td></tr>",
                            "<tr><td>15</td><td>2</td><td>44</td></tr>",
                            "<tr><td>19</td><td>2</td><td>44</td></tr>",
                            "<tr><td>42</td><td>2</td><td>44</td></tr>",
                            "<tr><td>52</td><td>2</td><td>44</td></tr>",
                            "<tr><td>19</td><td>2</td><td>44</td></tr>",
                            "<tr><td>137</td><td>2</td><td>44</td></tr>",
                            "<tr><td>137</td><td>2</td><td>44</td></tr>",
                            "<tr><td>42</td><td>2</td><td>44</td></tr>",
                            "<tr><td>42</td><td>2</td><td>44</td></tr>",
                            "<tr><td>137</td><td>2</td><td>44</td></tr>",
                            "<tr><td>42</td><td>2</td><td>44</td></tr>",
                            "<tr><td>19</td><td>2</td><td>44</td></tr>",
                            "<tr><td>15</td><td>2</td><td>44</td></tr>",
                            "<tr><td>137</td><td>2</td><td>44</td></tr>",
                            "<tr><td>120</td><td>3</td><td>45</td></tr>",
                            "<tr><td>79</td><td>3</td><td>45</td></tr>",
                            "<tr><td>120</td><td>3</td><td>45</td></tr>",
                            "<tr><td>79</td><td>3</td><td>45</td></tr>",
                            "<tr><td>120</td><td>3</td><td>45</td></tr>",
                            "<tr><td>79</td><td>3</td><td>45</td></tr>",
                            "<tr><td>120</td><td>3</td><td>45</td></tr>",
                            "<tr><td>120</td><td>3</td><td>45</td></tr>",
                            "<tr><td>79</td><td>3</td><td>45</td></tr>",
                            "<tr><td>120</td><td>3</td><td>45</td></tr>",
                            "<tr><td>79</td><td>3</td><td>45</td></tr>",
                            "<tr><td>194</td><td>2</td><td>46</td></tr>",
                            "<tr><td>121</td><td>2</td><td>47</td></tr>",
                            "<tr><td>195</td><td>2</td><td>47</td></tr>",
                            "<tr><td>80</td><td>2</td><td>47</td></tr>",
                            "<tr><td>80</td><td>2</td><td>47</td></tr>",
                            "<tr><td>80</td><td>2</td><td>47</td></tr>",
                            "<tr><td>195</td><td>2</td><td>47</td></tr>",
                            "<tr><td>121</td><td>2</td><td>47</td></tr>",
                            "<tr><td>80</td><td>2</td><td>47</td></tr>",
                            "<tr><td>121</td><td>2</td><td>47</td></tr>",
                            "<tr><td>121</td><td>2</td><td>47</td></tr>",
                            "<tr><td>195</td><td>2</td><td>47</td></tr>",
                            "<tr><td>80</td><td>2</td><td>47</td></tr>",
                            "<tr><td>121</td><td>2</td><td>47</td></tr>",
                            "<tr><td>121</td><td>2</td><td>47</td></tr>",
                            "<tr><td>195</td><td>2</td><td>47</td></tr>",
                            "<tr><td>121</td><td>2</td><td>47</td></tr>",
                            "<tr><td>121</td><td>2</td><td>47</td></tr>",
                            "<tr><td>80</td><td>2</td><td>47</td></tr>",
                            "<tr><td>80</td><td>2</td><td>47</td></tr>",
                            "<tr><td>195</td><td>2</td><td>47</td></tr>",
                            "<tr><td>195</td><td>2</td><td>47</td></tr>",
                            "<tr><td>122</td><td>3</td><td>48</td></tr>",
                            "<tr><td>122</td><td>3</td><td>48</td></tr>",
                            "<tr><td>122</td><td>3</td><td>48</td></tr>",
                            "<tr><td>122</td><td>3</td><td>48</td></tr>",
                            "<tr><td>122</td><td>3</td><td>48</td></tr>",
                            "<tr><td>122</td><td>3</td><td>48</td></tr>",
                            "<tr><td>122</td><td>3</td><td>48</td></tr>",
                            "<tr><td>122</td><td>3</td><td>48</td></tr>",
                            "<tr><td>122</td><td>3</td><td>48</td></tr>",
                            "<tr><td>196</td><td>2</td><td>49</td></tr>",
                            "<tr><td>196</td><td>2</td><td>49</td></tr>",
                            "<tr><td>196</td><td>2</td><td>49</td></tr>",
                            "<tr><td>81</td><td>2</td><td>49</td></tr>",
                            "<tr><td>196</td><td>2</td><td>49</td></tr>",
                            "<tr><td>81</td><td>2</td><td>49</td></tr>",
                            "<tr><td>81</td><td>2</td><td>49</td></tr>",
                            "<tr><td>81</td><td>2</td><td>49</td></tr>",
                            "<tr><td>81</td><td>2</td><td>49</td></tr>",
                            "<tr><td>82</td><td>3</td><td>50</td></tr>",
                            "<tr><td>197</td><td>3</td><td>50</td></tr>",
                            "<tr><td>82</td><td>3</td><td>50</td></tr>",
                            "<tr><td>123</td><td>3</td><td>50</td></tr>",
                            "<tr><td>82</td><td>3</td><td>50</td></tr>",
                            "<tr><td>197</td><td>3</td><td>50</td></tr>",
                            "<tr><td>123</td><td>3</td><td>50</td></tr>",
                            "<tr><td>197</td><td>3</td><td>50</td></tr>",
                            "<tr><td>123</td><td>3</td><td>50</td></tr>",
                            "<tr><td>197</td><td>3</td><td>50</td></tr>",
                            "<tr><td>123</td><td>3</td><td>50</td></tr>",
                            "<tr><td>123</td><td>3</td><td>50</td></tr>",
                            "<tr><td>82</td><td>3</td><td>50</td></tr>",
                            "<tr><td>82</td><td>3</td><td>50</td></tr>",
                            "<tr><td>197</td><td>3</td><td>50</td></tr>",
                            "<tr><td>82</td><td>3</td><td>50</td></tr>",
                            "<tr><td>197</td><td>3</td><td>50</td></tr>",
                            "<tr><td>198</td><td>3</td><td>51</td></tr>",
                            "<tr><td>83</td><td>3</td><td>51</td></tr>",
                            "<tr><td>198</td><td>3</td><td>51</td></tr>",
                            "<tr><td>83</td><td>3</td><td>51</td></tr>",
                            "<tr><td>198</td><td>3</td><td>51</td></tr>",
                            "<tr><td>198</td><td>3</td><td>51</td></tr>",
                            "<tr><td>124</td><td>3</td><td>51</td></tr>",
                            "<tr><td>83</td><td>3</td><td>51</td></tr>",
                            "<tr><td>83</td><td>3</td><td>51</td></tr>",
                            "<tr><td>83</td><td>3</td><td>51</td></tr>",
                            "<tr><td>83</td><td>3</td><td>51</td></tr>",
                            "<tr><td>83</td><td>3</td><td>51</td></tr>",
                            "<tr><td>198</td><td>3</td><td>51</td></tr>",
                            "<tr><td>198</td><td>3</td><td>51</td></tr>",
                            "<tr><td>124</td><td>3</td><td>51</td></tr>",
                            "<tr><td>198</td><td>3</td><td>51</td></tr>",
                            "<tr><td>83</td><td>3</td><td>51</td></tr>",
                            "<tr><td>124</td><td>3</td><td>51</td></tr>",
                            "<tr><td>124</td><td>3</td><td>51</td></tr>",
                            "<tr><td>124</td><td>3</td><td>51</td></tr>",
                            "<tr><td>198</td><td>3</td><td>51</td></tr>",
                            "<tr><td>124</td><td>3</td><td>51</td></tr>",
                            "<tr><td>84</td><td>3</td><td>52</td></tr>",
                            "<tr><td>84</td><td>3</td><td>52</td></tr>",
                            "<tr><td>84</td><td>3</td><td>52</td></tr>",
                            "<tr><td>84</td><td>3</td><td>52</td></tr>",
                            "<tr><td>125</td><td>2</td><td>53</td></tr>",
                            "<tr><td>126</td><td>2</td><td>54</td></tr>",
                            "<tr><td>126</td><td>2</td><td>54</td></tr>",
                            "<tr><td>126</td><td>2</td><td>54</td></tr>",
                            "<tr><td>126</td><td>2</td><td>54</td></tr>",
                            "<tr><td>126</td><td>2</td><td>54</td></tr>",
                            "<tr><td>126</td><td>2</td><td>54</td></tr>",
                            "<tr><td>127</td><td>2</td><td>55</td></tr>",
                            "<tr><td>127</td><td>2</td><td>55</td></tr>",
                            "<tr><td>127</td><td>2</td><td>55</td></tr>",
                            "<tr><td>127</td><td>2</td><td>55</td></tr>",
                            "<tr><td>127</td><td>2</td><td>55</td></tr>",
                            "<tr><td>127</td><td>2</td><td>55</td></tr>",
                            "<tr><td>127</td><td>2</td><td>55</td></tr>",
                            "<tr><td>128</td><td>2</td><td>56</td></tr>",
                            "<tr><td>128</td><td>2</td><td>56</td></tr>",
                            "<tr><td>128</td><td>2</td><td>56</td></tr>",
                            "<tr><td>128</td><td>2</td><td>56</td></tr>",
                            "<tr><td>128</td><td>2</td><td>56</td></tr>",
                            "<tr><td>129</td><td>2</td><td>57</td></tr>",
                            "<tr><td>129</td><td>2</td><td>57</td></tr>",
                            "<tr><td>129</td><td>2</td><td>57</td></tr>",
                            "<tr><td>129</td><td>2</td><td>57</td></tr>",
                            "<tr><td>20</td><td>3</td><td>58</td></tr>",
                            "<tr><td>88</td><td>3</td><td>58</td></tr>",
                            "<tr><td>138</td><td>3</td><td>58</td></tr>",
                            "<tr><td>20</td><td>3</td><td>58</td></tr>",
                            "<tr><td>138</td><td>3</td><td>58</td></tr>",
                            "<tr><td>43</td><td>3</td><td>58</td></tr>",
                            "<tr><td>16</td><td>3</td><td>58</td></tr>",
                            "<tr><td>43</td><td>3</td><td>58</td></tr>",
                            "<tr><td>133</td><td>3</td><td>58</td></tr>",
                            "<tr><td>20</td><td>3</td><td>58</td></tr>",
                            "<tr><td>20</td><td>3</td><td>58</td></tr>",
                            "<tr><td>20</td><td>3</td><td>58</td></tr>",
                            "<tr><td>43</td><td>3</td><td>58</td></tr>",
                            "<tr><td>16</td><td>3</td><td>58</td></tr>",
                            "<tr><td>88</td><td>3</td><td>58</td></tr>",
                            "<tr><td>16</td><td>3</td><td>58</td></tr>",
                            "<tr><td>16</td><td>3</td><td>58</td></tr>",
                            "<tr><td>133</td><td>3</td><td>58</td></tr>",
                            "<tr><td>133</td><td>3</td><td>58</td></tr>",
                            "<tr><td>138</td><td>3</td><td>58</td></tr>",
                            "<tr><td>88</td><td>3</td><td>58</td></tr>",
                            "<tr><td>138</td><td>3</td><td>58</td></tr>",
                            "<tr><td>138</td><td>3</td><td>58</td></tr>",
                            "<tr><td>138</td><td>3</td><td>58</td></tr>",
                            "<tr><td>88</td><td>3</td><td>58</td></tr>",
                            "<tr><td>43</td><td>3</td><td>58</td></tr>",
                            "<tr><td>88</td><td>3</td><td>58</td></tr>",
                            "<tr><td>133</td><td>3</td><td>58</td></tr>",
                            "<tr><td>43</td><td>3</td><td>58</td></tr>",
                            "<tr><td>88</td><td>3</td><td>58</td></tr>",
                            "<tr><td>43</td><td>3</td><td>58</td></tr>",
                            "<tr><td>138</td><td>3</td><td>58</td></tr>",
                            "<tr><td>133</td><td>3</td><td>58</td></tr>",
                            "<tr><td>16</td><td>3</td><td>58</td></tr>",
                            "<tr><td>43</td><td>3</td><td>58</td></tr>",
                            "<tr><td>133</td><td>3</td><td>58</td></tr>",
                            "<tr><td>88</td><td>3</td><td>58</td></tr>",
                            "<tr><td>43</td><td>3</td><td>58</td></tr>",
                            "<tr><td>88</td><td>3</td><td>58</td></tr>",
                            "<tr><td>94</td><td>2</td><td>59</td></tr>",
                            "<tr><td>28</td><td>2</td><td>59</td></tr>",
                            "<tr><td>94</td><td>2</td><td>59</td></tr>",
                            "<tr><td>4</td><td>2</td><td>59</td></tr>",
                            "<tr><td>163</td><td>2</td><td>59</td></tr>",
                            "<tr><td>28</td><td>2</td><td>59</td></tr>",
                            "<tr><td>4</td><td>2</td><td>59</td></tr>",
                            "<tr><td>4</td><td>2</td><td>59</td></tr>",
                            "<tr><td>168</td><td>2</td><td>59</td></tr>",
                            "<tr><td>94</td><td>2</td><td>59</td></tr>",
                            "<tr><td>94</td><td>2</td><td>59</td></tr>",
                            "<tr><td>94</td><td>2</td><td>59</td></tr>",
                            "<tr><td>163</td><td>2</td><td>59</td></tr>",
                            "<tr><td>168</td><td>2</td><td>59</td></tr>",
                            "<tr><td>94</td><td>2</td><td>59</td></tr>",
                            "<tr><td>168</td><td>2</td><td>59</td></tr>",
                            "<tr><td>163</td><td>2</td><td>59</td></tr>",
                            "<tr><td>4</td><td>2</td><td>59</td></tr>",
                            "<tr><td>28</td><td>2</td><td>59</td></tr>",
                            "<tr><td>28</td><td>2</td><td>59</td></tr>",
                            "<tr><td>28</td><td>2</td><td>59</td></tr>",
                            "<tr><td>53</td><td>2</td><td>59</td></tr>",
                            "<tr><td>163</td><td>2</td><td>59</td></tr>",
                            "<tr><td>163</td><td>2</td><td>59</td></tr>",
                            "<tr><td>53</td><td>2</td><td>59</td></tr>",
                            "<tr><td>94</td><td>2</td><td>59</td></tr>",
                            "<tr><td>4</td><td>2</td><td>59</td></tr>",
                            "<tr><td>94</td><td>2</td><td>59</td></tr>",
                            "<tr><td>163</td><td>2</td><td>59</td></tr>",
                            "<tr><td>4</td><td>2</td><td>59</td></tr>",
                            "<tr><td>94</td><td>2</td><td>59</td></tr>",
                            "<tr><td>168</td><td>2</td><td>59</td></tr>",
                            "<tr><td>168</td><td>2</td><td>59</td></tr>",
                            "<tr><td>163</td><td>2</td><td>59</td></tr>",
                            "<tr><td>28</td><td>2</td><td>59</td></tr>",
                            "<tr><td>94</td><td>2</td><td>59</td></tr>",
                            "<tr><td>89</td><td>3</td><td>60</td></tr>",
                            "<tr><td>44</td><td>3</td><td>60</td></tr>",
                            "<tr><td>54</td><td>3</td><td>60</td></tr>",
                            "<tr><td>44</td><td>3</td><td>60</td></tr>",
                            "<tr><td>44</td><td>3</td><td>60</td></tr>",
                            "<tr><td>95</td><td>3</td><td>60</td></tr>",
                            "<tr><td>54</td><td>3</td><td>60</td></tr>",
                            "<tr><td>54</td><td>3</td><td>60</td></tr>",
                            "<tr><td>134</td><td>3</td><td>60</td></tr>",
                            "<tr><td>89</td><td>3</td><td>60</td></tr>",
                            "<tr><td>134</td><td>3</td><td>60</td></tr>",
                            "<tr><td>95</td><td>3</td><td>60</td></tr>",
                            "<tr><td>134</td><td>3</td><td>60</td></tr>",
                            "<tr><td>54</td><td>3</td><td>60</td></tr>",
                            "<tr><td>95</td><td>3</td><td>60</td></tr>",
                            "<tr><td>89</td><td>3</td><td>60</td></tr>",
                            "<tr><td>54</td><td>3</td><td>60</td></tr>",
                            "<tr><td>89</td><td>3</td><td>60</td></tr>",
                            "<tr><td>89</td><td>3</td><td>60</td></tr>",
                            "<tr><td>44</td><td>3</td><td>60</td></tr>",
                            "<tr><td>54</td><td>3</td><td>60</td></tr>",
                            "<tr><td>89</td><td>3</td><td>60</td></tr>",
                            "<tr><td>134</td><td>3</td><td>60</td></tr>",
                            "<tr><td>134</td><td>3</td><td>60</td></tr>",
                            "<tr><td>89</td><td>3</td><td>60</td></tr>",
                            "<tr><td>89</td><td>3</td><td>60</td></tr>",
                            "<tr><td>134</td><td>3</td><td>60</td></tr>",
                            "<tr><td>95</td><td>3</td><td>60</td></tr>",
                            "<tr><td>44</td><td>3</td><td>60</td></tr>",
                            "<tr><td>44</td><td>3</td><td>60</td></tr>",
                            "<tr><td>29</td><td>2</td><td>61</td></tr>",
                            "<tr><td>169</td><td>2</td><td>61</td></tr>",
                            "<tr><td>139</td><td>2</td><td>61</td></tr>",
                            "<tr><td>139</td><td>2</td><td>61</td></tr>",
                            "<tr><td>29</td><td>2</td><td>61</td></tr>",
                            "<tr><td>21</td><td>2</td><td>61</td></tr>",
                            "<tr><td>5</td><td>2</td><td>61</td></tr>",
                            "<tr><td>29</td><td>2</td><td>61</td></tr>",
                            "<tr><td>164</td><td>2</td><td>61</td></tr>",
                            "<tr><td>164</td><td>2</td><td>61</td></tr>",
                            "<tr><td>169</td><td>2</td><td>61</td></tr>",
                            "<tr><td>29</td><td>2</td><td>61</td></tr>",
                            "<tr><td>169</td><td>2</td><td>61</td></tr>",
                            "<tr><td>5</td><td>2</td><td>61</td></tr>",
                            "<tr><td>29</td><td>2</td><td>61</td></tr>",
                            "<tr><td>5</td><td>2</td><td>61</td></tr>",
                            "<tr><td>139</td><td>2</td><td>61</td></tr>",
                            "<tr><td>139</td><td>2</td><td>61</td></tr>",
                            "<tr><td>164</td><td>2</td><td>61</td></tr>",
                            "<tr><td>169</td><td>2</td><td>61</td></tr>",
                            "<tr><td>21</td><td>2</td><td>61</td></tr>",
                            "<tr><td>139</td><td>2</td><td>61</td></tr>",
                            "<tr><td>169</td><td>2</td><td>61</td></tr>",
                            "<tr><td>164</td><td>2</td><td>61</td></tr>",
                            "<tr><td>5</td><td>2</td><td>61</td></tr>",
                            "<tr><td>21</td><td>2</td><td>61</td></tr>",
                            "<tr><td>29</td><td>2</td><td>61</td></tr>",
                            "<tr><td>21</td><td>2</td><td>61</td></tr>",
                            "<tr><td>139</td><td>2</td><td>61</td></tr>",
                            "<tr><td>169</td><td>2</td><td>61</td></tr>",
                            "<tr><td>139</td><td>2</td><td>61</td></tr>",
                            "<tr><td>164</td><td>2</td><td>61</td></tr>",
                            "<tr><td>90</td><td>3</td><td>62</td></tr>",
                            "<tr><td>96</td><td>3</td><td>62</td></tr>",
                            "<tr><td>6</td><td>3</td><td>62</td></tr>",
                            "<tr><td>96</td><td>3</td><td>62</td></tr>",
                            "<tr><td>96</td><td>3</td><td>62</td></tr>",
                            "<tr><td>30</td><td>3</td><td>62</td></tr>",
                            "<tr><td>6</td><td>3</td><td>62</td></tr>",
                            "<tr><td>96</td><td>3</td><td>62</td></tr>",
                            "<tr><td>22</td><td>3</td><td>62</td></tr>",
                            "<tr><td>6</td><td>3</td><td>62</td></tr>",
                            "<tr><td>30</td><td>3</td><td>62</td></tr>",
                            "<tr><td>6</td><td>3</td><td>62</td></tr>",
                            "<tr><td>22</td><td>3</td><td>62</td></tr>",
                            "<tr><td>6</td><td>3</td><td>62</td></tr>",
                            "<tr><td>6</td><td>3</td><td>62</td></tr>",
                            "<tr><td>96</td><td>3</td><td>62</td></tr>",
                            "<tr><td>22</td><td>3</td><td>62</td></tr>",
                            "<tr><td>90</td><td>3</td><td>62</td></tr>",
                            "<tr><td>22</td><td>3</td><td>62</td></tr>",
                            "<tr><td>22</td><td>3</td><td>62</td></tr>",
                            "<tr><td>90</td><td>3</td><td>62</td></tr>",
                            "<tr><td>30</td><td>3</td><td>62</td></tr>",
                            "<tr><td>22</td><td>3</td><td>62</td></tr>",
                            "<tr><td>96</td><td>3</td><td>62</td></tr>",
                            "<tr><td>90</td><td>3</td><td>62</td></tr>",
                            "<tr><td>96</td><td>3</td><td>62</td></tr>",
                            "<tr><td>55</td><td>2</td><td>63</td></tr>",
                            "<tr><td>55</td><td>2</td><td>63</td></tr>",
                            "<tr><td>45</td><td>2</td><td>63</td></tr>",
                            "<tr><td>140</td><td>2</td><td>63</td></tr>",
                            "<tr><td>55</td><td>2</td><td>63</td></tr>",
                            "<tr><td>170</td><td>2</td><td>63</td></tr>",
                            "<tr><td>55</td><td>2</td><td>63</td></tr>",
                            "<tr><td>140</td><td>2</td><td>63</td></tr>",
                            "<tr><td>45</td><td>2</td><td>63</td></tr>",
                            "<tr><td>55</td><td>2</td><td>63</td></tr>",
                            "<tr><td>170</td><td>2</td><td>63</td></tr>",
                            "<tr><td>140</td><td>2</td><td>63</td></tr>",
                            "<tr><td>55</td><td>2</td><td>63</td></tr>",
                            "<tr><td>140</td><td>2</td><td>63</td></tr>",
                            "<tr><td>140</td><td>2</td><td>63</td></tr>",
                            "<tr><td>170</td><td>2</td><td>63</td></tr>",
                            "<tr><td>45</td><td>2</td><td>63</td></tr>",
                            "<tr><td>170</td><td>2</td><td>63</td></tr>",
                            "<tr><td>140</td><td>2</td><td>63</td></tr>",
                            "<tr><td>140</td><td>2</td><td>63</td></tr>",
                            "<tr><td>55</td><td>2</td><td>63</td></tr>",
                            "<tr><td>170</td><td>2</td><td>63</td></tr>",
                            "<tr><td>45</td><td>2</td><td>63</td></tr>",
                            "<tr><td>45</td><td>2</td><td>63</td></tr>",
                            "<tr><td>140</td><td>2</td><td>63</td></tr>",
                            "<tr><td>55</td><td>2</td><td>63</td></tr>",
                            "<tr><td>46</td><td>3</td><td>64</td></tr>",
                            "<tr><td>31</td><td>3</td><td>64</td></tr>",
                            "<tr><td>97</td><td>3</td><td>64</td></tr>",
                            "<tr><td>97</td><td>3</td><td>64</td></tr>",
                            "<tr><td>97</td><td>3</td><td>64</td></tr>",
                            "<tr><td>31</td><td>3</td><td>64</td></tr>",
                            "<tr><td>31</td><td>3</td><td>64</td></tr>",
                            "<tr><td>97</td><td>3</td><td>64</td></tr>",
                            "<tr><td>97</td><td>3</td><td>64</td></tr>",
                            "<tr><td>46</td><td>3</td><td>64</td></tr>",
                            "<tr><td>46</td><td>3</td><td>64</td></tr>",
                            "<tr><td>46</td><td>3</td><td>64</td></tr>",
                            "<tr><td>97</td><td>3</td><td>64</td></tr>",
                            "<tr><td>97</td><td>3</td><td>64</td></tr>",
                            "<tr><td>171</td><td>2</td><td>65</td></tr>",
                            "<tr><td>171</td><td>2</td><td>65</td></tr>",
                            "<tr><td>7</td><td>2</td><td>65</td></tr>",
                            "<tr><td>7</td><td>2</td><td>65</td></tr>",
                            "<tr><td>7</td><td>2</td><td>65</td></tr>",
                            "<tr><td>141</td><td>2</td><td>65</td></tr>",
                            "<tr><td>7</td><td>2</td><td>65</td></tr>",
                            "<tr><td>171</td><td>2</td><td>65</td></tr>",
                            "<tr><td>141</td><td>2</td><td>65</td></tr>",
                            "<tr><td>141</td><td>2</td><td>65</td></tr>",
                            "<tr><td>7</td><td>2</td><td>65</td></tr>",
                            "<tr><td>171</td><td>2</td><td>65</td></tr>",
                            "<tr><td>141</td><td>2</td><td>65</td></tr>",
                            "<tr><td>7</td><td>2</td><td>65</td></tr>",
                            "<tr><td>141</td><td>2</td><td>65</td></tr>",
                            "<tr><td>171</td><td>2</td><td>65</td></tr>",
                            "<tr><td>141</td><td>2</td><td>65</td></tr>",
                            "<tr><td>23</td><td>2</td><td>65</td></tr>",
                            "<tr><td>56</td><td>2</td><td>65</td></tr>",
                            "<tr><td>23</td><td>2</td><td>65</td></tr>",
                            "<tr><td>56</td><td>2</td><td>65</td></tr>",
                            "<tr><td>23</td><td>2</td><td>65</td></tr>",
                            "<tr><td>24</td><td>4</td><td>66</td></tr>",
                            "<tr><td>24</td><td>4</td><td>66</td></tr>",
                            "<tr><td>24</td><td>4</td><td>66</td></tr>",
                            "<tr><td>142</td><td>3</td><td>67</td></tr>",
                            "<tr><td>142</td><td>3</td><td>67</td></tr>",
                            "<tr><td>8</td><td>3</td><td>67</td></tr>",
                            "<tr><td>8</td><td>3</td><td>67</td></tr>",
                            "<tr><td>8</td><td>3</td><td>67</td></tr>",
                            "<tr><td>8</td><td>3</td><td>67</td></tr>",
                            "<tr><td>8</td><td>3</td><td>67</td></tr>",
                            "<tr><td>98</td><td>2</td><td>68</td></tr>",
                            "<tr><td>172</td><td>2</td><td>68</td></tr>",
                            "<tr><td>172</td><td>2</td><td>68</td></tr>",
                            "<tr><td>47</td><td>2</td><td>68</td></tr>",
                            "<tr><td>32</td><td>2</td><td>68</td></tr>",
                            "<tr><td>98</td><td>2</td><td>68</td></tr>",
                            "<tr><td>172</td><td>2</td><td>68</td></tr>",
                            "<tr><td>172</td><td>2</td><td>68</td></tr>",
                            "<tr><td>98</td><td>2</td><td>68</td></tr>",
                            "<tr><td>47</td><td>2</td><td>68</td></tr>",
                            "<tr><td>98</td><td>2</td><td>68</td></tr>",
                            "<tr><td>57</td><td>2</td><td>68</td></tr>",
                            "<tr><td>172</td><td>2</td><td>68</td></tr>",
                            "<tr><td>57</td><td>2</td><td>68</td></tr>",
                            "<tr><td>172</td><td>2</td><td>68</td></tr>",
                            "<tr><td>172</td><td>2</td><td>68</td></tr>",
                            "<tr><td>172</td><td>2</td><td>68</td></tr>",
                            "<tr><td>57</td><td>2</td><td>68</td></tr>",
                            "<tr><td>172</td><td>2</td><td>68</td></tr>",
                            "<tr><td>57</td><td>2</td><td>68</td></tr>",
                            "<tr><td>143</td><td>3</td><td>69</td></tr>",
                            "<tr><td>9</td><td>3</td><td>69</td></tr>",
                            "<tr><td>48</td><td>3</td><td>69</td></tr>",
                            "<tr><td>48</td><td>3</td><td>69</td></tr>",
                            "<tr><td>9</td><td>3</td><td>69</td></tr>",
                            "<tr><td>48</td><td>3</td><td>69</td></tr>",
                            "<tr><td>9</td><td>3</td><td>69</td></tr>",
                            "<tr><td>143</td><td>3</td><td>69</td></tr>",
                            "<tr><td>143</td><td>3</td><td>69</td></tr>",
                            "<tr><td>9</td><td>3</td><td>69</td></tr>",
                            "<tr><td>48</td><td>3</td><td>69</td></tr>",
                            "<tr><td>9</td><td>3</td><td>69</td></tr>",
                            "<tr><td>143</td><td>3</td><td>69</td></tr>",
                            "<tr><td>143</td><td>3</td><td>69</td></tr>",
                            "<tr><td>143</td><td>3</td><td>69</td></tr>",
                            "<tr><td>143</td><td>3</td><td>69</td></tr>",
                            "<tr><td>48</td><td>3</td><td>69</td></tr>",
                            "<tr><td>48</td><td>3</td><td>69</td></tr>",
                            "<tr><td>48</td><td>3</td><td>69</td></tr>",
                            "<tr><td>48</td><td>3</td><td>69</td></tr>",
                            "<tr><td>9</td><td>3</td><td>69</td></tr>",
                            "<tr><td>48</td><td>3</td><td>69</td></tr>",
                            "<tr><td>33</td><td>2</td><td>70</td></tr>",
                            "<tr><td>99</td><td>2</td><td>70</td></tr>",
                            "<tr><td>99</td><td>2</td><td>70</td></tr>",
                            "<tr><td>173</td><td>2</td><td>70</td></tr>",
                            "<tr><td>58</td><td>2</td><td>70</td></tr>",
                            "<tr><td>58</td><td>2</td><td>70</td></tr>",
                            "<tr><td>173</td><td>2</td><td>70</td></tr>",
                            "<tr><td>58</td><td>2</td><td>70</td></tr>",
                            "<tr><td>33</td><td>2</td><td>70</td></tr>",
                            "<tr><td>33</td><td>2</td><td>70</td></tr>",
                            "<tr><td>99</td><td>2</td><td>70</td></tr>",
                            "<tr><td>58</td><td>2</td><td>70</td></tr>",
                            "<tr><td>58</td><td>2</td><td>70</td></tr>",
                            "<tr><td>33</td><td>2</td><td>70</td></tr>",
                            "<tr><td>58</td><td>2</td><td>70</td></tr>",
                            "<tr><td>58</td><td>2</td><td>70</td></tr>",
                            "<tr><td>58</td><td>2</td><td>70</td></tr>",
                            "<tr><td>33</td><td>2</td><td>70</td></tr>",
                            "<tr><td>173</td><td>2</td><td>70</td></tr>",
                            "<tr><td>33</td><td>2</td><td>70</td></tr>",
                            "<tr><td>58</td><td>2</td><td>70</td></tr>",
                            "<tr><td>58</td><td>2</td><td>70</td></tr>",
                            "<tr><td>58</td><td>2</td><td>70</td></tr>",
                            "<tr><td>58</td><td>2</td><td>70</td></tr>",
                            "<tr><td>99</td><td>2</td><td>70</td></tr>",
                            "<tr><td>173</td><td>2</td><td>70</td></tr>",
                            "<tr><td>99</td><td>2</td><td>70</td></tr>",
                            "<tr><td>58</td><td>2</td><td>70</td></tr>",
                            "</table>"
                        ]
                    }
                }
            ],
            "execution_count": 34
        },
        {
            "cell_type": "code",
            "source": [
                "\r\n",
                "SELECT f.*\r\n",
                "FROM foglalas f join Vendeg v ON f.UGYFEL_FK = v.USERNEV\r\n",
                "WHERE v.USERNEV =\r\n",
                " ( \r\n",
                "  SELECT USERNEV\r\n",
                "  FROM Vendeg\r\n",
                "  WHERE szul_dat =\r\n",
                "   ( \r\n",
                "     SELECT MAX(szul_dat) \r\n",
                "     FROM Vendeg\r\n",
                "     ) \r\n",
                ")"
            ],
            "metadata": {
                "language": "sql",
                "azdata_cell_guid": "113c8265-bc1d-4c90-8d74-00582b9a6110"
            },
            "outputs": [
                {
                    "output_type": "display_data",
                    "data": {
                        "text/html": "(10 rows affected)"
                    },
                    "metadata": {}
                },
                {
                    "output_type": "display_data",
                    "data": {
                        "text/html": "Total execution time: 00:00:00.011"
                    },
                    "metadata": {}
                },
                {
                    "output_type": "execute_result",
                    "metadata": {},
                    "execution_count": 35,
                    "data": {
                        "application/vnd.dataresource+json": {
                            "schema": {
                                "fields": [
                                    {
                                        "name": "FOGLALAS_PK"
                                    },
                                    {
                                        "name": "UGYFEL_FK"
                                    },
                                    {
                                        "name": "SZOBA_FK"
                                    },
                                    {
                                        "name": "METTOL"
                                    },
                                    {
                                        "name": "MEDDIG"
                                    },
                                    {
                                        "name": "FELNOTT_SZAM"
                                    },
                                    {
                                        "name": "GYERMEK_SZAM"
                                    }
                                ]
                            },
                            "data": [
                                {
                                    "FOGLALAS_PK": "993",
                                    "UGYFEL_FK": "eszter2",
                                    "SZOBA_FK": "197",
                                    "METTOL": "2016-06-30",
                                    "MEDDIG": "2016-07-07",
                                    "FELNOTT_SZAM": "3",
                                    "GYERMEK_SZAM": "0"
                                },
                                {
                                    "FOGLALAS_PK": "1017",
                                    "UGYFEL_FK": "eszter2",
                                    "SZOBA_FK": "190",
                                    "METTOL": "2016-07-08",
                                    "MEDDIG": "2016-07-09",
                                    "FELNOTT_SZAM": "1",
                                    "GYERMEK_SZAM": "0"
                                },
                                {
                                    "FOGLALAS_PK": "1097",
                                    "UGYFEL_FK": "eszter2",
                                    "SZOBA_FK": "95",
                                    "METTOL": "2016-10-01",
                                    "MEDDIG": "2016-10-05",
                                    "FELNOTT_SZAM": "1",
                                    "GYERMEK_SZAM": "2"
                                },
                                {
                                    "FOGLALAS_PK": "1109",
                                    "UGYFEL_FK": "eszter2",
                                    "SZOBA_FK": "110",
                                    "METTOL": "2016-10-01",
                                    "MEDDIG": "2016-10-06",
                                    "FELNOTT_SZAM": "1",
                                    "GYERMEK_SZAM": "0"
                                },
                                {
                                    "FOGLALAS_PK": "1171",
                                    "UGYFEL_FK": "eszter2",
                                    "SZOBA_FK": "172",
                                    "METTOL": "2016-10-20",
                                    "MEDDIG": "2016-10-25",
                                    "FELNOTT_SZAM": "1",
                                    "GYERMEK_SZAM": "0"
                                },
                                {
                                    "FOGLALAS_PK": "1187",
                                    "UGYFEL_FK": "eszter2",
                                    "SZOBA_FK": "46",
                                    "METTOL": "2016-10-23",
                                    "MEDDIG": "2016-10-30",
                                    "FELNOTT_SZAM": "1",
                                    "GYERMEK_SZAM": "0"
                                },
                                {
                                    "FOGLALAS_PK": "1246",
                                    "UGYFEL_FK": "eszter2",
                                    "SZOBA_FK": "69",
                                    "METTOL": "2016-11-05",
                                    "MEDDIG": "2016-11-12",
                                    "FELNOTT_SZAM": "2",
                                    "GYERMEK_SZAM": "2"
                                },
                                {
                                    "FOGLALAS_PK": "1336",
                                    "UGYFEL_FK": "eszter2",
                                    "SZOBA_FK": "172",
                                    "METTOL": "2016-12-02",
                                    "MEDDIG": "2016-12-07",
                                    "FELNOTT_SZAM": "1",
                                    "GYERMEK_SZAM": "0"
                                },
                                {
                                    "FOGLALAS_PK": "1345",
                                    "UGYFEL_FK": "eszter2",
                                    "SZOBA_FK": "79",
                                    "METTOL": "2016-12-05",
                                    "MEDDIG": "2016-12-08",
                                    "FELNOTT_SZAM": "2",
                                    "GYERMEK_SZAM": "0"
                                },
                                {
                                    "FOGLALAS_PK": "1480",
                                    "UGYFEL_FK": "eszter2",
                                    "SZOBA_FK": "35",
                                    "METTOL": "2016-12-29",
                                    "MEDDIG": "2017-02-04",
                                    "FELNOTT_SZAM": "1",
                                    "GYERMEK_SZAM": "0"
                                }
                            ]
                        },
                        "text/html": [
                            "<table>",
                            "<tr><th>FOGLALAS_PK</th><th>UGYFEL_FK</th><th>SZOBA_FK</th><th>METTOL</th><th>MEDDIG</th><th>FELNOTT_SZAM</th><th>GYERMEK_SZAM</th></tr>",
                            "<tr><td>993</td><td>eszter2</td><td>197</td><td>2016-06-30</td><td>2016-07-07</td><td>3</td><td>0</td></tr>",
                            "<tr><td>1017</td><td>eszter2</td><td>190</td><td>2016-07-08</td><td>2016-07-09</td><td>1</td><td>0</td></tr>",
                            "<tr><td>1097</td><td>eszter2</td><td>95</td><td>2016-10-01</td><td>2016-10-05</td><td>1</td><td>2</td></tr>",
                            "<tr><td>1109</td><td>eszter2</td><td>110</td><td>2016-10-01</td><td>2016-10-06</td><td>1</td><td>0</td></tr>",
                            "<tr><td>1171</td><td>eszter2</td><td>172</td><td>2016-10-20</td><td>2016-10-25</td><td>1</td><td>0</td></tr>",
                            "<tr><td>1187</td><td>eszter2</td><td>46</td><td>2016-10-23</td><td>2016-10-30</td><td>1</td><td>0</td></tr>",
                            "<tr><td>1246</td><td>eszter2</td><td>69</td><td>2016-11-05</td><td>2016-11-12</td><td>2</td><td>2</td></tr>",
                            "<tr><td>1336</td><td>eszter2</td><td>172</td><td>2016-12-02</td><td>2016-12-07</td><td>1</td><td>0</td></tr>",
                            "<tr><td>1345</td><td>eszter2</td><td>79</td><td>2016-12-05</td><td>2016-12-08</td><td>2</td><td>0</td></tr>",
                            "<tr><td>1480</td><td>eszter2</td><td>35</td><td>2016-12-29</td><td>2017-02-04</td><td>1</td><td>0</td></tr>",
                            "</table>"
                        ]
                    }
                }
            ],
            "execution_count": 35
        }
    ]
}