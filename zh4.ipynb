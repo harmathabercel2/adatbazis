{
    "metadata": {
        "kernelspec": {
            "name": "SQL",
            "display_name": "SQL",
            "language": "sql"
        },
        "language_info": {
            "name": "sql",
            "version": ""
        }
    },
    "nbformat_minor": 2,
    "nbformat": 4,
    "cells": [
        {
            "cell_type": "code",
            "source": [
                "SELECT szo.SZOBA_ID, Count(*)\r\n",
                "FROM Szoba szo\r\n",
                "    LEFT JOIN Foglalas f ON f.SZOBA_FK = szo.SZOBA_ID\r\n",
                "GROUP BY szo.SZOBA_ID;\r\n",
                ""
            ],
            "metadata": {
                "azdata_cell_guid": "d1c3cc9b-d45b-4077-883f-32aefa2fbc91",
                "language": "sql"
            },
            "outputs": [
                {
                    "output_type": "display_data",
                    "data": {
                        "text/html": "(294 rows affected)"
                    },
                    "metadata": {}
                },
                {
                    "output_type": "display_data",
                    "data": {
                        "text/html": "Total execution time: 00:00:00.013"
                    },
                    "metadata": {}
                },
                {
                    "output_type": "execute_result",
                    "metadata": {},
                    "execution_count": 3,
                    "data": {
                        "application/vnd.dataresource+json": {
                            "schema": {
                                "fields": [
                                    {
                                        "name": "SZOBA_ID"
                                    },
                                    {
                                        "name": "(No column name)"
                                    }
                                ]
                            },
                            "data": [
                                {
                                    "SZOBA_ID": "261",
                                    "(No column name)": "1"
                                },
                                {
                                    "SZOBA_ID": "23",
                                    "(No column name)": "3"
                                },
                                {
                                    "SZOBA_ID": "238",
                                    "(No column name)": "1"
                                },
                                {
                                    "SZOBA_ID": "46",
                                    "(No column name)": "4"
                                },
                                {
                                    "SZOBA_ID": "215",
                                    "(No column name)": "1"
                                },
                                {
                                    "SZOBA_ID": "192",
                                    "(No column name)": "2"
                                },
                                {
                                    "SZOBA_ID": "69",
                                    "(No column name)": "4"
                                },
                                {
                                    "SZOBA_ID": "92",
                                    "(No column name)": "6"
                                },
                                {
                                    "SZOBA_ID": "115",
                                    "(No column name)": "7"
                                },
                                {
                                    "SZOBA_ID": "138",
                                    "(No column name)": "7"
                                },
                                {
                                    "SZOBA_ID": "209",
                                    "(No column name)": "1"
                                },
                                {
                                    "SZOBA_ID": "161",
                                    "(No column name)": "6"
                                },
                                {
                                    "SZOBA_ID": "284",
                                    "(No column name)": "1"
                                },
                                {
                                    "SZOBA_ID": "29",
                                    "(No column name)": "6"
                                },
                                {
                                    "SZOBA_ID": "232",
                                    "(No column name)": "1"
                                },
                                {
                                    "SZOBA_ID": "278",
                                    "(No column name)": "1"
                                },
                                {
                                    "SZOBA_ID": "169",
                                    "(No column name)": "6"
                                },
                                {
                                    "SZOBA_ID": "175",
                                    "(No column name)": "5"
                                },
                                {
                                    "SZOBA_ID": "221",
                                    "(No column name)": "1"
                                },
                                {
                                    "SZOBA_ID": "75",
                                    "(No column name)": "3"
                                },
                                {
                                    "SZOBA_ID": "201",
                                    "(No column name)": "1"
                                },
                                {
                                    "SZOBA_ID": "132",
                                    "(No column name)": "6"
                                },
                                {
                                    "SZOBA_ID": "9",
                                    "(No column name)": "6"
                                },
                                {
                                    "SZOBA_ID": "181",
                                    "(No column name)": "6"
                                },
                                {
                                    "SZOBA_ID": "15",
                                    "(No column name)": "6"
                                },
                                {
                                    "SZOBA_ID": "109",
                                    "(No column name)": "7"
                                },
                                {
                                    "SZOBA_ID": "158",
                                    "(No column name)": "3"
                                },
                                {
                                    "SZOBA_ID": "89",
                                    "(No column name)": "8"
                                },
                                {
                                    "SZOBA_ID": "195",
                                    "(No column name)": "6"
                                },
                                {
                                    "SZOBA_ID": "244",
                                    "(No column name)": "1"
                                },
                                {
                                    "SZOBA_ID": "3",
                                    "(No column name)": "8"
                                },
                                {
                                    "SZOBA_ID": "252",
                                    "(No column name)": "1"
                                },
                                {
                                    "SZOBA_ID": "146",
                                    "(No column name)": "6"
                                },
                                {
                                    "SZOBA_ID": "152",
                                    "(No column name)": "4"
                                },
                                {
                                    "SZOBA_ID": "52",
                                    "(No column name)": "5"
                                },
                                {
                                    "SZOBA_ID": "95",
                                    "(No column name)": "4"
                                },
                                {
                                    "SZOBA_ID": "189",
                                    "(No column name)": "5"
                                },
                                {
                                    "SZOBA_ID": "72",
                                    "(No column name)": "4"
                                },
                                {
                                    "SZOBA_ID": "118",
                                    "(No column name)": "7"
                                },
                                {
                                    "SZOBA_ID": "258",
                                    "(No column name)": "1"
                                },
                                {
                                    "SZOBA_ID": "264",
                                    "(No column name)": "1"
                                },
                                {
                                    "SZOBA_ID": "281",
                                    "(No column name)": "1"
                                },
                                {
                                    "SZOBA_ID": "212",
                                    "(No column name)": "1"
                                },
                                {
                                    "SZOBA_ID": "235",
                                    "(No column name)": "1"
                                },
                                {
                                    "SZOBA_ID": "172",
                                    "(No column name)": "9"
                                },
                                {
                                    "SZOBA_ID": "78",
                                    "(No column name)": "6"
                                },
                                {
                                    "SZOBA_ID": "66",
                                    "(No column name)": "4"
                                },
                                {
                                    "SZOBA_ID": "218",
                                    "(No column name)": "1"
                                },
                                {
                                    "SZOBA_ID": "32",
                                    "(No column name)": "1"
                                },
                                {
                                    "SZOBA_ID": "229",
                                    "(No column name)": "1"
                                },
                                {
                                    "SZOBA_ID": "275",
                                    "(No column name)": "1"
                                },
                                {
                                    "SZOBA_ID": "126",
                                    "(No column name)": "6"
                                },
                                {
                                    "SZOBA_ID": "26",
                                    "(No column name)": "2"
                                },
                                {
                                    "SZOBA_ID": "272",
                                    "(No column name)": "1"
                                },
                                {
                                    "SZOBA_ID": "12",
                                    "(No column name)": "9"
                                },
                                {
                                    "SZOBA_ID": "178",
                                    "(No column name)": "4"
                                },
                                {
                                    "SZOBA_ID": "35",
                                    "(No column name)": "9"
                                },
                                {
                                    "SZOBA_ID": "129",
                                    "(No column name)": "4"
                                },
                                {
                                    "SZOBA_ID": "155",
                                    "(No column name)": "5"
                                },
                                {
                                    "SZOBA_ID": "106",
                                    "(No column name)": "6"
                                },
                                {
                                    "SZOBA_ID": "86",
                                    "(No column name)": "5"
                                },
                                {
                                    "SZOBA_ID": "135",
                                    "(No column name)": "3"
                                },
                                {
                                    "SZOBA_ID": "63",
                                    "(No column name)": "4"
                                },
                                {
                                    "SZOBA_ID": "112",
                                    "(No column name)": "5"
                                },
                                {
                                    "SZOBA_ID": "6",
                                    "(No column name)": "6"
                                },
                                {
                                    "SZOBA_ID": "255",
                                    "(No column name)": "1"
                                },
                                {
                                    "SZOBA_ID": "43",
                                    "(No column name)": "8"
                                },
                                {
                                    "SZOBA_ID": "55",
                                    "(No column name)": "8"
                                },
                                {
                                    "SZOBA_ID": "292",
                                    "(No column name)": "1"
                                },
                                {
                                    "SZOBA_ID": "241",
                                    "(No column name)": "1"
                                },
                                {
                                    "SZOBA_ID": "98",
                                    "(No column name)": "4"
                                },
                                {
                                    "SZOBA_ID": "49",
                                    "(No column name)": "7"
                                },
                                {
                                    "SZOBA_ID": "149",
                                    "(No column name)": "7"
                                },
                                {
                                    "SZOBA_ID": "198",
                                    "(No column name)": "8"
                                },
                                {
                                    "SZOBA_ID": "190",
                                    "(No column name)": "5"
                                },
                                {
                                    "SZOBA_ID": "213",
                                    "(No column name)": "1"
                                },
                                {
                                    "SZOBA_ID": "144",
                                    "(No column name)": "5"
                                },
                                {
                                    "SZOBA_ID": "167",
                                    "(No column name)": "2"
                                },
                                {
                                    "SZOBA_ID": "236",
                                    "(No column name)": "1"
                                },
                                {
                                    "SZOBA_ID": "259",
                                    "(No column name)": "1"
                                },
                                {
                                    "SZOBA_ID": "184",
                                    "(No column name)": "4"
                                },
                                {
                                    "SZOBA_ID": "113",
                                    "(No column name)": "5"
                                },
                                {
                                    "SZOBA_ID": "267",
                                    "(No column name)": "1"
                                },
                                {
                                    "SZOBA_ID": "67",
                                    "(No column name)": "6"
                                },
                                {
                                    "SZOBA_ID": "230",
                                    "(No column name)": "1"
                                },
                                {
                                    "SZOBA_ID": "21",
                                    "(No column name)": "4"
                                },
                                {
                                    "SZOBA_ID": "27",
                                    "(No column name)": "7"
                                },
                                {
                                    "SZOBA_ID": "276",
                                    "(No column name)": "1"
                                },
                                {
                                    "SZOBA_ID": "127",
                                    "(No column name)": "7"
                                },
                                {
                                    "SZOBA_ID": "121",
                                    "(No column name)": "8"
                                },
                                {
                                    "SZOBA_ID": "173",
                                    "(No column name)": "4"
                                },
                                {
                                    "SZOBA_ID": "107",
                                    "(No column name)": "5"
                                },
                                {
                                    "SZOBA_ID": "273",
                                    "(No column name)": "1"
                                },
                                {
                                    "SZOBA_ID": "250",
                                    "(No column name)": "1"
                                },
                                {
                                    "SZOBA_ID": "156",
                                    "(No column name)": "7"
                                },
                                {
                                    "SZOBA_ID": "58",
                                    "(No column name)": "13"
                                },
                                {
                                    "SZOBA_ID": "130",
                                    "(No column name)": "6"
                                },
                                {
                                    "SZOBA_ID": "81",
                                    "(No column name)": "5"
                                },
                                {
                                    "SZOBA_ID": "64",
                                    "(No column name)": "6"
                                },
                                {
                                    "SZOBA_ID": "87",
                                    "(No column name)": "5"
                                },
                                {
                                    "SZOBA_ID": "38",
                                    "(No column name)": "8"
                                },
                                {
                                    "SZOBA_ID": "101",
                                    "(No column name)": "3"
                                },
                                {
                                    "SZOBA_ID": "207",
                                    "(No column name)": "1"
                                },
                                {
                                    "SZOBA_ID": "256",
                                    "(No column name)": "1"
                                },
                                {
                                    "SZOBA_ID": "7",
                                    "(No column name)": "6"
                                },
                                {
                                    "SZOBA_ID": "44",
                                    "(No column name)": "6"
                                },
                                {
                                    "SZOBA_ID": "193",
                                    "(No column name)": "7"
                                },
                                {
                                    "SZOBA_ID": "293",
                                    "(No column name)": "1"
                                },
                                {
                                    "SZOBA_ID": "150",
                                    "(No column name)": "6"
                                },
                                {
                                    "SZOBA_ID": "1",
                                    "(No column name)": "8"
                                },
                                {
                                    "SZOBA_ID": "50",
                                    "(No column name)": "4"
                                },
                                {
                                    "SZOBA_ID": "24",
                                    "(No column name)": "3"
                                },
                                {
                                    "SZOBA_ID": "47",
                                    "(No column name)": "2"
                                },
                                {
                                    "SZOBA_ID": "141",
                                    "(No column name)": "6"
                                },
                                {
                                    "SZOBA_ID": "70",
                                    "(No column name)": "11"
                                },
                                {
                                    "SZOBA_ID": "239",
                                    "(No column name)": "1"
                                },
                                {
                                    "SZOBA_ID": "93",
                                    "(No column name)": "5"
                                },
                                {
                                    "SZOBA_ID": "216",
                                    "(No column name)": "1"
                                },
                                {
                                    "SZOBA_ID": "187",
                                    "(No column name)": "7"
                                },
                                {
                                    "SZOBA_ID": "164",
                                    "(No column name)": "5"
                                },
                                {
                                    "SZOBA_ID": "287",
                                    "(No column name)": "1"
                                },
                                {
                                    "SZOBA_ID": "233",
                                    "(No column name)": "1"
                                },
                                {
                                    "SZOBA_ID": "210",
                                    "(No column name)": "1"
                                },
                                {
                                    "SZOBA_ID": "30",
                                    "(No column name)": "3"
                                },
                                {
                                    "SZOBA_ID": "18",
                                    "(No column name)": "6"
                                },
                                {
                                    "SZOBA_ID": "279",
                                    "(No column name)": "1"
                                },
                                {
                                    "SZOBA_ID": "270",
                                    "(No column name)": "1"
                                },
                                {
                                    "SZOBA_ID": "170",
                                    "(No column name)": "5"
                                },
                                {
                                    "SZOBA_ID": "176",
                                    "(No column name)": "6"
                                },
                                {
                                    "SZOBA_ID": "224",
                                    "(No column name)": "1"
                                },
                                {
                                    "SZOBA_ID": "124",
                                    "(No column name)": "6"
                                },
                                {
                                    "SZOBA_ID": "84",
                                    "(No column name)": "4"
                                },
                                {
                                    "SZOBA_ID": "153",
                                    "(No column name)": "5"
                                },
                                {
                                    "SZOBA_ID": "227",
                                    "(No column name)": "1"
                                },
                                {
                                    "SZOBA_ID": "204",
                                    "(No column name)": "1"
                                },
                                {
                                    "SZOBA_ID": "110",
                                    "(No column name)": "8"
                                },
                                {
                                    "SZOBA_ID": "10",
                                    "(No column name)": "4"
                                },
                                {
                                    "SZOBA_ID": "133",
                                    "(No column name)": "6"
                                },
                                {
                                    "SZOBA_ID": "61",
                                    "(No column name)": "5"
                                },
                                {
                                    "SZOBA_ID": "196",
                                    "(No column name)": "4"
                                },
                                {
                                    "SZOBA_ID": "90",
                                    "(No column name)": "4"
                                },
                                {
                                    "SZOBA_ID": "41",
                                    "(No column name)": "2"
                                },
                                {
                                    "SZOBA_ID": "253",
                                    "(No column name)": "1"
                                },
                                {
                                    "SZOBA_ID": "290",
                                    "(No column name)": "1"
                                },
                                {
                                    "SZOBA_ID": "104",
                                    "(No column name)": "4"
                                },
                                {
                                    "SZOBA_ID": "4",
                                    "(No column name)": "6"
                                },
                                {
                                    "SZOBA_ID": "147",
                                    "(No column name)": "1"
                                },
                                {
                                    "SZOBA_ID": "247",
                                    "(No column name)": "1"
                                },
                                {
                                    "SZOBA_ID": "119",
                                    "(No column name)": "5"
                                },
                                {
                                    "SZOBA_ID": "96",
                                    "(No column name)": "7"
                                },
                                {
                                    "SZOBA_ID": "165",
                                    "(No column name)": "7"
                                },
                                {
                                    "SZOBA_ID": "142",
                                    "(No column name)": "2"
                                },
                                {
                                    "SZOBA_ID": "211",
                                    "(No column name)": "1"
                                },
                                {
                                    "SZOBA_ID": "282",
                                    "(No column name)": "1"
                                },
                                {
                                    "SZOBA_ID": "288",
                                    "(No column name)": "1"
                                },
                                {
                                    "SZOBA_ID": "188",
                                    "(No column name)": "6"
                                },
                                {
                                    "SZOBA_ID": "234",
                                    "(No column name)": "1"
                                },
                                {
                                    "SZOBA_ID": "125",
                                    "(No column name)": "1"
                                },
                                {
                                    "SZOBA_ID": "65",
                                    "(No column name)": "1"
                                },
                                {
                                    "SZOBA_ID": "219",
                                    "(No column name)": "1"
                                },
                                {
                                    "SZOBA_ID": "79",
                                    "(No column name)": "5"
                                },
                                {
                                    "SZOBA_ID": "19",
                                    "(No column name)": "6"
                                },
                                {
                                    "SZOBA_ID": "265",
                                    "(No column name)": "1"
                                },
                                {
                                    "SZOBA_ID": "171",
                                    "(No column name)": "5"
                                },
                                {
                                    "SZOBA_ID": "73",
                                    "(No column name)": "4"
                                },
                                {
                                    "SZOBA_ID": "25",
                                    "(No column name)": "2"
                                },
                                {
                                    "SZOBA_ID": "271",
                                    "(No column name)": "1"
                                },
                                {
                                    "SZOBA_ID": "36",
                                    "(No column name)": "6"
                                },
                                {
                                    "SZOBA_ID": "105",
                                    "(No column name)": "2"
                                },
                                {
                                    "SZOBA_ID": "179",
                                    "(No column name)": "3"
                                },
                                {
                                    "SZOBA_ID": "228",
                                    "(No column name)": "1"
                                },
                                {
                                    "SZOBA_ID": "205",
                                    "(No column name)": "1"
                                },
                                {
                                    "SZOBA_ID": "85",
                                    "(No column name)": "4"
                                },
                                {
                                    "SZOBA_ID": "136",
                                    "(No column name)": "3"
                                },
                                {
                                    "SZOBA_ID": "62",
                                    "(No column name)": "5"
                                },
                                {
                                    "SZOBA_ID": "13",
                                    "(No column name)": "4"
                                },
                                {
                                    "SZOBA_ID": "42",
                                    "(No column name)": "6"
                                },
                                {
                                    "SZOBA_ID": "291",
                                    "(No column name)": "1"
                                },
                                {
                                    "SZOBA_ID": "5",
                                    "(No column name)": "4"
                                },
                                {
                                    "SZOBA_ID": "242",
                                    "(No column name)": "1"
                                },
                                {
                                    "SZOBA_ID": "254",
                                    "(No column name)": "1"
                                },
                                {
                                    "SZOBA_ID": "56",
                                    "(No column name)": "2"
                                },
                                {
                                    "SZOBA_ID": "199",
                                    "(No column name)": "1"
                                },
                                {
                                    "SZOBA_ID": "248",
                                    "(No column name)": "1"
                                },
                                {
                                    "SZOBA_ID": "99",
                                    "(No column name)": "5"
                                },
                                {
                                    "SZOBA_ID": "148",
                                    "(No column name)": "6"
                                },
                                {
                                    "SZOBA_ID": "285",
                                    "(No column name)": "1"
                                },
                                {
                                    "SZOBA_ID": "262",
                                    "(No column name)": "1"
                                },
                                {
                                    "SZOBA_ID": "168",
                                    "(No column name)": "5"
                                },
                                {
                                    "SZOBA_ID": "191",
                                    "(No column name)": "5"
                                },
                                {
                                    "SZOBA_ID": "116",
                                    "(No column name)": "2"
                                },
                                {
                                    "SZOBA_ID": "139",
                                    "(No column name)": "7"
                                },
                                {
                                    "SZOBA_ID": "162",
                                    "(No column name)": "3"
                                },
                                {
                                    "SZOBA_ID": "185",
                                    "(No column name)": "12"
                                },
                                {
                                    "SZOBA_ID": "231",
                                    "(No column name)": "1"
                                },
                                {
                                    "SZOBA_ID": "268",
                                    "(No column name)": "1"
                                },
                                {
                                    "SZOBA_ID": "128",
                                    "(No column name)": "5"
                                },
                                {
                                    "SZOBA_ID": "122",
                                    "(No column name)": "9"
                                },
                                {
                                    "SZOBA_ID": "22",
                                    "(No column name)": "6"
                                },
                                {
                                    "SZOBA_ID": "76",
                                    "(No column name)": "3"
                                },
                                {
                                    "SZOBA_ID": "222",
                                    "(No column name)": "1"
                                },
                                {
                                    "SZOBA_ID": "202",
                                    "(No column name)": "1"
                                },
                                {
                                    "SZOBA_ID": "59",
                                    "(No column name)": "7"
                                },
                                {
                                    "SZOBA_ID": "108",
                                    "(No column name)": "2"
                                },
                                {
                                    "SZOBA_ID": "225",
                                    "(No column name)": "1"
                                },
                                {
                                    "SZOBA_ID": "274",
                                    "(No column name)": "1"
                                },
                                {
                                    "SZOBA_ID": "82",
                                    "(No column name)": "6"
                                },
                                {
                                    "SZOBA_ID": "251",
                                    "(No column name)": "1"
                                },
                                {
                                    "SZOBA_ID": "39",
                                    "(No column name)": "7"
                                },
                                {
                                    "SZOBA_ID": "33",
                                    "(No column name)": "6"
                                },
                                {
                                    "SZOBA_ID": "182",
                                    "(No column name)": "12"
                                },
                                {
                                    "SZOBA_ID": "16",
                                    "(No column name)": "5"
                                },
                                {
                                    "SZOBA_ID": "88",
                                    "(No column name)": "8"
                                },
                                {
                                    "SZOBA_ID": "159",
                                    "(No column name)": "1"
                                },
                                {
                                    "SZOBA_ID": "208",
                                    "(No column name)": "1"
                                },
                                {
                                    "SZOBA_ID": "102",
                                    "(No column name)": "2"
                                },
                                {
                                    "SZOBA_ID": "53",
                                    "(No column name)": "2"
                                },
                                {
                                    "SZOBA_ID": "45",
                                    "(No column name)": "5"
                                },
                                {
                                    "SZOBA_ID": "294",
                                    "(No column name)": "1"
                                },
                                {
                                    "SZOBA_ID": "145",
                                    "(No column name)": "6"
                                },
                                {
                                    "SZOBA_ID": "2",
                                    "(No column name)": "4"
                                },
                                {
                                    "SZOBA_ID": "245",
                                    "(No column name)": "1"
                                },
                                {
                                    "SZOBA_ID": "48",
                                    "(No column name)": "9"
                                },
                                {
                                    "SZOBA_ID": "71",
                                    "(No column name)": "3"
                                },
                                {
                                    "SZOBA_ID": "286",
                                    "(No column name)": "1"
                                },
                                {
                                    "SZOBA_ID": "94",
                                    "(No column name)": "10"
                                },
                                {
                                    "SZOBA_ID": "263",
                                    "(No column name)": "1"
                                },
                                {
                                    "SZOBA_ID": "117",
                                    "(No column name)": "8"
                                },
                                {
                                    "SZOBA_ID": "240",
                                    "(No column name)": "1"
                                },
                                {
                                    "SZOBA_ID": "140",
                                    "(No column name)": "8"
                                },
                                {
                                    "SZOBA_ID": "163",
                                    "(No column name)": "7"
                                },
                                {
                                    "SZOBA_ID": "186",
                                    "(No column name)": "4"
                                },
                                {
                                    "SZOBA_ID": "257",
                                    "(No column name)": "1"
                                },
                                {
                                    "SZOBA_ID": "77",
                                    "(No column name)": "6"
                                },
                                {
                                    "SZOBA_ID": "280",
                                    "(No column name)": "1"
                                },
                                {
                                    "SZOBA_ID": "17",
                                    "(No column name)": "6"
                                },
                                {
                                    "SZOBA_ID": "31",
                                    "(No column name)": "3"
                                },
                                {
                                    "SZOBA_ID": "217",
                                    "(No column name)": "1"
                                },
                                {
                                    "SZOBA_ID": "223",
                                    "(No column name)": "1"
                                },
                                {
                                    "SZOBA_ID": "269",
                                    "(No column name)": "1"
                                },
                                {
                                    "SZOBA_ID": "123",
                                    "(No column name)": "5"
                                },
                                {
                                    "SZOBA_ID": "60",
                                    "(No column name)": "1"
                                },
                                {
                                    "SZOBA_ID": "226",
                                    "(No column name)": "1"
                                },
                                {
                                    "SZOBA_ID": "83",
                                    "(No column name)": "8"
                                },
                                {
                                    "SZOBA_ID": "177",
                                    "(No column name)": "4"
                                },
                                {
                                    "SZOBA_ID": "154",
                                    "(No column name)": "5"
                                },
                                {
                                    "SZOBA_ID": "203",
                                    "(No column name)": "1"
                                },
                                {
                                    "SZOBA_ID": "134",
                                    "(No column name)": "6"
                                },
                                {
                                    "SZOBA_ID": "34",
                                    "(No column name)": "4"
                                },
                                {
                                    "SZOBA_ID": "40",
                                    "(No column name)": "4"
                                },
                                {
                                    "SZOBA_ID": "11",
                                    "(No column name)": "4"
                                },
                                {
                                    "SZOBA_ID": "183",
                                    "(No column name)": "4"
                                },
                                {
                                    "SZOBA_ID": "111",
                                    "(No column name)": "5"
                                },
                                {
                                    "SZOBA_ID": "160",
                                    "(No column name)": "5"
                                },
                                {
                                    "SZOBA_ID": "54",
                                    "(No column name)": "6"
                                },
                                {
                                    "SZOBA_ID": "91",
                                    "(No column name)": "4"
                                },
                                {
                                    "SZOBA_ID": "103",
                                    "(No column name)": "4"
                                },
                                {
                                    "SZOBA_ID": "289",
                                    "(No column name)": "1"
                                },
                                {
                                    "SZOBA_ID": "97",
                                    "(No column name)": "7"
                                },
                                {
                                    "SZOBA_ID": "197",
                                    "(No column name)": "6"
                                },
                                {
                                    "SZOBA_ID": "246",
                                    "(No column name)": "1"
                                },
                                {
                                    "SZOBA_ID": "143",
                                    "(No column name)": "7"
                                },
                                {
                                    "SZOBA_ID": "214",
                                    "(No column name)": "1"
                                },
                                {
                                    "SZOBA_ID": "120",
                                    "(No column name)": "6"
                                },
                                {
                                    "SZOBA_ID": "237",
                                    "(No column name)": "1"
                                },
                                {
                                    "SZOBA_ID": "166",
                                    "(No column name)": "3"
                                },
                                {
                                    "SZOBA_ID": "260",
                                    "(No column name)": "1"
                                },
                                {
                                    "SZOBA_ID": "283",
                                    "(No column name)": "1"
                                },
                                {
                                    "SZOBA_ID": "220",
                                    "(No column name)": "1"
                                },
                                {
                                    "SZOBA_ID": "114",
                                    "(No column name)": "4"
                                },
                                {
                                    "SZOBA_ID": "20",
                                    "(No column name)": "5"
                                },
                                {
                                    "SZOBA_ID": "266",
                                    "(No column name)": "1"
                                },
                                {
                                    "SZOBA_ID": "68",
                                    "(No column name)": "3"
                                },
                                {
                                    "SZOBA_ID": "80",
                                    "(No column name)": "7"
                                },
                                {
                                    "SZOBA_ID": "277",
                                    "(No column name)": "1"
                                },
                                {
                                    "SZOBA_ID": "28",
                                    "(No column name)": "6"
                                },
                                {
                                    "SZOBA_ID": "174",
                                    "(No column name)": "4"
                                },
                                {
                                    "SZOBA_ID": "74",
                                    "(No column name)": "9"
                                },
                                {
                                    "SZOBA_ID": "131",
                                    "(No column name)": "5"
                                },
                                {
                                    "SZOBA_ID": "249",
                                    "(No column name)": "1"
                                },
                                {
                                    "SZOBA_ID": "180",
                                    "(No column name)": "3"
                                },
                                {
                                    "SZOBA_ID": "57",
                                    "(No column name)": "4"
                                },
                                {
                                    "SZOBA_ID": "157",
                                    "(No column name)": "5"
                                },
                                {
                                    "SZOBA_ID": "206",
                                    "(No column name)": "1"
                                },
                                {
                                    "SZOBA_ID": "14",
                                    "(No column name)": "3"
                                },
                                {
                                    "SZOBA_ID": "37",
                                    "(No column name)": "3"
                                },
                                {
                                    "SZOBA_ID": "137",
                                    "(No column name)": "6"
                                },
                                {
                                    "SZOBA_ID": "243",
                                    "(No column name)": "1"
                                },
                                {
                                    "SZOBA_ID": "8",
                                    "(No column name)": "5"
                                },
                                {
                                    "SZOBA_ID": "51",
                                    "(No column name)": "5"
                                },
                                {
                                    "SZOBA_ID": "151",
                                    "(No column name)": "3"
                                },
                                {
                                    "SZOBA_ID": "194",
                                    "(No column name)": "1"
                                },
                                {
                                    "SZOBA_ID": "200",
                                    "(No column name)": "1"
                                },
                                {
                                    "SZOBA_ID": "100",
                                    "(No column name)": "4"
                                }
                            ]
                        },
                        "text/html": [
                            "<table>",
                            "<tr><th>SZOBA_ID</th><th>(No column name)</th></tr>",
                            "<tr><td>261</td><td>1</td></tr>",
                            "<tr><td>23</td><td>3</td></tr>",
                            "<tr><td>238</td><td>1</td></tr>",
                            "<tr><td>46</td><td>4</td></tr>",
                            "<tr><td>215</td><td>1</td></tr>",
                            "<tr><td>192</td><td>2</td></tr>",
                            "<tr><td>69</td><td>4</td></tr>",
                            "<tr><td>92</td><td>6</td></tr>",
                            "<tr><td>115</td><td>7</td></tr>",
                            "<tr><td>138</td><td>7</td></tr>",
                            "<tr><td>209</td><td>1</td></tr>",
                            "<tr><td>161</td><td>6</td></tr>",
                            "<tr><td>284</td><td>1</td></tr>",
                            "<tr><td>29</td><td>6</td></tr>",
                            "<tr><td>232</td><td>1</td></tr>",
                            "<tr><td>278</td><td>1</td></tr>",
                            "<tr><td>169</td><td>6</td></tr>",
                            "<tr><td>175</td><td>5</td></tr>",
                            "<tr><td>221</td><td>1</td></tr>",
                            "<tr><td>75</td><td>3</td></tr>",
                            "<tr><td>201</td><td>1</td></tr>",
                            "<tr><td>132</td><td>6</td></tr>",
                            "<tr><td>9</td><td>6</td></tr>",
                            "<tr><td>181</td><td>6</td></tr>",
                            "<tr><td>15</td><td>6</td></tr>",
                            "<tr><td>109</td><td>7</td></tr>",
                            "<tr><td>158</td><td>3</td></tr>",
                            "<tr><td>89</td><td>8</td></tr>",
                            "<tr><td>195</td><td>6</td></tr>",
                            "<tr><td>244</td><td>1</td></tr>",
                            "<tr><td>3</td><td>8</td></tr>",
                            "<tr><td>252</td><td>1</td></tr>",
                            "<tr><td>146</td><td>6</td></tr>",
                            "<tr><td>152</td><td>4</td></tr>",
                            "<tr><td>52</td><td>5</td></tr>",
                            "<tr><td>95</td><td>4</td></tr>",
                            "<tr><td>189</td><td>5</td></tr>",
                            "<tr><td>72</td><td>4</td></tr>",
                            "<tr><td>118</td><td>7</td></tr>",
                            "<tr><td>258</td><td>1</td></tr>",
                            "<tr><td>264</td><td>1</td></tr>",
                            "<tr><td>281</td><td>1</td></tr>",
                            "<tr><td>212</td><td>1</td></tr>",
                            "<tr><td>235</td><td>1</td></tr>",
                            "<tr><td>172</td><td>9</td></tr>",
                            "<tr><td>78</td><td>6</td></tr>",
                            "<tr><td>66</td><td>4</td></tr>",
                            "<tr><td>218</td><td>1</td></tr>",
                            "<tr><td>32</td><td>1</td></tr>",
                            "<tr><td>229</td><td>1</td></tr>",
                            "<tr><td>275</td><td>1</td></tr>",
                            "<tr><td>126</td><td>6</td></tr>",
                            "<tr><td>26</td><td>2</td></tr>",
                            "<tr><td>272</td><td>1</td></tr>",
                            "<tr><td>12</td><td>9</td></tr>",
                            "<tr><td>178</td><td>4</td></tr>",
                            "<tr><td>35</td><td>9</td></tr>",
                            "<tr><td>129</td><td>4</td></tr>",
                            "<tr><td>155</td><td>5</td></tr>",
                            "<tr><td>106</td><td>6</td></tr>",
                            "<tr><td>86</td><td>5</td></tr>",
                            "<tr><td>135</td><td>3</td></tr>",
                            "<tr><td>63</td><td>4</td></tr>",
                            "<tr><td>112</td><td>5</td></tr>",
                            "<tr><td>6</td><td>6</td></tr>",
                            "<tr><td>255</td><td>1</td></tr>",
                            "<tr><td>43</td><td>8</td></tr>",
                            "<tr><td>55</td><td>8</td></tr>",
                            "<tr><td>292</td><td>1</td></tr>",
                            "<tr><td>241</td><td>1</td></tr>",
                            "<tr><td>98</td><td>4</td></tr>",
                            "<tr><td>49</td><td>7</td></tr>",
                            "<tr><td>149</td><td>7</td></tr>",
                            "<tr><td>198</td><td>8</td></tr>",
                            "<tr><td>190</td><td>5</td></tr>",
                            "<tr><td>213</td><td>1</td></tr>",
                            "<tr><td>144</td><td>5</td></tr>",
                            "<tr><td>167</td><td>2</td></tr>",
                            "<tr><td>236</td><td>1</td></tr>",
                            "<tr><td>259</td><td>1</td></tr>",
                            "<tr><td>184</td><td>4</td></tr>",
                            "<tr><td>113</td><td>5</td></tr>",
                            "<tr><td>267</td><td>1</td></tr>",
                            "<tr><td>67</td><td>6</td></tr>",
                            "<tr><td>230</td><td>1</td></tr>",
                            "<tr><td>21</td><td>4</td></tr>",
                            "<tr><td>27</td><td>7</td></tr>",
                            "<tr><td>276</td><td>1</td></tr>",
                            "<tr><td>127</td><td>7</td></tr>",
                            "<tr><td>121</td><td>8</td></tr>",
                            "<tr><td>173</td><td>4</td></tr>",
                            "<tr><td>107</td><td>5</td></tr>",
                            "<tr><td>273</td><td>1</td></tr>",
                            "<tr><td>250</td><td>1</td></tr>",
                            "<tr><td>156</td><td>7</td></tr>",
                            "<tr><td>58</td><td>13</td></tr>",
                            "<tr><td>130</td><td>6</td></tr>",
                            "<tr><td>81</td><td>5</td></tr>",
                            "<tr><td>64</td><td>6</td></tr>",
                            "<tr><td>87</td><td>5</td></tr>",
                            "<tr><td>38</td><td>8</td></tr>",
                            "<tr><td>101</td><td>3</td></tr>",
                            "<tr><td>207</td><td>1</td></tr>",
                            "<tr><td>256</td><td>1</td></tr>",
                            "<tr><td>7</td><td>6</td></tr>",
                            "<tr><td>44</td><td>6</td></tr>",
                            "<tr><td>193</td><td>7</td></tr>",
                            "<tr><td>293</td><td>1</td></tr>",
                            "<tr><td>150</td><td>6</td></tr>",
                            "<tr><td>1</td><td>8</td></tr>",
                            "<tr><td>50</td><td>4</td></tr>",
                            "<tr><td>24</td><td>3</td></tr>",
                            "<tr><td>47</td><td>2</td></tr>",
                            "<tr><td>141</td><td>6</td></tr>",
                            "<tr><td>70</td><td>11</td></tr>",
                            "<tr><td>239</td><td>1</td></tr>",
                            "<tr><td>93</td><td>5</td></tr>",
                            "<tr><td>216</td><td>1</td></tr>",
                            "<tr><td>187</td><td>7</td></tr>",
                            "<tr><td>164</td><td>5</td></tr>",
                            "<tr><td>287</td><td>1</td></tr>",
                            "<tr><td>233</td><td>1</td></tr>",
                            "<tr><td>210</td><td>1</td></tr>",
                            "<tr><td>30</td><td>3</td></tr>",
                            "<tr><td>18</td><td>6</td></tr>",
                            "<tr><td>279</td><td>1</td></tr>",
                            "<tr><td>270</td><td>1</td></tr>",
                            "<tr><td>170</td><td>5</td></tr>",
                            "<tr><td>176</td><td>6</td></tr>",
                            "<tr><td>224</td><td>1</td></tr>",
                            "<tr><td>124</td><td>6</td></tr>",
                            "<tr><td>84</td><td>4</td></tr>",
                            "<tr><td>153</td><td>5</td></tr>",
                            "<tr><td>227</td><td>1</td></tr>",
                            "<tr><td>204</td><td>1</td></tr>",
                            "<tr><td>110</td><td>8</td></tr>",
                            "<tr><td>10</td><td>4</td></tr>",
                            "<tr><td>133</td><td>6</td></tr>",
                            "<tr><td>61</td><td>5</td></tr>",
                            "<tr><td>196</td><td>4</td></tr>",
                            "<tr><td>90</td><td>4</td></tr>",
                            "<tr><td>41</td><td>2</td></tr>",
                            "<tr><td>253</td><td>1</td></tr>",
                            "<tr><td>290</td><td>1</td></tr>",
                            "<tr><td>104</td><td>4</td></tr>",
                            "<tr><td>4</td><td>6</td></tr>",
                            "<tr><td>147</td><td>1</td></tr>",
                            "<tr><td>247</td><td>1</td></tr>",
                            "<tr><td>119</td><td>5</td></tr>",
                            "<tr><td>96</td><td>7</td></tr>",
                            "<tr><td>165</td><td>7</td></tr>",
                            "<tr><td>142</td><td>2</td></tr>",
                            "<tr><td>211</td><td>1</td></tr>",
                            "<tr><td>282</td><td>1</td></tr>",
                            "<tr><td>288</td><td>1</td></tr>",
                            "<tr><td>188</td><td>6</td></tr>",
                            "<tr><td>234</td><td>1</td></tr>",
                            "<tr><td>125</td><td>1</td></tr>",
                            "<tr><td>65</td><td>1</td></tr>",
                            "<tr><td>219</td><td>1</td></tr>",
                            "<tr><td>79</td><td>5</td></tr>",
                            "<tr><td>19</td><td>6</td></tr>",
                            "<tr><td>265</td><td>1</td></tr>",
                            "<tr><td>171</td><td>5</td></tr>",
                            "<tr><td>73</td><td>4</td></tr>",
                            "<tr><td>25</td><td>2</td></tr>",
                            "<tr><td>271</td><td>1</td></tr>",
                            "<tr><td>36</td><td>6</td></tr>",
                            "<tr><td>105</td><td>2</td></tr>",
                            "<tr><td>179</td><td>3</td></tr>",
                            "<tr><td>228</td><td>1</td></tr>",
                            "<tr><td>205</td><td>1</td></tr>",
                            "<tr><td>85</td><td>4</td></tr>",
                            "<tr><td>136</td><td>3</td></tr>",
                            "<tr><td>62</td><td>5</td></tr>",
                            "<tr><td>13</td><td>4</td></tr>",
                            "<tr><td>42</td><td>6</td></tr>",
                            "<tr><td>291</td><td>1</td></tr>",
                            "<tr><td>5</td><td>4</td></tr>",
                            "<tr><td>242</td><td>1</td></tr>",
                            "<tr><td>254</td><td>1</td></tr>",
                            "<tr><td>56</td><td>2</td></tr>",
                            "<tr><td>199</td><td>1</td></tr>",
                            "<tr><td>248</td><td>1</td></tr>",
                            "<tr><td>99</td><td>5</td></tr>",
                            "<tr><td>148</td><td>6</td></tr>",
                            "<tr><td>285</td><td>1</td></tr>",
                            "<tr><td>262</td><td>1</td></tr>",
                            "<tr><td>168</td><td>5</td></tr>",
                            "<tr><td>191</td><td>5</td></tr>",
                            "<tr><td>116</td><td>2</td></tr>",
                            "<tr><td>139</td><td>7</td></tr>",
                            "<tr><td>162</td><td>3</td></tr>",
                            "<tr><td>185</td><td>12</td></tr>",
                            "<tr><td>231</td><td>1</td></tr>",
                            "<tr><td>268</td><td>1</td></tr>",
                            "<tr><td>128</td><td>5</td></tr>",
                            "<tr><td>122</td><td>9</td></tr>",
                            "<tr><td>22</td><td>6</td></tr>",
                            "<tr><td>76</td><td>3</td></tr>",
                            "<tr><td>222</td><td>1</td></tr>",
                            "<tr><td>202</td><td>1</td></tr>",
                            "<tr><td>59</td><td>7</td></tr>",
                            "<tr><td>108</td><td>2</td></tr>",
                            "<tr><td>225</td><td>1</td></tr>",
                            "<tr><td>274</td><td>1</td></tr>",
                            "<tr><td>82</td><td>6</td></tr>",
                            "<tr><td>251</td><td>1</td></tr>",
                            "<tr><td>39</td><td>7</td></tr>",
                            "<tr><td>33</td><td>6</td></tr>",
                            "<tr><td>182</td><td>12</td></tr>",
                            "<tr><td>16</td><td>5</td></tr>",
                            "<tr><td>88</td><td>8</td></tr>",
                            "<tr><td>159</td><td>1</td></tr>",
                            "<tr><td>208</td><td>1</td></tr>",
                            "<tr><td>102</td><td>2</td></tr>",
                            "<tr><td>53</td><td>2</td></tr>",
                            "<tr><td>45</td><td>5</td></tr>",
                            "<tr><td>294</td><td>1</td></tr>",
                            "<tr><td>145</td><td>6</td></tr>",
                            "<tr><td>2</td><td>4</td></tr>",
                            "<tr><td>245</td><td>1</td></tr>",
                            "<tr><td>48</td><td>9</td></tr>",
                            "<tr><td>71</td><td>3</td></tr>",
                            "<tr><td>286</td><td>1</td></tr>",
                            "<tr><td>94</td><td>10</td></tr>",
                            "<tr><td>263</td><td>1</td></tr>",
                            "<tr><td>117</td><td>8</td></tr>",
                            "<tr><td>240</td><td>1</td></tr>",
                            "<tr><td>140</td><td>8</td></tr>",
                            "<tr><td>163</td><td>7</td></tr>",
                            "<tr><td>186</td><td>4</td></tr>",
                            "<tr><td>257</td><td>1</td></tr>",
                            "<tr><td>77</td><td>6</td></tr>",
                            "<tr><td>280</td><td>1</td></tr>",
                            "<tr><td>17</td><td>6</td></tr>",
                            "<tr><td>31</td><td>3</td></tr>",
                            "<tr><td>217</td><td>1</td></tr>",
                            "<tr><td>223</td><td>1</td></tr>",
                            "<tr><td>269</td><td>1</td></tr>",
                            "<tr><td>123</td><td>5</td></tr>",
                            "<tr><td>60</td><td>1</td></tr>",
                            "<tr><td>226</td><td>1</td></tr>",
                            "<tr><td>83</td><td>8</td></tr>",
                            "<tr><td>177</td><td>4</td></tr>",
                            "<tr><td>154</td><td>5</td></tr>",
                            "<tr><td>203</td><td>1</td></tr>",
                            "<tr><td>134</td><td>6</td></tr>",
                            "<tr><td>34</td><td>4</td></tr>",
                            "<tr><td>40</td><td>4</td></tr>",
                            "<tr><td>11</td><td>4</td></tr>",
                            "<tr><td>183</td><td>4</td></tr>",
                            "<tr><td>111</td><td>5</td></tr>",
                            "<tr><td>160</td><td>5</td></tr>",
                            "<tr><td>54</td><td>6</td></tr>",
                            "<tr><td>91</td><td>4</td></tr>",
                            "<tr><td>103</td><td>4</td></tr>",
                            "<tr><td>289</td><td>1</td></tr>",
                            "<tr><td>97</td><td>7</td></tr>",
                            "<tr><td>197</td><td>6</td></tr>",
                            "<tr><td>246</td><td>1</td></tr>",
                            "<tr><td>143</td><td>7</td></tr>",
                            "<tr><td>214</td><td>1</td></tr>",
                            "<tr><td>120</td><td>6</td></tr>",
                            "<tr><td>237</td><td>1</td></tr>",
                            "<tr><td>166</td><td>3</td></tr>",
                            "<tr><td>260</td><td>1</td></tr>",
                            "<tr><td>283</td><td>1</td></tr>",
                            "<tr><td>220</td><td>1</td></tr>",
                            "<tr><td>114</td><td>4</td></tr>",
                            "<tr><td>20</td><td>5</td></tr>",
                            "<tr><td>266</td><td>1</td></tr>",
                            "<tr><td>68</td><td>3</td></tr>",
                            "<tr><td>80</td><td>7</td></tr>",
                            "<tr><td>277</td><td>1</td></tr>",
                            "<tr><td>28</td><td>6</td></tr>",
                            "<tr><td>174</td><td>4</td></tr>",
                            "<tr><td>74</td><td>9</td></tr>",
                            "<tr><td>131</td><td>5</td></tr>",
                            "<tr><td>249</td><td>1</td></tr>",
                            "<tr><td>180</td><td>3</td></tr>",
                            "<tr><td>57</td><td>4</td></tr>",
                            "<tr><td>157</td><td>5</td></tr>",
                            "<tr><td>206</td><td>1</td></tr>",
                            "<tr><td>14</td><td>3</td></tr>",
                            "<tr><td>37</td><td>3</td></tr>",
                            "<tr><td>137</td><td>6</td></tr>",
                            "<tr><td>243</td><td>1</td></tr>",
                            "<tr><td>8</td><td>5</td></tr>",
                            "<tr><td>51</td><td>5</td></tr>",
                            "<tr><td>151</td><td>3</td></tr>",
                            "<tr><td>194</td><td>1</td></tr>",
                            "<tr><td>200</td><td>1</td></tr>",
                            "<tr><td>100</td><td>4</td></tr>",
                            "</table>"
                        ]
                    }
                }
            ],
            "execution_count": 3
        },
        {
            "cell_type": "code",
            "source": [
                "SELECT SZALLAS_ID, SZALLAS_NEV\r\n",
                "FROM Szallashely sz\r\n",
                "WHERE SZALLAS_ID IN(\r\n",
                "    SELECT SZALLAS_ID from Szallashely\r\n",
                "    WHERE CSILLAGOK_SZAMA = (\r\n",
                "        SELECT MAX(CSILLAGOK_SZAMA) FROM Szallashely\r\n",
                "        WHERE HELY = sz.HELY\r\n",
                "    )\r\n",
                "\r\n",
                ")"
            ],
            "metadata": {
                "language": "sql",
                "azdata_cell_guid": "6be6c350-8c38-467b-8fdb-ab59af4253b5"
            },
            "outputs": [
                {
                    "output_type": "display_data",
                    "data": {
                        "text/html": "(11 rows affected)"
                    },
                    "metadata": {}
                },
                {
                    "output_type": "display_data",
                    "data": {
                        "text/html": "Total execution time: 00:00:00.004"
                    },
                    "metadata": {}
                },
                {
                    "output_type": "execute_result",
                    "metadata": {},
                    "execution_count": 6,
                    "data": {
                        "application/vnd.dataresource+json": {
                            "schema": {
                                "fields": [
                                    {
                                        "name": "SZALLAS_ID"
                                    },
                                    {
                                        "name": "SZALLAS_NEV"
                                    }
                                ]
                            },
                            "data": [
                                {
                                    "SZALLAS_ID": "3",
                                    "SZALLAS_NEV": "Fortuna Apartman"
                                },
                                {
                                    "SZALLAS_ID": "5",
                                    "SZALLAS_NEV": "Fortuna Panzió"
                                },
                                {
                                    "SZALLAS_ID": "8",
                                    "SZALLAS_NEV": "Hotel Három Hattyú"
                                },
                                {
                                    "SZALLAS_ID": "10",
                                    "SZALLAS_NEV": "Lagúna Hotel"
                                },
                                {
                                    "SZALLAS_ID": "11",
                                    "SZALLAS_NEV": "Partiszél Vendégház"
                                },
                                {
                                    "SZALLAS_ID": "13",
                                    "SZALLAS_NEV": "Riviéra Panzió"
                                },
                                {
                                    "SZALLAS_ID": "16",
                                    "SZALLAS_NEV": "Bagoly Hotel"
                                },
                                {
                                    "SZALLAS_ID": "17",
                                    "SZALLAS_NEV": "Szarvas Hotel"
                                },
                                {
                                    "SZALLAS_ID": "18",
                                    "SZALLAS_NEV": "Fortuna Apartman"
                                },
                                {
                                    "SZALLAS_ID": "19",
                                    "SZALLAS_NEV": "Nyárfás Vendégház"
                                },
                                {
                                    "SZALLAS_ID": "21",
                                    "SZALLAS_NEV": "Müller Vendégház"
                                }
                            ]
                        },
                        "text/html": [
                            "<table>",
                            "<tr><th>SZALLAS_ID</th><th>SZALLAS_NEV</th></tr>",
                            "<tr><td>3</td><td>Fortuna Apartman</td></tr>",
                            "<tr><td>5</td><td>Fortuna Panzió</td></tr>",
                            "<tr><td>8</td><td>Hotel Három Hattyú</td></tr>",
                            "<tr><td>10</td><td>Lagúna Hotel</td></tr>",
                            "<tr><td>11</td><td>Partiszél Vendégház</td></tr>",
                            "<tr><td>13</td><td>Riviéra Panzió</td></tr>",
                            "<tr><td>16</td><td>Bagoly Hotel</td></tr>",
                            "<tr><td>17</td><td>Szarvas Hotel</td></tr>",
                            "<tr><td>18</td><td>Fortuna Apartman</td></tr>",
                            "<tr><td>19</td><td>Nyárfás Vendégház</td></tr>",
                            "<tr><td>21</td><td>Müller Vendégház</td></tr>",
                            "</table>"
                        ]
                    }
                }
            ],
            "execution_count": 6
        },
        {
            "cell_type": "code",
            "source": [
                "SELECT v.usernev, v.nev, COUNT(*) as 'Foglalások száma',\r\n",
                "    RANK() OVER (ORDER BY Count(*) DESC) AS 'Helyezés'\r\n",
                "FROM VENDEG v \r\n",
                "    INNER JOIN Foglalas f ON f.UGYFEL_FK = v.USERNEV\r\n",
                "GROUP BY v.usernev, v.nev;"
            ],
            "metadata": {
                "language": "sql",
                "azdata_cell_guid": "9f4542ef-481d-41a7-95f5-c25a425d448d"
            },
            "outputs": [
                {
                    "output_type": "display_data",
                    "data": {
                        "text/html": "(195 rows affected)"
                    },
                    "metadata": {}
                },
                {
                    "output_type": "display_data",
                    "data": {
                        "text/html": "Total execution time: 00:00:00.013"
                    },
                    "metadata": {}
                },
                {
                    "output_type": "execute_result",
                    "metadata": {},
                    "execution_count": 24,
                    "data": {
                        "application/vnd.dataresource+json": {
                            "schema": {
                                "fields": [
                                    {
                                        "name": "usernev"
                                    },
                                    {
                                        "name": "nev"
                                    },
                                    {
                                        "name": "Foglalások száma"
                                    },
                                    {
                                        "name": "Helyezés"
                                    }
                                ]
                            },
                            "data": [
                                {
                                    "usernev": "andras41",
                                    "nev": "Komjáti András",
                                    "Foglalások száma": "13",
                                    "Helyezés": "1"
                                },
                                {
                                    "usernev": "ARONK",
                                    "nev": "Kelemen Áron",
                                    "Foglalások száma": "13",
                                    "Helyezés": "1"
                                },
                                {
                                    "usernev": "krisztian4",
                                    "nev": "Czérna Krisztián",
                                    "Foglalások száma": "12",
                                    "Helyezés": "3"
                                },
                                {
                                    "usernev": "peter4",
                                    "nev": "Bíró Péter",
                                    "Foglalások száma": "12",
                                    "Helyezés": "3"
                                },
                                {
                                    "usernev": "sara",
                                    "nev": "Farkas Sára",
                                    "Foglalások száma": "12",
                                    "Helyezés": "3"
                                },
                                {
                                    "usernev": "zoltan4",
                                    "nev": "Barna Zoltán",
                                    "Foglalások száma": "12",
                                    "Helyezés": "3"
                                },
                                {
                                    "usernev": "kata",
                                    "nev": "Gondos Katalin",
                                    "Foglalások száma": "10",
                                    "Helyezés": "7"
                                },
                                {
                                    "usernev": "akos",
                                    "nev": "Bíró Ákos",
                                    "Foglalások száma": "10",
                                    "Helyezés": "7"
                                },
                                {
                                    "usernev": "balazs2",
                                    "nev": "Szűcs Balázs",
                                    "Foglalások száma": "10",
                                    "Helyezés": "7"
                                },
                                {
                                    "usernev": "balint1",
                                    "nev": "Molnár Bálint",
                                    "Foglalások száma": "10",
                                    "Helyezés": "7"
                                },
                                {
                                    "usernev": "eszter2",
                                    "nev": "Balogh Eszter",
                                    "Foglalások száma": "10",
                                    "Helyezés": "7"
                                },
                                {
                                    "usernev": "dani",
                                    "nev": "Vörös Dániel",
                                    "Foglalások száma": "9",
                                    "Helyezés": "12"
                                },
                                {
                                    "usernev": "daniel",
                                    "nev": "Rácz Dániel",
                                    "Foglalások száma": "9",
                                    "Helyezés": "12"
                                },
                                {
                                    "usernev": "david",
                                    "nev": "Ambrus Dávid",
                                    "Foglalások száma": "9",
                                    "Helyezés": "12"
                                },
                                {
                                    "usernev": "BEATRIXK",
                                    "nev": "Kerényi Beatrix",
                                    "Foglalások száma": "9",
                                    "Helyezés": "12"
                                },
                                {
                                    "usernev": "bence",
                                    "nev": "Győrffy Bence",
                                    "Foglalások száma": "9",
                                    "Helyezés": "12"
                                },
                                {
                                    "usernev": "ANIKOS",
                                    "nev": "Simon Anikó",
                                    "Foglalások száma": "9",
                                    "Helyezés": "12"
                                },
                                {
                                    "usernev": "katalin",
                                    "nev": "Horváth Katalin",
                                    "Foglalások száma": "9",
                                    "Helyezés": "12"
                                },
                                {
                                    "usernev": "katka",
                                    "nev": "Kovács Katalin",
                                    "Foglalások száma": "9",
                                    "Helyezés": "12"
                                },
                                {
                                    "usernev": "norbert4",
                                    "nev": "Mile Norbert",
                                    "Foglalások száma": "9",
                                    "Helyezés": "12"
                                },
                                {
                                    "usernev": "szilvia1",
                                    "nev": "Tari Szilvia",
                                    "Foglalások száma": "9",
                                    "Helyezés": "12"
                                },
                                {
                                    "usernev": "TAMASF",
                                    "nev": "Fényes Tamás",
                                    "Foglalások száma": "9",
                                    "Helyezés": "12"
                                },
                                {
                                    "usernev": "tunde",
                                    "nev": "Turcsik Tünde",
                                    "Foglalások száma": "8",
                                    "Helyezés": "23"
                                },
                                {
                                    "usernev": "ROBERTI",
                                    "nev": "Iván Róbert",
                                    "Foglalások száma": "8",
                                    "Helyezés": "23"
                                },
                                {
                                    "usernev": "MATYASS",
                                    "nev": "Szilágyi Mátyás",
                                    "Foglalások száma": "8",
                                    "Helyezés": "23"
                                },
                                {
                                    "usernev": "krisztina",
                                    "nev": "Szedlár Krisztina",
                                    "Foglalások száma": "8",
                                    "Helyezés": "23"
                                },
                                {
                                    "usernev": "maria1",
                                    "nev": "Baráth Mária",
                                    "Foglalások száma": "8",
                                    "Helyezés": "23"
                                },
                                {
                                    "usernev": "fruzsina4",
                                    "nev": "Frank Fruzsina",
                                    "Foglalások száma": "8",
                                    "Helyezés": "23"
                                },
                                {
                                    "usernev": "GYORGYO",
                                    "nev": "Oroszi György",
                                    "Foglalások száma": "8",
                                    "Helyezés": "23"
                                },
                                {
                                    "usernev": "anett3",
                                    "nev": "Pivarcsi Anett",
                                    "Foglalások száma": "8",
                                    "Helyezés": "23"
                                },
                                {
                                    "usernev": "andras3",
                                    "nev": "Vígh András",
                                    "Foglalások száma": "8",
                                    "Helyezés": "23"
                                },
                                {
                                    "usernev": "bernadett2",
                                    "nev": "Kovács Bernadett",
                                    "Foglalások száma": "8",
                                    "Helyezés": "23"
                                },
                                {
                                    "usernev": "csongor3",
                                    "nev": "Nagymihály Csongor",
                                    "Foglalások száma": "8",
                                    "Helyezés": "23"
                                },
                                {
                                    "usernev": "daniel1",
                                    "nev": "Keszler Dániel",
                                    "Foglalások száma": "7",
                                    "Helyezés": "34"
                                },
                                {
                                    "usernev": "edit",
                                    "nev": "Bittmann Edit",
                                    "Foglalások száma": "7",
                                    "Helyezés": "34"
                                },
                                {
                                    "usernev": "emese",
                                    "nev": "Kuruc Emese",
                                    "Foglalások száma": "7",
                                    "Helyezés": "34"
                                },
                                {
                                    "usernev": "BERNADETTO",
                                    "nev": "Orbán Bernadett",
                                    "Foglalások száma": "7",
                                    "Helyezés": "34"
                                },
                                {
                                    "usernev": "bernadett1",
                                    "nev": "Simon Bernadett",
                                    "Foglalások száma": "7",
                                    "Helyezés": "34"
                                },
                                {
                                    "usernev": "alexandra",
                                    "nev": "Bagóczki Alexandra",
                                    "Foglalások száma": "7",
                                    "Helyezés": "34"
                                },
                                {
                                    "usernev": "andras21",
                                    "nev": "Molnár András",
                                    "Foglalások száma": "7",
                                    "Helyezés": "34"
                                },
                                {
                                    "usernev": "arpad2",
                                    "nev": "Ötvös Árpád",
                                    "Foglalások száma": "7",
                                    "Helyezés": "34"
                                },
                                {
                                    "usernev": "ARPADH",
                                    "nev": "Horváth Árpád",
                                    "Foglalások száma": "7",
                                    "Helyezés": "34"
                                },
                                {
                                    "usernev": "imre1",
                                    "nev": "Papp Imre",
                                    "Foglalások száma": "7",
                                    "Helyezés": "34"
                                },
                                {
                                    "usernev": "GYONGYIK",
                                    "nev": "Kornseé Gyöngyi",
                                    "Foglalások száma": "7",
                                    "Helyezés": "34"
                                },
                                {
                                    "usernev": "kati",
                                    "nev": "Zatykó Katalin",
                                    "Foglalások száma": "7",
                                    "Helyezés": "34"
                                },
                                {
                                    "usernev": "JANOSG",
                                    "nev": "Giliga János",
                                    "Foglalások száma": "7",
                                    "Helyezés": "34"
                                },
                                {
                                    "usernev": "JOZSEFG",
                                    "nev": "Gyuris József",
                                    "Foglalások száma": "7",
                                    "Helyezés": "34"
                                },
                                {
                                    "usernev": "marton",
                                    "nev": "Kalacsi Márton",
                                    "Foglalások száma": "7",
                                    "Helyezés": "34"
                                },
                                {
                                    "usernev": "nikoletta4",
                                    "nev": "Kő Nikoletta",
                                    "Foglalások száma": "7",
                                    "Helyezés": "34"
                                },
                                {
                                    "usernev": "norbert2",
                                    "nev": "Hegedűs Norbert",
                                    "Foglalások száma": "7",
                                    "Helyezés": "34"
                                },
                                {
                                    "usernev": "SZABOLCSM",
                                    "nev": "Miklós Szabolcs",
                                    "Foglalások száma": "7",
                                    "Helyezés": "34"
                                },
                                {
                                    "usernev": "SZILARDS",
                                    "nev": "Szalai Szilárd",
                                    "Foglalások száma": "7",
                                    "Helyezés": "34"
                                },
                                {
                                    "usernev": "vivien3",
                                    "nev": "Boros Vivien",
                                    "Foglalások száma": "7",
                                    "Helyezés": "34"
                                },
                                {
                                    "usernev": "ZSOLTJ",
                                    "nev": "Józsa Zsolt",
                                    "Foglalások száma": "6",
                                    "Helyezés": "54"
                                },
                                {
                                    "usernev": "ZOLTANP",
                                    "nev": "Pintér Zoltán",
                                    "Foglalások száma": "6",
                                    "Helyezés": "54"
                                },
                                {
                                    "usernev": "ZSUZSAV",
                                    "nev": "Vajda Zsuzsa",
                                    "Foglalások száma": "6",
                                    "Helyezés": "54"
                                },
                                {
                                    "usernev": "veronika4",
                                    "nev": "Tankó Veronika",
                                    "Foglalások száma": "6",
                                    "Helyezés": "54"
                                },
                                {
                                    "usernev": "tihamer",
                                    "nev": "Kazy Tihamér",
                                    "Foglalások száma": "6",
                                    "Helyezés": "54"
                                },
                                {
                                    "usernev": "RENATAK",
                                    "nev": "Kardos Renáta",
                                    "Foglalások száma": "6",
                                    "Helyezés": "54"
                                },
                                {
                                    "usernev": "polla",
                                    "nev": "Palágyi Polla",
                                    "Foglalások száma": "6",
                                    "Helyezés": "54"
                                },
                                {
                                    "usernev": "peter3",
                                    "nev": "Szalai Péter",
                                    "Foglalások száma": "6",
                                    "Helyezés": "54"
                                },
                                {
                                    "usernev": "MONIKAM",
                                    "nev": "Mohos Mónika",
                                    "Foglalások száma": "6",
                                    "Helyezés": "54"
                                },
                                {
                                    "usernev": "kriszti",
                                    "nev": "Horváth Krisztina",
                                    "Foglalások száma": "6",
                                    "Helyezés": "54"
                                },
                                {
                                    "usernev": "LASZLON",
                                    "nev": "Nagy László",
                                    "Foglalások száma": "6",
                                    "Helyezés": "54"
                                },
                                {
                                    "usernev": "krisztina1",
                                    "nev": "Bori Krisztina",
                                    "Foglalások száma": "6",
                                    "Helyezés": "54"
                                },
                                {
                                    "usernev": "KRISZTIANM",
                                    "nev": "Mogyródi Krisztián",
                                    "Foglalások száma": "6",
                                    "Helyezés": "54"
                                },
                                {
                                    "usernev": "lala",
                                    "nev": "Nagymihály Lajos",
                                    "Foglalások száma": "6",
                                    "Helyezés": "54"
                                },
                                {
                                    "usernev": "katalin4",
                                    "nev": "Kertész Katalin",
                                    "Foglalások száma": "6",
                                    "Helyezés": "54"
                                },
                                {
                                    "usernev": "gabor1",
                                    "nev": "Köves Gábor",
                                    "Foglalások száma": "6",
                                    "Helyezés": "54"
                                },
                                {
                                    "usernev": "gabriella1",
                                    "nev": "Nagy Gabriella",
                                    "Foglalások száma": "6",
                                    "Helyezés": "54"
                                },
                                {
                                    "usernev": "ARPADM",
                                    "nev": "Móricz Árpád",
                                    "Foglalások száma": "6",
                                    "Helyezés": "54"
                                },
                                {
                                    "usernev": "ANNAMARIAR",
                                    "nev": "Regős Annamária",
                                    "Foglalások száma": "6",
                                    "Helyezés": "54"
                                },
                                {
                                    "usernev": "aron2",
                                    "nev": "Jakab Áron",
                                    "Foglalások száma": "6",
                                    "Helyezés": "54"
                                },
                                {
                                    "usernev": "attila1",
                                    "nev": "Gulyás Attila",
                                    "Foglalások száma": "6",
                                    "Helyezés": "54"
                                },
                                {
                                    "usernev": "andrea",
                                    "nev": "Kiss Andrea",
                                    "Foglalások száma": "6",
                                    "Helyezés": "54"
                                },
                                {
                                    "usernev": "AGNESH",
                                    "nev": "Horváth Ágnes",
                                    "Foglalások száma": "6",
                                    "Helyezés": "54"
                                },
                                {
                                    "usernev": "adam4",
                                    "nev": "Bieniek Ádám",
                                    "Foglalások száma": "6",
                                    "Helyezés": "54"
                                },
                                {
                                    "usernev": "beata4",
                                    "nev": "Bagi Beáta",
                                    "Foglalások száma": "6",
                                    "Helyezés": "54"
                                },
                                {
                                    "usernev": "BENCEB",
                                    "nev": "Bajusz Bence",
                                    "Foglalások száma": "6",
                                    "Helyezés": "54"
                                },
                                {
                                    "usernev": "bertalan",
                                    "nev": "Csiger Bertalan",
                                    "Foglalások száma": "6",
                                    "Helyezés": "54"
                                },
                                {
                                    "usernev": "BEATRIXS",
                                    "nev": "Szekendi Beatrix",
                                    "Foglalások száma": "6",
                                    "Helyezés": "54"
                                },
                                {
                                    "usernev": "BELAF",
                                    "nev": "Farkas Béla",
                                    "Foglalások száma": "6",
                                    "Helyezés": "54"
                                },
                                {
                                    "usernev": "balazs3",
                                    "nev": "Bakódy Balázs",
                                    "Foglalások száma": "6",
                                    "Helyezés": "54"
                                },
                                {
                                    "usernev": "balazs1",
                                    "nev": "Bozsik Balázs",
                                    "Foglalások száma": "6",
                                    "Helyezés": "54"
                                },
                                {
                                    "usernev": "david1",
                                    "nev": "Sobják Dávid",
                                    "Foglalások száma": "6",
                                    "Helyezés": "54"
                                },
                                {
                                    "usernev": "denes",
                                    "nev": "Tömböly Dénes",
                                    "Foglalások száma": "6",
                                    "Helyezés": "54"
                                },
                                {
                                    "usernev": "dora3",
                                    "nev": "Sarodi Dóra",
                                    "Foglalások száma": "5",
                                    "Helyezés": "87"
                                },
                                {
                                    "usernev": "EVAV",
                                    "nev": "Viktor Éva",
                                    "Foglalások száma": "5",
                                    "Helyezés": "87"
                                },
                                {
                                    "usernev": "brigitta",
                                    "nev": "Székely Brigitta",
                                    "Foglalások száma": "5",
                                    "Helyezés": "87"
                                },
                                {
                                    "usernev": "brigitta3",
                                    "nev": "Pataki Brigitta",
                                    "Foglalások száma": "5",
                                    "Helyezés": "87"
                                },
                                {
                                    "usernev": "agnes",
                                    "nev": "Lengyel Ágnes",
                                    "Foglalások száma": "5",
                                    "Helyezés": "87"
                                },
                                {
                                    "usernev": "ANDRASE",
                                    "nev": "Erdei András",
                                    "Foglalások száma": "5",
                                    "Helyezés": "87"
                                },
                                {
                                    "usernev": "andi",
                                    "nev": "Maródi Andrea",
                                    "Foglalások száma": "5",
                                    "Helyezés": "87"
                                },
                                {
                                    "usernev": "andras2",
                                    "nev": "Tóth András",
                                    "Foglalások száma": "5",
                                    "Helyezés": "87"
                                },
                                {
                                    "usernev": "gusztav",
                                    "nev": "Bárci Gusztáv",
                                    "Foglalások száma": "5",
                                    "Helyezés": "87"
                                },
                                {
                                    "usernev": "julia",
                                    "nev": "Tóth Júlia",
                                    "Foglalások száma": "5",
                                    "Helyezés": "87"
                                },
                                {
                                    "usernev": "janos3",
                                    "nev": "Harangozó János",
                                    "Foglalások száma": "5",
                                    "Helyezés": "87"
                                },
                                {
                                    "usernev": "jozsef2",
                                    "nev": "Vajda József",
                                    "Foglalások száma": "5",
                                    "Helyezés": "87"
                                },
                                {
                                    "usernev": "KRISZTINAG",
                                    "nev": "Gyárfás Krisztina",
                                    "Foglalások száma": "5",
                                    "Helyezés": "87"
                                },
                                {
                                    "usernev": "laszlo2",
                                    "nev": "Móra László",
                                    "Foglalások száma": "5",
                                    "Helyezés": "87"
                                },
                                {
                                    "usernev": "mark",
                                    "nev": "Kispál Márk",
                                    "Foglalások száma": "5",
                                    "Helyezés": "87"
                                },
                                {
                                    "usernev": "MIHALYJ",
                                    "nev": "Juhász Mihály",
                                    "Foglalások száma": "5",
                                    "Helyezés": "87"
                                },
                                {
                                    "usernev": "pal",
                                    "nev": "Barabás Pál",
                                    "Foglalások száma": "5",
                                    "Helyezés": "87"
                                },
                                {
                                    "usernev": "norbert",
                                    "nev": "Szűcs Norbert",
                                    "Foglalások száma": "5",
                                    "Helyezés": "87"
                                },
                                {
                                    "usernev": "PETERB",
                                    "nev": "Berendi Péter",
                                    "Foglalások száma": "5",
                                    "Helyezés": "87"
                                },
                                {
                                    "usernev": "RENATAS",
                                    "nev": "Szirmai Renáta",
                                    "Foglalások száma": "5",
                                    "Helyezés": "87"
                                },
                                {
                                    "usernev": "SEBASTIANF",
                                    "nev": "Foltényi Sebastián",
                                    "Foglalások száma": "5",
                                    "Helyezés": "87"
                                },
                                {
                                    "usernev": "reka4",
                                    "nev": "Szikszai Réka",
                                    "Foglalások száma": "5",
                                    "Helyezés": "87"
                                },
                                {
                                    "usernev": "timea2",
                                    "nev": "Dusha Tímea",
                                    "Foglalások száma": "5",
                                    "Helyezés": "87"
                                },
                                {
                                    "usernev": "valentin",
                                    "nev": "Feró Valentin",
                                    "Foglalások száma": "5",
                                    "Helyezés": "87"
                                },
                                {
                                    "usernev": "sandor3",
                                    "nev": "Farkas Sándor",
                                    "Foglalások száma": "5",
                                    "Helyezés": "87"
                                },
                                {
                                    "usernev": "sandor4",
                                    "nev": "Nagy Sándor",
                                    "Foglalások száma": "4",
                                    "Helyezés": "112"
                                },
                                {
                                    "usernev": "VIKTORIAU",
                                    "nev": "Urbán Viktoria",
                                    "Foglalások száma": "4",
                                    "Helyezés": "112"
                                },
                                {
                                    "usernev": "tamas",
                                    "nev": "Antal Tamás",
                                    "Foglalások száma": "4",
                                    "Helyezés": "112"
                                },
                                {
                                    "usernev": "sandor",
                                    "nev": "Karasz Sándor",
                                    "Foglalások száma": "4",
                                    "Helyezés": "112"
                                },
                                {
                                    "usernev": "roland",
                                    "nev": "Tóth Roland",
                                    "Foglalások száma": "4",
                                    "Helyezés": "112"
                                },
                                {
                                    "usernev": "roland1",
                                    "nev": "Ferencz Roland",
                                    "Foglalások száma": "4",
                                    "Helyezés": "112"
                                },
                                {
                                    "usernev": "sebestyen",
                                    "nev": "Rab Sebestyén",
                                    "Foglalások száma": "4",
                                    "Helyezés": "112"
                                },
                                {
                                    "usernev": "robert2",
                                    "nev": "Patay Róbert",
                                    "Foglalások száma": "4",
                                    "Helyezés": "112"
                                },
                                {
                                    "usernev": "rajmond4",
                                    "nev": "Rácz Rajmond",
                                    "Foglalások száma": "4",
                                    "Helyezés": "112"
                                },
                                {
                                    "usernev": "zsolt1",
                                    "nev": "Pulai Zsolt",
                                    "Foglalások száma": "4",
                                    "Helyezés": "112"
                                },
                                {
                                    "usernev": "zsuzsa3",
                                    "nev": "Varsányi Zsuzsa",
                                    "Foglalások száma": "4",
                                    "Helyezés": "112"
                                },
                                {
                                    "usernev": "zsuzsanna",
                                    "nev": "Barta Zsuzsanna",
                                    "Foglalások száma": "4",
                                    "Helyezés": "112"
                                },
                                {
                                    "usernev": "nikolett3",
                                    "nev": "Horváth Nikolett",
                                    "Foglalások száma": "4",
                                    "Helyezés": "112"
                                },
                                {
                                    "usernev": "peter1",
                                    "nev": "Kozma Péter",
                                    "Foglalások száma": "4",
                                    "Helyezés": "112"
                                },
                                {
                                    "usernev": "peter2",
                                    "nev": "Bozsó Péter",
                                    "Foglalások száma": "4",
                                    "Helyezés": "112"
                                },
                                {
                                    "usernev": "NIKOLETTAT",
                                    "nev": "Tatár Nikoletta",
                                    "Foglalások száma": "4",
                                    "Helyezés": "112"
                                },
                                {
                                    "usernev": "MARKH",
                                    "nev": "Horváth Márk",
                                    "Foglalások száma": "4",
                                    "Helyezés": "112"
                                },
                                {
                                    "usernev": "LASZLOA",
                                    "nev": "Antal László",
                                    "Foglalások száma": "4",
                                    "Helyezés": "112"
                                },
                                {
                                    "usernev": "JANOSP",
                                    "nev": "Pálinkás János",
                                    "Foglalások száma": "4",
                                    "Helyezés": "112"
                                },
                                {
                                    "usernev": "julianna4",
                                    "nev": "Szabó Julianna",
                                    "Foglalások száma": "4",
                                    "Helyezés": "112"
                                },
                                {
                                    "usernev": "eva2",
                                    "nev": "Perlinger Éva",
                                    "Foglalások száma": "4",
                                    "Helyezés": "112"
                                },
                                {
                                    "usernev": "georgij",
                                    "nev": "Nyíri Georgij",
                                    "Foglalások száma": "4",
                                    "Helyezés": "112"
                                },
                                {
                                    "usernev": "gabor4",
                                    "nev": "Telek Gábor",
                                    "Foglalások száma": "4",
                                    "Helyezés": "112"
                                },
                                {
                                    "usernev": "istvan1",
                                    "nev": "Vizi István",
                                    "Foglalások száma": "4",
                                    "Helyezés": "112"
                                },
                                {
                                    "usernev": "ilona3",
                                    "nev": "Bosnyák Ilona",
                                    "Foglalások száma": "4",
                                    "Helyezés": "112"
                                },
                                {
                                    "usernev": "aniko4",
                                    "nev": "Böröcz Anikó",
                                    "Foglalások száma": "4",
                                    "Helyezés": "112"
                                },
                                {
                                    "usernev": "anita",
                                    "nev": "Hamvay-Kovács Anita",
                                    "Foglalások száma": "4",
                                    "Helyezés": "112"
                                },
                                {
                                    "usernev": "andrea4",
                                    "nev": "Neizer Andrea",
                                    "Foglalások száma": "4",
                                    "Helyezés": "112"
                                },
                                {
                                    "usernev": "ATTILAO",
                                    "nev": "Opra Attila",
                                    "Foglalások száma": "4",
                                    "Helyezés": "112"
                                },
                                {
                                    "usernev": "ferenc1",
                                    "nev": "Orosz Ferenc",
                                    "Foglalások száma": "4",
                                    "Helyezés": "112"
                                },
                                {
                                    "usernev": "ESZTERE",
                                    "nev": "Érsek Eszter",
                                    "Foglalások száma": "4",
                                    "Helyezés": "112"
                                },
                                {
                                    "usernev": "eszter",
                                    "nev": "Molnár Eszter",
                                    "Foglalások száma": "4",
                                    "Helyezés": "112"
                                },
                                {
                                    "usernev": "debora",
                                    "nev": "Barna Debóra",
                                    "Foglalások száma": "4",
                                    "Helyezés": "112"
                                },
                                {
                                    "usernev": "eszter4",
                                    "nev": "Fülöp Eszter",
                                    "Foglalások száma": "3",
                                    "Helyezés": "145"
                                },
                                {
                                    "usernev": "balint",
                                    "nev": "Horváth Bálint",
                                    "Foglalások száma": "3",
                                    "Helyezés": "145"
                                },
                                {
                                    "usernev": "ANDREAT",
                                    "nev": "Tornyos Andrea",
                                    "Foglalások száma": "3",
                                    "Helyezés": "145"
                                },
                                {
                                    "usernev": "aniko",
                                    "nev": "Tóth Anikó",
                                    "Foglalások száma": "3",
                                    "Helyezés": "145"
                                },
                                {
                                    "usernev": "attila4",
                                    "nev": "Baróti Attila",
                                    "Foglalások száma": "3",
                                    "Helyezés": "145"
                                },
                                {
                                    "usernev": "attila",
                                    "nev": "Csóti Attila",
                                    "Foglalások száma": "3",
                                    "Helyezés": "145"
                                },
                                {
                                    "usernev": "andras4",
                                    "nev": "Back András",
                                    "Foglalások száma": "3",
                                    "Helyezés": "145"
                                },
                                {
                                    "usernev": "agnes3",
                                    "nev": "Hartyánszky Ágnes",
                                    "Foglalások száma": "3",
                                    "Helyezés": "145"
                                },
                                {
                                    "usernev": "adam1",
                                    "nev": "Kiss Ádám",
                                    "Foglalások száma": "3",
                                    "Helyezés": "145"
                                },
                                {
                                    "usernev": "AGNESK",
                                    "nev": "Kovács Ágnes",
                                    "Foglalások száma": "3",
                                    "Helyezés": "145"
                                },
                                {
                                    "usernev": "aladar",
                                    "nev": "Dunai Aladár",
                                    "Foglalások száma": "3",
                                    "Helyezés": "145"
                                },
                                {
                                    "usernev": "henrik3",
                                    "nev": "Nádudvari Henrik",
                                    "Foglalások száma": "3",
                                    "Helyezés": "145"
                                },
                                {
                                    "usernev": "IBOLYAA",
                                    "nev": "Andor Ibolya",
                                    "Foglalások száma": "3",
                                    "Helyezés": "145"
                                },
                                {
                                    "usernev": "istvan",
                                    "nev": "Soós István",
                                    "Foglalások száma": "3",
                                    "Helyezés": "145"
                                },
                                {
                                    "usernev": "klaudia2",
                                    "nev": "Bakó Klaudia",
                                    "Foglalások száma": "3",
                                    "Helyezés": "145"
                                },
                                {
                                    "usernev": "kornel4",
                                    "nev": "Lukács Kornél",
                                    "Foglalások száma": "3",
                                    "Helyezés": "145"
                                },
                                {
                                    "usernev": "jozsef",
                                    "nev": "Gergely József",
                                    "Foglalások száma": "3",
                                    "Helyezés": "145"
                                },
                                {
                                    "usernev": "JUDITH",
                                    "nev": "Hídasi Judit",
                                    "Foglalások száma": "3",
                                    "Helyezés": "145"
                                },
                                {
                                    "usernev": "MATEK",
                                    "nev": "Koza Máté",
                                    "Foglalások száma": "3",
                                    "Helyezés": "145"
                                },
                                {
                                    "usernev": "lajos",
                                    "nev": "Kiss Lajos",
                                    "Foglalások száma": "3",
                                    "Helyezés": "145"
                                },
                                {
                                    "usernev": "NANDORF",
                                    "nev": "Fő Nándor",
                                    "Foglalások száma": "3",
                                    "Helyezés": "145"
                                },
                                {
                                    "usernev": "miklos2",
                                    "nev": "Gondos Miklós",
                                    "Foglalások száma": "3",
                                    "Helyezés": "145"
                                },
                                {
                                    "usernev": "MIKLOSB",
                                    "nev": "Balla Miklós",
                                    "Foglalások száma": "3",
                                    "Helyezés": "145"
                                },
                                {
                                    "usernev": "norbert5",
                                    "nev": "Béres Norbert",
                                    "Foglalások száma": "3",
                                    "Helyezés": "145"
                                },
                                {
                                    "usernev": "ZOLTANT",
                                    "nev": "Tóth Zoltán",
                                    "Foglalások száma": "3",
                                    "Helyezés": "145"
                                },
                                {
                                    "usernev": "zsuzsa",
                                    "nev": "Pusztai Zsuzsanna",
                                    "Foglalások száma": "3",
                                    "Helyezés": "145"
                                },
                                {
                                    "usernev": "roza2",
                                    "nev": "Bucskó Róza",
                                    "Foglalások száma": "3",
                                    "Helyezés": "145"
                                },
                                {
                                    "usernev": "ROBERTP",
                                    "nev": "Pásztor Róbert",
                                    "Foglalások száma": "2",
                                    "Helyezés": "172"
                                },
                                {
                                    "usernev": "VIKTORK",
                                    "nev": "Keresztúri Viktor",
                                    "Foglalások száma": "2",
                                    "Helyezés": "172"
                                },
                                {
                                    "usernev": "tibor",
                                    "nev": "Gombos Tibor",
                                    "Foglalások száma": "2",
                                    "Helyezés": "172"
                                },
                                {
                                    "usernev": "tamara2",
                                    "nev": "Miklós Tamara",
                                    "Foglalások száma": "2",
                                    "Helyezés": "172"
                                },
                                {
                                    "usernev": "zoltan",
                                    "nev": "Fodor Zoltán",
                                    "Foglalások száma": "2",
                                    "Helyezés": "172"
                                },
                                {
                                    "usernev": "zsofi1",
                                    "nev": "Molnár Zsófi",
                                    "Foglalások száma": "2",
                                    "Helyezés": "172"
                                },
                                {
                                    "usernev": "matyas2",
                                    "nev": "Botka Mátyás",
                                    "Foglalások száma": "2",
                                    "Helyezés": "172"
                                },
                                {
                                    "usernev": "julia4",
                                    "nev": "Nagy Júlia",
                                    "Foglalások száma": "2",
                                    "Helyezés": "172"
                                },
                                {
                                    "usernev": "kristof4",
                                    "nev": "Poprádi Kristóf",
                                    "Foglalások száma": "2",
                                    "Helyezés": "172"
                                },
                                {
                                    "usernev": "ISTVANV",
                                    "nev": "Varga István",
                                    "Foglalások száma": "2",
                                    "Helyezés": "172"
                                },
                                {
                                    "usernev": "imre",
                                    "nev": "Búza Imre",
                                    "Foglalások száma": "2",
                                    "Helyezés": "172"
                                },
                                {
                                    "usernev": "adam3",
                                    "nev": "Barkóci Ádám",
                                    "Foglalások száma": "2",
                                    "Helyezés": "172"
                                },
                                {
                                    "usernev": "annamaria1",
                                    "nev": "Szűcs Annamária",
                                    "Foglalások száma": "2",
                                    "Helyezés": "172"
                                },
                                {
                                    "usernev": "balint2",
                                    "nev": "Vukasinovity Bálint",
                                    "Foglalások száma": "2",
                                    "Helyezés": "172"
                                },
                                {
                                    "usernev": "balu",
                                    "nev": "Endresz Bálint",
                                    "Foglalások száma": "2",
                                    "Helyezés": "172"
                                },
                                {
                                    "usernev": "eva",
                                    "nev": "Enyedi Éva",
                                    "Foglalások száma": "2",
                                    "Helyezés": "172"
                                },
                                {
                                    "usernev": "david4",
                                    "nev": "Berta Dávid",
                                    "Foglalások száma": "1",
                                    "Helyezés": "188"
                                },
                                {
                                    "usernev": "ANDRASN",
                                    "nev": "Nagy András",
                                    "Foglalások száma": "1",
                                    "Helyezés": "188"
                                },
                                {
                                    "usernev": "andrea3",
                                    "nev": "Szomor Andrea",
                                    "Foglalások száma": "1",
                                    "Helyezés": "188"
                                },
                                {
                                    "usernev": "gabriella10",
                                    "nev": "Vida Gabriella",
                                    "Foglalások száma": "1",
                                    "Helyezés": "188"
                                },
                                {
                                    "usernev": "laszlo1",
                                    "nev": "Farkas László",
                                    "Foglalások száma": "1",
                                    "Helyezés": "188"
                                },
                                {
                                    "usernev": "tibor2",
                                    "nev": "Dániel Tibor",
                                    "Foglalások száma": "1",
                                    "Helyezés": "188"
                                },
                                {
                                    "usernev": "timea",
                                    "nev": "Papós Tímea",
                                    "Foglalások száma": "1",
                                    "Helyezés": "188"
                                },
                                {
                                    "usernev": "szabolcs",
                                    "nev": "Bodor Szabolcs",
                                    "Foglalások száma": "1",
                                    "Helyezés": "188"
                                }
                            ]
                        },
                        "text/html": [
                            "<table>",
                            "<tr><th>usernev</th><th>nev</th><th>Foglalások száma</th><th>Helyezés</th></tr>",
                            "<tr><td>andras41</td><td>Komjáti András</td><td>13</td><td>1</td></tr>",
                            "<tr><td>ARONK</td><td>Kelemen Áron</td><td>13</td><td>1</td></tr>",
                            "<tr><td>krisztian4</td><td>Czérna Krisztián</td><td>12</td><td>3</td></tr>",
                            "<tr><td>peter4</td><td>Bíró Péter</td><td>12</td><td>3</td></tr>",
                            "<tr><td>sara</td><td>Farkas Sára</td><td>12</td><td>3</td></tr>",
                            "<tr><td>zoltan4</td><td>Barna Zoltán</td><td>12</td><td>3</td></tr>",
                            "<tr><td>kata</td><td>Gondos Katalin</td><td>10</td><td>7</td></tr>",
                            "<tr><td>akos</td><td>Bíró Ákos</td><td>10</td><td>7</td></tr>",
                            "<tr><td>balazs2</td><td>Szűcs Balázs</td><td>10</td><td>7</td></tr>",
                            "<tr><td>balint1</td><td>Molnár Bálint</td><td>10</td><td>7</td></tr>",
                            "<tr><td>eszter2</td><td>Balogh Eszter</td><td>10</td><td>7</td></tr>",
                            "<tr><td>dani</td><td>Vörös Dániel</td><td>9</td><td>12</td></tr>",
                            "<tr><td>daniel</td><td>Rácz Dániel</td><td>9</td><td>12</td></tr>",
                            "<tr><td>david</td><td>Ambrus Dávid</td><td>9</td><td>12</td></tr>",
                            "<tr><td>BEATRIXK</td><td>Kerényi Beatrix</td><td>9</td><td>12</td></tr>",
                            "<tr><td>bence</td><td>Győrffy Bence</td><td>9</td><td>12</td></tr>",
                            "<tr><td>ANIKOS</td><td>Simon Anikó</td><td>9</td><td>12</td></tr>",
                            "<tr><td>katalin</td><td>Horváth Katalin</td><td>9</td><td>12</td></tr>",
                            "<tr><td>katka</td><td>Kovács Katalin</td><td>9</td><td>12</td></tr>",
                            "<tr><td>norbert4</td><td>Mile Norbert</td><td>9</td><td>12</td></tr>",
                            "<tr><td>szilvia1</td><td>Tari Szilvia</td><td>9</td><td>12</td></tr>",
                            "<tr><td>TAMASF</td><td>Fényes Tamás</td><td>9</td><td>12</td></tr>",
                            "<tr><td>tunde</td><td>Turcsik Tünde</td><td>8</td><td>23</td></tr>",
                            "<tr><td>ROBERTI</td><td>Iván Róbert</td><td>8</td><td>23</td></tr>",
                            "<tr><td>MATYASS</td><td>Szilágyi Mátyás</td><td>8</td><td>23</td></tr>",
                            "<tr><td>krisztina</td><td>Szedlár Krisztina</td><td>8</td><td>23</td></tr>",
                            "<tr><td>maria1</td><td>Baráth Mária</td><td>8</td><td>23</td></tr>",
                            "<tr><td>fruzsina4</td><td>Frank Fruzsina</td><td>8</td><td>23</td></tr>",
                            "<tr><td>GYORGYO</td><td>Oroszi György</td><td>8</td><td>23</td></tr>",
                            "<tr><td>anett3</td><td>Pivarcsi Anett</td><td>8</td><td>23</td></tr>",
                            "<tr><td>andras3</td><td>Vígh András</td><td>8</td><td>23</td></tr>",
                            "<tr><td>bernadett2</td><td>Kovács Bernadett</td><td>8</td><td>23</td></tr>",
                            "<tr><td>csongor3</td><td>Nagymihály Csongor</td><td>8</td><td>23</td></tr>",
                            "<tr><td>daniel1</td><td>Keszler Dániel</td><td>7</td><td>34</td></tr>",
                            "<tr><td>edit</td><td>Bittmann Edit</td><td>7</td><td>34</td></tr>",
                            "<tr><td>emese</td><td>Kuruc Emese</td><td>7</td><td>34</td></tr>",
                            "<tr><td>BERNADETTO</td><td>Orbán Bernadett</td><td>7</td><td>34</td></tr>",
                            "<tr><td>bernadett1</td><td>Simon Bernadett</td><td>7</td><td>34</td></tr>",
                            "<tr><td>alexandra</td><td>Bagóczki Alexandra</td><td>7</td><td>34</td></tr>",
                            "<tr><td>andras21</td><td>Molnár András</td><td>7</td><td>34</td></tr>",
                            "<tr><td>arpad2</td><td>Ötvös Árpád</td><td>7</td><td>34</td></tr>",
                            "<tr><td>ARPADH</td><td>Horváth Árpád</td><td>7</td><td>34</td></tr>",
                            "<tr><td>imre1</td><td>Papp Imre</td><td>7</td><td>34</td></tr>",
                            "<tr><td>GYONGYIK</td><td>Kornseé Gyöngyi</td><td>7</td><td>34</td></tr>",
                            "<tr><td>kati</td><td>Zatykó Katalin</td><td>7</td><td>34</td></tr>",
                            "<tr><td>JANOSG</td><td>Giliga János</td><td>7</td><td>34</td></tr>",
                            "<tr><td>JOZSEFG</td><td>Gyuris József</td><td>7</td><td>34</td></tr>",
                            "<tr><td>marton</td><td>Kalacsi Márton</td><td>7</td><td>34</td></tr>",
                            "<tr><td>nikoletta4</td><td>Kő Nikoletta</td><td>7</td><td>34</td></tr>",
                            "<tr><td>norbert2</td><td>Hegedűs Norbert</td><td>7</td><td>34</td></tr>",
                            "<tr><td>SZABOLCSM</td><td>Miklós Szabolcs</td><td>7</td><td>34</td></tr>",
                            "<tr><td>SZILARDS</td><td>Szalai Szilárd</td><td>7</td><td>34</td></tr>",
                            "<tr><td>vivien3</td><td>Boros Vivien</td><td>7</td><td>34</td></tr>",
                            "<tr><td>ZSOLTJ</td><td>Józsa Zsolt</td><td>6</td><td>54</td></tr>",
                            "<tr><td>ZOLTANP</td><td>Pintér Zoltán</td><td>6</td><td>54</td></tr>",
                            "<tr><td>ZSUZSAV</td><td>Vajda Zsuzsa</td><td>6</td><td>54</td></tr>",
                            "<tr><td>veronika4</td><td>Tankó Veronika</td><td>6</td><td>54</td></tr>",
                            "<tr><td>tihamer</td><td>Kazy Tihamér</td><td>6</td><td>54</td></tr>",
                            "<tr><td>RENATAK</td><td>Kardos Renáta</td><td>6</td><td>54</td></tr>",
                            "<tr><td>polla</td><td>Palágyi Polla</td><td>6</td><td>54</td></tr>",
                            "<tr><td>peter3</td><td>Szalai Péter</td><td>6</td><td>54</td></tr>",
                            "<tr><td>MONIKAM</td><td>Mohos Mónika</td><td>6</td><td>54</td></tr>",
                            "<tr><td>kriszti</td><td>Horváth Krisztina</td><td>6</td><td>54</td></tr>",
                            "<tr><td>LASZLON</td><td>Nagy László</td><td>6</td><td>54</td></tr>",
                            "<tr><td>krisztina1</td><td>Bori Krisztina</td><td>6</td><td>54</td></tr>",
                            "<tr><td>KRISZTIANM</td><td>Mogyródi Krisztián</td><td>6</td><td>54</td></tr>",
                            "<tr><td>lala</td><td>Nagymihály Lajos</td><td>6</td><td>54</td></tr>",
                            "<tr><td>katalin4</td><td>Kertész Katalin</td><td>6</td><td>54</td></tr>",
                            "<tr><td>gabor1</td><td>Köves Gábor</td><td>6</td><td>54</td></tr>",
                            "<tr><td>gabriella1</td><td>Nagy Gabriella</td><td>6</td><td>54</td></tr>",
                            "<tr><td>ARPADM</td><td>Móricz Árpád</td><td>6</td><td>54</td></tr>",
                            "<tr><td>ANNAMARIAR</td><td>Regős Annamária</td><td>6</td><td>54</td></tr>",
                            "<tr><td>aron2</td><td>Jakab Áron</td><td>6</td><td>54</td></tr>",
                            "<tr><td>attila1</td><td>Gulyás Attila</td><td>6</td><td>54</td></tr>",
                            "<tr><td>andrea</td><td>Kiss Andrea</td><td>6</td><td>54</td></tr>",
                            "<tr><td>AGNESH</td><td>Horváth Ágnes</td><td>6</td><td>54</td></tr>",
                            "<tr><td>adam4</td><td>Bieniek Ádám</td><td>6</td><td>54</td></tr>",
                            "<tr><td>beata4</td><td>Bagi Beáta</td><td>6</td><td>54</td></tr>",
                            "<tr><td>BENCEB</td><td>Bajusz Bence</td><td>6</td><td>54</td></tr>",
                            "<tr><td>bertalan</td><td>Csiger Bertalan</td><td>6</td><td>54</td></tr>",
                            "<tr><td>BEATRIXS</td><td>Szekendi Beatrix</td><td>6</td><td>54</td></tr>",
                            "<tr><td>BELAF</td><td>Farkas Béla</td><td>6</td><td>54</td></tr>",
                            "<tr><td>balazs3</td><td>Bakódy Balázs</td><td>6</td><td>54</td></tr>",
                            "<tr><td>balazs1</td><td>Bozsik Balázs</td><td>6</td><td>54</td></tr>",
                            "<tr><td>david1</td><td>Sobják Dávid</td><td>6</td><td>54</td></tr>",
                            "<tr><td>denes</td><td>Tömböly Dénes</td><td>6</td><td>54</td></tr>",
                            "<tr><td>dora3</td><td>Sarodi Dóra</td><td>5</td><td>87</td></tr>",
                            "<tr><td>EVAV</td><td>Viktor Éva</td><td>5</td><td>87</td></tr>",
                            "<tr><td>brigitta</td><td>Székely Brigitta</td><td>5</td><td>87</td></tr>",
                            "<tr><td>brigitta3</td><td>Pataki Brigitta</td><td>5</td><td>87</td></tr>",
                            "<tr><td>agnes</td><td>Lengyel Ágnes</td><td>5</td><td>87</td></tr>",
                            "<tr><td>ANDRASE</td><td>Erdei András</td><td>5</td><td>87</td></tr>",
                            "<tr><td>andi</td><td>Maródi Andrea</td><td>5</td><td>87</td></tr>",
                            "<tr><td>andras2</td><td>Tóth András</td><td>5</td><td>87</td></tr>",
                            "<tr><td>gusztav</td><td>Bárci Gusztáv</td><td>5</td><td>87</td></tr>",
                            "<tr><td>julia</td><td>Tóth Júlia</td><td>5</td><td>87</td></tr>",
                            "<tr><td>janos3</td><td>Harangozó János</td><td>5</td><td>87</td></tr>",
                            "<tr><td>jozsef2</td><td>Vajda József</td><td>5</td><td>87</td></tr>",
                            "<tr><td>KRISZTINAG</td><td>Gyárfás Krisztina</td><td>5</td><td>87</td></tr>",
                            "<tr><td>laszlo2</td><td>Móra László</td><td>5</td><td>87</td></tr>",
                            "<tr><td>mark</td><td>Kispál Márk</td><td>5</td><td>87</td></tr>",
                            "<tr><td>MIHALYJ</td><td>Juhász Mihály</td><td>5</td><td>87</td></tr>",
                            "<tr><td>pal</td><td>Barabás Pál</td><td>5</td><td>87</td></tr>",
                            "<tr><td>norbert</td><td>Szűcs Norbert</td><td>5</td><td>87</td></tr>",
                            "<tr><td>PETERB</td><td>Berendi Péter</td><td>5</td><td>87</td></tr>",
                            "<tr><td>RENATAS</td><td>Szirmai Renáta</td><td>5</td><td>87</td></tr>",
                            "<tr><td>SEBASTIANF</td><td>Foltényi Sebastián</td><td>5</td><td>87</td></tr>",
                            "<tr><td>reka4</td><td>Szikszai Réka</td><td>5</td><td>87</td></tr>",
                            "<tr><td>timea2</td><td>Dusha Tímea</td><td>5</td><td>87</td></tr>",
                            "<tr><td>valentin</td><td>Feró Valentin</td><td>5</td><td>87</td></tr>",
                            "<tr><td>sandor3</td><td>Farkas Sándor</td><td>5</td><td>87</td></tr>",
                            "<tr><td>sandor4</td><td>Nagy Sándor</td><td>4</td><td>112</td></tr>",
                            "<tr><td>VIKTORIAU</td><td>Urbán Viktoria</td><td>4</td><td>112</td></tr>",
                            "<tr><td>tamas</td><td>Antal Tamás</td><td>4</td><td>112</td></tr>",
                            "<tr><td>sandor</td><td>Karasz Sándor</td><td>4</td><td>112</td></tr>",
                            "<tr><td>roland</td><td>Tóth Roland</td><td>4</td><td>112</td></tr>",
                            "<tr><td>roland1</td><td>Ferencz Roland</td><td>4</td><td>112</td></tr>",
                            "<tr><td>sebestyen</td><td>Rab Sebestyén</td><td>4</td><td>112</td></tr>",
                            "<tr><td>robert2</td><td>Patay Róbert</td><td>4</td><td>112</td></tr>",
                            "<tr><td>rajmond4</td><td>Rácz Rajmond</td><td>4</td><td>112</td></tr>",
                            "<tr><td>zsolt1</td><td>Pulai Zsolt</td><td>4</td><td>112</td></tr>",
                            "<tr><td>zsuzsa3</td><td>Varsányi Zsuzsa</td><td>4</td><td>112</td></tr>",
                            "<tr><td>zsuzsanna</td><td>Barta Zsuzsanna</td><td>4</td><td>112</td></tr>",
                            "<tr><td>nikolett3</td><td>Horváth Nikolett</td><td>4</td><td>112</td></tr>",
                            "<tr><td>peter1</td><td>Kozma Péter</td><td>4</td><td>112</td></tr>",
                            "<tr><td>peter2</td><td>Bozsó Péter</td><td>4</td><td>112</td></tr>",
                            "<tr><td>NIKOLETTAT</td><td>Tatár Nikoletta</td><td>4</td><td>112</td></tr>",
                            "<tr><td>MARKH</td><td>Horváth Márk</td><td>4</td><td>112</td></tr>",
                            "<tr><td>LASZLOA</td><td>Antal László</td><td>4</td><td>112</td></tr>",
                            "<tr><td>JANOSP</td><td>Pálinkás János</td><td>4</td><td>112</td></tr>",
                            "<tr><td>julianna4</td><td>Szabó Julianna</td><td>4</td><td>112</td></tr>",
                            "<tr><td>eva2</td><td>Perlinger Éva</td><td>4</td><td>112</td></tr>",
                            "<tr><td>georgij</td><td>Nyíri Georgij</td><td>4</td><td>112</td></tr>",
                            "<tr><td>gabor4</td><td>Telek Gábor</td><td>4</td><td>112</td></tr>",
                            "<tr><td>istvan1</td><td>Vizi István</td><td>4</td><td>112</td></tr>",
                            "<tr><td>ilona3</td><td>Bosnyák Ilona</td><td>4</td><td>112</td></tr>",
                            "<tr><td>aniko4</td><td>Böröcz Anikó</td><td>4</td><td>112</td></tr>",
                            "<tr><td>anita</td><td>Hamvay-Kovács Anita</td><td>4</td><td>112</td></tr>",
                            "<tr><td>andrea4</td><td>Neizer Andrea</td><td>4</td><td>112</td></tr>",
                            "<tr><td>ATTILAO</td><td>Opra Attila</td><td>4</td><td>112</td></tr>",
                            "<tr><td>ferenc1</td><td>Orosz Ferenc</td><td>4</td><td>112</td></tr>",
                            "<tr><td>ESZTERE</td><td>Érsek Eszter</td><td>4</td><td>112</td></tr>",
                            "<tr><td>eszter</td><td>Molnár Eszter</td><td>4</td><td>112</td></tr>",
                            "<tr><td>debora</td><td>Barna Debóra</td><td>4</td><td>112</td></tr>",
                            "<tr><td>eszter4</td><td>Fülöp Eszter</td><td>3</td><td>145</td></tr>",
                            "<tr><td>balint</td><td>Horváth Bálint</td><td>3</td><td>145</td></tr>",
                            "<tr><td>ANDREAT</td><td>Tornyos Andrea</td><td>3</td><td>145</td></tr>",
                            "<tr><td>aniko</td><td>Tóth Anikó</td><td>3</td><td>145</td></tr>",
                            "<tr><td>attila4</td><td>Baróti Attila</td><td>3</td><td>145</td></tr>",
                            "<tr><td>attila</td><td>Csóti Attila</td><td>3</td><td>145</td></tr>",
                            "<tr><td>andras4</td><td>Back András</td><td>3</td><td>145</td></tr>",
                            "<tr><td>agnes3</td><td>Hartyánszky Ágnes</td><td>3</td><td>145</td></tr>",
                            "<tr><td>adam1</td><td>Kiss Ádám</td><td>3</td><td>145</td></tr>",
                            "<tr><td>AGNESK</td><td>Kovács Ágnes</td><td>3</td><td>145</td></tr>",
                            "<tr><td>aladar</td><td>Dunai Aladár</td><td>3</td><td>145</td></tr>",
                            "<tr><td>henrik3</td><td>Nádudvari Henrik</td><td>3</td><td>145</td></tr>",
                            "<tr><td>IBOLYAA</td><td>Andor Ibolya</td><td>3</td><td>145</td></tr>",
                            "<tr><td>istvan</td><td>Soós István</td><td>3</td><td>145</td></tr>",
                            "<tr><td>klaudia2</td><td>Bakó Klaudia</td><td>3</td><td>145</td></tr>",
                            "<tr><td>kornel4</td><td>Lukács Kornél</td><td>3</td><td>145</td></tr>",
                            "<tr><td>jozsef</td><td>Gergely József</td><td>3</td><td>145</td></tr>",
                            "<tr><td>JUDITH</td><td>Hídasi Judit</td><td>3</td><td>145</td></tr>",
                            "<tr><td>MATEK</td><td>Koza Máté</td><td>3</td><td>145</td></tr>",
                            "<tr><td>lajos</td><td>Kiss Lajos</td><td>3</td><td>145</td></tr>",
                            "<tr><td>NANDORF</td><td>Fő Nándor</td><td>3</td><td>145</td></tr>",
                            "<tr><td>miklos2</td><td>Gondos Miklós</td><td>3</td><td>145</td></tr>",
                            "<tr><td>MIKLOSB</td><td>Balla Miklós</td><td>3</td><td>145</td></tr>",
                            "<tr><td>norbert5</td><td>Béres Norbert</td><td>3</td><td>145</td></tr>",
                            "<tr><td>ZOLTANT</td><td>Tóth Zoltán</td><td>3</td><td>145</td></tr>",
                            "<tr><td>zsuzsa</td><td>Pusztai Zsuzsanna</td><td>3</td><td>145</td></tr>",
                            "<tr><td>roza2</td><td>Bucskó Róza</td><td>3</td><td>145</td></tr>",
                            "<tr><td>ROBERTP</td><td>Pásztor Róbert</td><td>2</td><td>172</td></tr>",
                            "<tr><td>VIKTORK</td><td>Keresztúri Viktor</td><td>2</td><td>172</td></tr>",
                            "<tr><td>tibor</td><td>Gombos Tibor</td><td>2</td><td>172</td></tr>",
                            "<tr><td>tamara2</td><td>Miklós Tamara</td><td>2</td><td>172</td></tr>",
                            "<tr><td>zoltan</td><td>Fodor Zoltán</td><td>2</td><td>172</td></tr>",
                            "<tr><td>zsofi1</td><td>Molnár Zsófi</td><td>2</td><td>172</td></tr>",
                            "<tr><td>matyas2</td><td>Botka Mátyás</td><td>2</td><td>172</td></tr>",
                            "<tr><td>julia4</td><td>Nagy Júlia</td><td>2</td><td>172</td></tr>",
                            "<tr><td>kristof4</td><td>Poprádi Kristóf</td><td>2</td><td>172</td></tr>",
                            "<tr><td>ISTVANV</td><td>Varga István</td><td>2</td><td>172</td></tr>",
                            "<tr><td>imre</td><td>Búza Imre</td><td>2</td><td>172</td></tr>",
                            "<tr><td>adam3</td><td>Barkóci Ádám</td><td>2</td><td>172</td></tr>",
                            "<tr><td>annamaria1</td><td>Szűcs Annamária</td><td>2</td><td>172</td></tr>",
                            "<tr><td>balint2</td><td>Vukasinovity Bálint</td><td>2</td><td>172</td></tr>",
                            "<tr><td>balu</td><td>Endresz Bálint</td><td>2</td><td>172</td></tr>",
                            "<tr><td>eva</td><td>Enyedi Éva</td><td>2</td><td>172</td></tr>",
                            "<tr><td>david4</td><td>Berta Dávid</td><td>1</td><td>188</td></tr>",
                            "<tr><td>ANDRASN</td><td>Nagy András</td><td>1</td><td>188</td></tr>",
                            "<tr><td>andrea3</td><td>Szomor Andrea</td><td>1</td><td>188</td></tr>",
                            "<tr><td>gabriella10</td><td>Vida Gabriella</td><td>1</td><td>188</td></tr>",
                            "<tr><td>laszlo1</td><td>Farkas László</td><td>1</td><td>188</td></tr>",
                            "<tr><td>tibor2</td><td>Dániel Tibor</td><td>1</td><td>188</td></tr>",
                            "<tr><td>timea</td><td>Papós Tímea</td><td>1</td><td>188</td></tr>",
                            "<tr><td>szabolcs</td><td>Bodor Szabolcs</td><td>1</td><td>188</td></tr>",
                            "</table>"
                        ]
                    }
                }
            ],
            "execution_count": 24
        },
        {
            "cell_type": "code",
            "source": [
                ""
            ],
            "metadata": {
                "language": "sql",
                "azdata_cell_guid": "f086d16e-1044-426a-8e21-1df2d2973300"
            },
            "outputs": [],
            "execution_count": null
        },
        {
            "cell_type": "code",
            "source": [
                "SELECT COUNT(DISTINCT FEROHELY) AS 'különböző értékek',\r\n",
                "    MIN(FEROHELY) as 'minimum',\r\n",
                "    MAX(FEROHELY) as 'maximum',\r\n",
                "    AVG(FEROHELY) as 'átlag',\r\n",
                "    (SELECT COUNT(*) FROM Szoba WHERE Ferohely IS NULL) / (SELECT COUNT(*) FROM Szoba WHERE FEROHELY IS NOT NULL) as \"százalékos arány\"\r\n",
                "FROM Szoba\r\n",
                ""
            ],
            "metadata": {
                "language": "sql",
                "azdata_cell_guid": "a436ffa9-e25d-41e6-923e-d153d23f944a"
            },
            "outputs": [
                {
                    "output_type": "display_data",
                    "data": {
                        "text/html": "(1 row affected)"
                    },
                    "metadata": {}
                },
                {
                    "output_type": "display_data",
                    "data": {
                        "text/html": "Total execution time: 00:00:00.010"
                    },
                    "metadata": {}
                },
                {
                    "output_type": "execute_result",
                    "metadata": {},
                    "execution_count": 20,
                    "data": {
                        "application/vnd.dataresource+json": {
                            "schema": {
                                "fields": [
                                    {
                                        "name": "különböző értékek"
                                    },
                                    {
                                        "name": "minimum"
                                    },
                                    {
                                        "name": "maximum"
                                    },
                                    {
                                        "name": "százalékos arány"
                                    }
                                ]
                            },
                            "data": [
                                {
                                    "különböző értékek": "4",
                                    "minimum": "1",
                                    "maximum": "4",
                                    "százalékos arány": "0"
                                }
                            ]
                        },
                        "text/html": [
                            "<table>",
                            "<tr><th>különböző értékek</th><th>minimum</th><th>maximum</th><th>százalékos arány</th></tr>",
                            "<tr><td>4</td><td>1</td><td>4</td><td>0</td></tr>",
                            "</table>"
                        ]
                    }
                }
            ],
            "execution_count": 20
        },
        {
            "cell_type": "code",
            "source": [
                ""
            ],
            "metadata": {
                "language": "sql",
                "azdata_cell_guid": "74ddd527-f211-4603-bc66-e2b910cfa32d"
            },
            "outputs": [
                {
                    "output_type": "display_data",
                    "data": {
                        "text/html": "(1 row affected)"
                    },
                    "metadata": {}
                },
                {
                    "output_type": "display_data",
                    "data": {
                        "text/html": "Total execution time: 00:00:00.004"
                    },
                    "metadata": {}
                },
                {
                    "output_type": "execute_result",
                    "metadata": {},
                    "execution_count": 19,
                    "data": {
                        "application/vnd.dataresource+json": {
                            "schema": {
                                "fields": [
                                    {
                                        "name": "(No column name)"
                                    }
                                ]
                            },
                            "data": [
                                {
                                    "(No column name)": "0"
                                }
                            ]
                        },
                        "text/html": [
                            "<table>",
                            "<tr><th>(No column name)</th></tr>",
                            "<tr><td>0</td></tr>",
                            "</table>"
                        ]
                    }
                }
            ],
            "execution_count": 19
        },
        {
            "cell_type": "code",
            "source": [
                "SET konyvtar_nev \"konyvtar neve\"\r\n",
                "\r\n",
                "HSET konyv cim \"szep konyv\" tipus \"Fantasy\" kiadas_datuma 2012\r\n",
                "\r\n",
                "SADD mufajok \"Fantasy\" \"Tudomanyos\" \"Szepirodalom\"\r\n",
                "\r\n",
                "RPUSH kikolcsonzott_cimek \"Szep konyv\" \"Jo konyv\" \"Kozepes konyv\"\r\n",
                "\r\n",
                "ZADD konyvkolcsonzes 11 \"Szep konyv\" 13 \"Jo konyv\" 5 \"Kozepes konyv\" "
            ],
            "metadata": {
                "language": "sql",
                "azdata_cell_guid": "14f39998-8717-4bf2-9dfe-3159bda6ec9b"
            },
            "outputs": [
                {
                    "output_type": "error",
                    "evalue": "Msg 8120, Level 16, State 1, Line 1\r\nColumn 'Szoba.SZOBA_ID' is invalid in the select list because it is not contained in either an aggregate function or the GROUP BY clause.",
                    "ename": "",
                    "traceback": []
                },
                {
                    "output_type": "display_data",
                    "data": {
                        "text/html": "Total execution time: 00:00:00.002"
                    },
                    "metadata": {}
                }
            ],
            "execution_count": 10
        },
        {
            "cell_type": "code",
            "source": [
                "create table STUDENT (\r\n",
                "    ID int,\r\n",
                "    Nev text,\r\n",
                "    Teljesitett_ertek list<int>,\r\n",
                "    Eredmenyek map<int, double>,\r\n",
                "    Nyelvtudas set<text>, \r\n",
                "    PRIMARY KEY (ID)\r\n",
                "    );\r\n",
                "\r\n",
                "INSERT INTO STUDENT (ID, Nev, Teljesitett_ertek, eredmenyek, Nyelvtudas) values (1, 'Kiss Béla', [1,2], {1:3.8, 2:4.1}, {'angol', 'francia'});\r\n",
                "\r\n",
                "INSERT INTO STUDENT (ID, Nev, Teljesitett_ertek, eredmenyek, Nyelvtudas) values (2, 'Nagy János', [1,2,3], {1:4.1, 2:4.4}, {'angol', 'nemet'});"
            ],
            "metadata": {
                "language": "sql",
                "azdata_cell_guid": "b64cf847-83ea-4767-8851-bfe4e3f0a2e9"
            },
            "outputs": [],
            "execution_count": null
        },
        {
            "cell_type": "code",
            "source": [
                "match (p:Person)-[:ACTED_IN]->(m:Movie)<-[:ACTED_IN]-(p2:Person)\r\n",
                "with p.name as `nev`\r\n",
                "WHERE p2.name = \"Tom Hanks\" AND p.name <> \"Tom Hanks\"\r\n",
                "return DISTINCT nev"
            ],
            "metadata": {
                "language": "sql",
                "azdata_cell_guid": "3a3ca535-59f6-4441-ad1e-a474ab19ebb1"
            },
            "outputs": [],
            "execution_count": null
        }
    ]
}